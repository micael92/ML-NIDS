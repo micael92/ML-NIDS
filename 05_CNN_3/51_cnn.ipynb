{
 "cells": [
  {
   "cell_type": "markdown",
   "metadata": {},
   "source": [
    "# CNN\n",
    "Training auf Hybrid_b17_test 80%  \n",
    "Validierung auf Hybrid_b17_test 10%   \n",
    "Test auf Hybrid_b17_test 10%  \n",
    "Test auf Hybrid_b17_train mit reduzierten Benign Daten folgt in cnn_test"
   ]
  },
  {
   "cell_type": "code",
   "execution_count": null,
   "metadata": {},
   "outputs": [],
   "source": [
    "import os\n",
    "import logging\n",
    "import pandas as pd\n",
    "import numpy as np\n",
    "import matplotlib.pyplot as plt\n",
    "import seaborn as sns\n",
    "import keras\n",
    "import joblib\n",
    "from sklearn.metrics import classification_report, confusion_matrix\n",
    "from sklearn.preprocessing import LabelEncoder, StandardScaler\n",
    "from sklearn.model_selection import train_test_split"
   ]
  },
  {
   "cell_type": "code",
   "execution_count": 2,
   "metadata": {},
   "outputs": [],
   "source": [
    "# Maximale Zeilen und Spalten anzeigen\n",
    "pd.set_option('display.max_rows', None)  # Zeilen\n",
    "pd.set_option('display.max_columns', None)  # Spalten\n",
    "\n",
    "# Logging Parameter\n",
    "logging.basicConfig(\n",
    "    #filename='',\n",
    "    level=logging.INFO,\n",
    "    format='%(asctime)s - %(levelname)s - %(message)s',\n",
    "    datefmt='%Y-%m-%d %H:%M:%S'\n",
    ")"
   ]
  },
  {
   "cell_type": "code",
   "execution_count": null,
   "metadata": {},
   "outputs": [],
   "source": [
    "!nvidia-smi"
   ]
  },
  {
   "cell_type": "markdown",
   "metadata": {},
   "source": [
    "### Laden des Hybrid-Trainingsdatensatzes"
   ]
  },
  {
   "cell_type": "code",
   "execution_count": 4,
   "metadata": {},
   "outputs": [
    {
     "name": "stderr",
     "output_type": "stream",
     "text": [
      "2024-11-01 12:17:08 - INFO - Class distribution\n",
      "Label\n",
      "DoS Hulk                        1803160\n",
      "BENIGN                          1424304\n",
      "DDoS-LOIC-HTTP                   289328\n",
      "Botnet Ares                      142921\n",
      "SSH-BruteForce                    94197\n",
      "Infiltration - NMAP Portscan      89374\n",
      "DoS GoldenEye                     22560\n",
      "DoS Slowloris                      8490\n",
      "Web Attack - Brute Force            131\n",
      "Web Attack - XSS                    113\n",
      "Web Attack - SQL                     39\n",
      "Name: count, dtype: int64\n"
     ]
    }
   ],
   "source": [
    "# Hybrid-Trainingsdatensatz laden\n",
    "hybrid_b17_train = pd.read_parquet('../01_Datensaetze/improved_hybrid_b17/hybrid_b17_train.parquet')\n",
    "logging.info(\"Class distribution\\n{}\".format(hybrid_b17_train.Label.value_counts()))"
   ]
  },
  {
   "cell_type": "code",
   "execution_count": 5,
   "metadata": {},
   "outputs": [
    {
     "name": "stderr",
     "output_type": "stream",
     "text": [
      "2024-11-01 12:17:08 - INFO - (3874617, 84)\n",
      "2024-11-01 12:17:08 - INFO - Index(['Dst Port', 'Protocol', 'Flow Duration', 'Total Fwd Packet',\n",
      "       'Total Bwd packets', 'Total Length of Fwd Packet',\n",
      "       'Total Length of Bwd Packet', 'Fwd Packet Length Max',\n",
      "       'Fwd Packet Length Min', 'Fwd Packet Length Mean',\n",
      "       'Fwd Packet Length Std', 'Bwd Packet Length Max',\n",
      "       'Bwd Packet Length Min', 'Bwd Packet Length Mean',\n",
      "       'Bwd Packet Length Std', 'Flow Bytes/s', 'Flow Packets/s',\n",
      "       'Flow IAT Mean', 'Flow IAT Std', 'Flow IAT Max', 'Flow IAT Min',\n",
      "       'Fwd IAT Total', 'Fwd IAT Mean', 'Fwd IAT Std', 'Fwd IAT Max',\n",
      "       'Fwd IAT Min', 'Bwd IAT Total', 'Bwd IAT Mean', 'Bwd IAT Std',\n",
      "       'Bwd IAT Max', 'Bwd IAT Min', 'Fwd PSH Flags', 'Bwd PSH Flags',\n",
      "       'Fwd URG Flags', 'Bwd URG Flags', 'Fwd RST Flags', 'Bwd RST Flags',\n",
      "       'Fwd Header Length', 'Bwd Header Length', 'Fwd Packets/s',\n",
      "       'Bwd Packets/s', 'Packet Length Min', 'Packet Length Max',\n",
      "       'Packet Length Mean', 'Packet Length Std', 'Packet Length Variance',\n",
      "       'FIN Flag Count', 'SYN Flag Count', 'RST Flag Count', 'PSH Flag Count',\n",
      "       'ACK Flag Count', 'URG Flag Count', 'CWR Flag Count', 'ECE Flag Count',\n",
      "       'Down/Up Ratio', 'Average Packet Size', 'Fwd Segment Size Avg',\n",
      "       'Bwd Segment Size Avg', 'Fwd Bytes/Bulk Avg', 'Fwd Packet/Bulk Avg',\n",
      "       'Fwd Bulk Rate Avg', 'Bwd Bytes/Bulk Avg', 'Bwd Packet/Bulk Avg',\n",
      "       'Bwd Bulk Rate Avg', 'Subflow Fwd Packets', 'Subflow Fwd Bytes',\n",
      "       'Subflow Bwd Packets', 'Subflow Bwd Bytes', 'FWD Init Win Bytes',\n",
      "       'Bwd Init Win Bytes', 'Fwd Act Data Pkts', 'Fwd Seg Size Min',\n",
      "       'Active Mean', 'Active Std', 'Active Max', 'Active Min', 'Idle Mean',\n",
      "       'Idle Std', 'Idle Max', 'Idle Min', 'ICMP Code', 'ICMP Type',\n",
      "       'Total TCP Flow Time', 'Label'],\n",
      "      dtype='object')\n"
     ]
    }
   ],
   "source": [
    "logging.info(hybrid_b17_train.shape)\n",
    "logging.info(hybrid_b17_train.columns)"
   ]
  },
  {
   "cell_type": "markdown",
   "metadata": {},
   "source": [
    "### Trennen von Features und Labels"
   ]
  },
  {
   "cell_type": "code",
   "execution_count": 6,
   "metadata": {},
   "outputs": [
    {
     "name": "stdout",
     "output_type": "stream",
     "text": [
      "Form von X: (3874617, 83)\n",
      "Form von y: (3874617,)\n"
     ]
    }
   ],
   "source": [
    "X = hybrid_b17_train.iloc[:, :-1]  # Alle Spalten außer der letzten\n",
    "print(\"Form von X:\", X.shape)\n",
    "y = hybrid_b17_train.iloc[:, -1]   # Die letzte Spalte 'Label' ist die Zielvariable\n",
    "print(\"Form von y:\", y.shape)\n"
   ]
  },
  {
   "cell_type": "markdown",
   "metadata": {},
   "source": [
    "### Label Encoding für y"
   ]
  },
  {
   "cell_type": "code",
   "execution_count": 9,
   "metadata": {},
   "outputs": [],
   "source": [
    "label_encoder = LabelEncoder()\n",
    "y_encoded = label_encoder.fit_transform(y)"
   ]
  },
  {
   "cell_type": "code",
   "execution_count": 10,
   "metadata": {},
   "outputs": [
    {
     "name": "stdout",
     "output_type": "stream",
     "text": [
      "Einzigartige Labels: ['BENIGN' 'Botnet Ares' 'DDoS-LOIC-HTTP' 'DoS GoldenEye' 'DoS Hulk'\n",
      " 'DoS Slowloris' 'Infiltration - NMAP Portscan' 'SSH-BruteForce'\n",
      " 'Web Attack - Brute Force' 'Web Attack - SQL' 'Web Attack - XSS']\n",
      "Kodierte Labels: [ 0  1  2  3  4  5  6  7  8  9 10]\n"
     ]
    }
   ],
   "source": [
    "print(\"Einzigartige Labels:\", label_encoder.classes_)\n",
    "print(\"Kodierte Labels:\", np.unique(y_encoded))"
   ]
  },
  {
   "cell_type": "markdown",
   "metadata": {},
   "source": [
    "### Skallierung von X"
   ]
  },
  {
   "cell_type": "code",
   "execution_count": 11,
   "metadata": {},
   "outputs": [
    {
     "name": "stdout",
     "output_type": "stream",
     "text": [
      "Form von X: (3874617, 83)\n",
      "Form von X_scaled: (3874617, 83)\n"
     ]
    }
   ],
   "source": [
    "scaler = StandardScaler()\n",
    "X_scaled = scaler.fit_transform(X)\n",
    "print(\"Form von X:\", X.shape)\n",
    "print(\"Form von X_scaled:\", X_scaled.shape)"
   ]
  },
  {
   "cell_type": "markdown",
   "metadata": {},
   "source": [
    "### Umformen der Daten für das CNN"
   ]
  },
  {
   "cell_type": "code",
   "execution_count": 12,
   "metadata": {},
   "outputs": [
    {
     "name": "stdout",
     "output_type": "stream",
     "text": [
      "Form von X_reshaped: (3874617, 83, 1)\n"
     ]
    }
   ],
   "source": [
    "# Anzahl der Features\n",
    "num_features = X_scaled.shape[1]  # Sollte 83 sein\n",
    "\n",
    "# Umformen zu (Anzahl_Beispiele, num_features, 1)\n",
    "X_reshaped = X_scaled.reshape(-1, num_features, 1)\n",
    "print(\"Form von X_reshaped:\", X_reshaped.shape)  # Erwartet: (1923167, 83, 1)"
   ]
  },
  {
   "cell_type": "markdown",
   "metadata": {},
   "source": [
    "### Aufteilen der Daten in Trainings-, Validierungs- und Testdatensätze"
   ]
  },
  {
   "cell_type": "code",
   "execution_count": 13,
   "metadata": {},
   "outputs": [
    {
     "name": "stdout",
     "output_type": "stream",
     "text": [
      "Form von X_train: (3099693, 83, 1)\n",
      "Form von X_val: (387462, 83, 1)\n",
      "Form von X_test: (387462, 83, 1)\n"
     ]
    }
   ],
   "source": [
    "# Aufteilen in Trainings- und temporären Datensatz\n",
    "X_train, X_temp, y_train, y_temp = train_test_split(\n",
    "    X_reshaped, y_encoded, test_size=0.20, random_state=42, stratify=y_encoded)\n",
    "\n",
    "# Aufteilen des temporären Datensatzes in Validierung und Test\n",
    "X_val, X_test, y_val, y_test = train_test_split(\n",
    "    X_temp, y_temp, test_size=0.50, random_state=42, stratify=y_temp)\n",
    "\n",
    "print(\"Form von X_train:\", X_train.shape)\n",
    "print(\"Form von X_val:\", X_val.shape)\n",
    "print(\"Form von X_test:\", X_test.shape)"
   ]
  },
  {
   "cell_type": "markdown",
   "metadata": {},
   "source": [
    "### Überprüfen der Klassenverteilung"
   ]
  },
  {
   "cell_type": "code",
   "execution_count": 14,
   "metadata": {},
   "outputs": [
    {
     "name": "stdout",
     "output_type": "stream",
     "text": [
      "Klassenverteilung in Trainingsdatensatz:\n",
      "  Klasse 0: 1139443 Beispiele (36.76%)\n",
      "  Klasse 1: 114337 Beispiele (3.69%)\n",
      "  Klasse 2: 231462 Beispiele (7.47%)\n",
      "  Klasse 3: 18048 Beispiele (0.58%)\n",
      "  Klasse 4: 1442528 Beispiele (46.54%)\n",
      "  Klasse 5: 6792 Beispiele (0.22%)\n",
      "  Klasse 6: 71499 Beispiele (2.31%)\n",
      "  Klasse 7: 75358 Beispiele (2.43%)\n",
      "  Klasse 8: 105 Beispiele (0.00%)\n",
      "  Klasse 9: 31 Beispiele (0.00%)\n",
      "  Klasse 10: 90 Beispiele (0.00%)\n",
      "\n",
      "Klassenverteilung in Validierungsdatensatz:\n",
      "  Klasse 0: 142430 Beispiele (36.76%)\n",
      "  Klasse 1: 14292 Beispiele (3.69%)\n",
      "  Klasse 2: 28933 Beispiele (7.47%)\n",
      "  Klasse 3: 2256 Beispiele (0.58%)\n",
      "  Klasse 4: 180316 Beispiele (46.54%)\n",
      "  Klasse 5: 849 Beispiele (0.22%)\n",
      "  Klasse 6: 8938 Beispiele (2.31%)\n",
      "  Klasse 7: 9419 Beispiele (2.43%)\n",
      "  Klasse 8: 13 Beispiele (0.00%)\n",
      "  Klasse 9: 4 Beispiele (0.00%)\n",
      "  Klasse 10: 12 Beispiele (0.00%)\n",
      "\n",
      "Klassenverteilung in Testdatensatz:\n",
      "  Klasse 0: 142431 Beispiele (36.76%)\n",
      "  Klasse 1: 14292 Beispiele (3.69%)\n",
      "  Klasse 2: 28933 Beispiele (7.47%)\n",
      "  Klasse 3: 2256 Beispiele (0.58%)\n",
      "  Klasse 4: 180316 Beispiele (46.54%)\n",
      "  Klasse 5: 849 Beispiele (0.22%)\n",
      "  Klasse 6: 8937 Beispiele (2.31%)\n",
      "  Klasse 7: 9420 Beispiele (2.43%)\n",
      "  Klasse 8: 13 Beispiele (0.00%)\n",
      "  Klasse 9: 4 Beispiele (0.00%)\n",
      "  Klasse 10: 11 Beispiele (0.00%)\n",
      "\n"
     ]
    }
   ],
   "source": [
    "def print_class_distribution(y, dataset_name):\n",
    "    unique, counts = np.unique(y, return_counts=True)\n",
    "    total = len(y)\n",
    "    print(f\"Klassenverteilung in {dataset_name}:\")\n",
    "    for cls, count in zip(unique, counts):\n",
    "        print(f\"  Klasse {cls}: {count} Beispiele ({(count/total)*100:.2f}%)\")\n",
    "    print()\n",
    "\n",
    "print_class_distribution(y_train, \"Trainingsdatensatz\")\n",
    "print_class_distribution(y_val, \"Validierungsdatensatz\")\n",
    "print_class_distribution(y_test, \"Testdatensatz\")"
   ]
  },
  {
   "cell_type": "markdown",
   "metadata": {},
   "source": [
    " ### Modell erstellen und trainieren"
   ]
  },
  {
   "cell_type": "code",
   "execution_count": 15,
   "metadata": {},
   "outputs": [
    {
     "name": "stderr",
     "output_type": "stream",
     "text": [
      "WARNING: All log messages before absl::InitializeLog() is called are written to STDERR\n",
      "I0000 00:00:1730459835.548478  878401 cuda_executor.cc:1001] could not open file to read NUMA node: /sys/bus/pci/devices/0000:01:00.0/numa_node\n",
      "Your kernel may have been built without NUMA support.\n",
      "I0000 00:00:1730459835.565967  878401 cuda_executor.cc:1001] could not open file to read NUMA node: /sys/bus/pci/devices/0000:01:00.0/numa_node\n",
      "Your kernel may have been built without NUMA support.\n",
      "I0000 00:00:1730459835.566005  878401 cuda_executor.cc:1001] could not open file to read NUMA node: /sys/bus/pci/devices/0000:01:00.0/numa_node\n",
      "Your kernel may have been built without NUMA support.\n",
      "I0000 00:00:1730459835.567869  878401 cuda_executor.cc:1001] could not open file to read NUMA node: /sys/bus/pci/devices/0000:01:00.0/numa_node\n",
      "Your kernel may have been built without NUMA support.\n",
      "I0000 00:00:1730459835.567897  878401 cuda_executor.cc:1001] could not open file to read NUMA node: /sys/bus/pci/devices/0000:01:00.0/numa_node\n",
      "Your kernel may have been built without NUMA support.\n",
      "I0000 00:00:1730459835.567908  878401 cuda_executor.cc:1001] could not open file to read NUMA node: /sys/bus/pci/devices/0000:01:00.0/numa_node\n",
      "Your kernel may have been built without NUMA support.\n",
      "I0000 00:00:1730459835.683759  878401 cuda_executor.cc:1001] could not open file to read NUMA node: /sys/bus/pci/devices/0000:01:00.0/numa_node\n",
      "Your kernel may have been built without NUMA support.\n",
      "I0000 00:00:1730459835.683803  878401 cuda_executor.cc:1001] could not open file to read NUMA node: /sys/bus/pci/devices/0000:01:00.0/numa_node\n",
      "Your kernel may have been built without NUMA support.\n",
      "2024-11-01 12:17:15.683812: I tensorflow/core/common_runtime/gpu/gpu_device.cc:2112] Could not identify NUMA node of platform GPU id 0, defaulting to 0.  Your kernel may not have been built with NUMA support.\n",
      "I0000 00:00:1730459835.683840  878401 cuda_executor.cc:1001] could not open file to read NUMA node: /sys/bus/pci/devices/0000:01:00.0/numa_node\n",
      "Your kernel may have been built without NUMA support.\n",
      "2024-11-01 12:17:15.683855: I tensorflow/core/common_runtime/gpu/gpu_device.cc:2021] Created device /job:localhost/replica:0/task:0/device:GPU:0 with 5563 MB memory:  -> device: 0, name: NVIDIA GeForce RTX 4060, pci bus id: 0000:01:00.0, compute capability: 8.9\n"
     ]
    },
    {
     "data": {
      "text/html": [
       "<pre style=\"white-space:pre;overflow-x:auto;line-height:normal;font-family:Menlo,'DejaVu Sans Mono',consolas,'Courier New',monospace\"><span style=\"font-weight: bold\">Model: \"cnn\"</span>\n",
       "</pre>\n"
      ],
      "text/plain": [
       "\u001b[1mModel: \"cnn\"\u001b[0m\n"
      ]
     },
     "metadata": {},
     "output_type": "display_data"
    },
    {
     "data": {
      "text/html": [
       "<pre style=\"white-space:pre;overflow-x:auto;line-height:normal;font-family:Menlo,'DejaVu Sans Mono',consolas,'Courier New',monospace\">┏━━━━━━━━━━━━━━━━━━━━━━━━━━━━━━━━━┳━━━━━━━━━━━━━━━━━━━━━━━━┳━━━━━━━━━━━━━━━┓\n",
       "┃<span style=\"font-weight: bold\"> Layer (type)                    </span>┃<span style=\"font-weight: bold\"> Output Shape           </span>┃<span style=\"font-weight: bold\">       Param # </span>┃\n",
       "┡━━━━━━━━━━━━━━━━━━━━━━━━━━━━━━━━━╇━━━━━━━━━━━━━━━━━━━━━━━━╇━━━━━━━━━━━━━━━┩\n",
       "│ input_layer (<span style=\"color: #0087ff; text-decoration-color: #0087ff\">InputLayer</span>)        │ (<span style=\"color: #00d7ff; text-decoration-color: #00d7ff\">None</span>, <span style=\"color: #00af00; text-decoration-color: #00af00\">83</span>, <span style=\"color: #00af00; text-decoration-color: #00af00\">1</span>)          │             <span style=\"color: #00af00; text-decoration-color: #00af00\">0</span> │\n",
       "├─────────────────────────────────┼────────────────────────┼───────────────┤\n",
       "│ conv1d (<span style=\"color: #0087ff; text-decoration-color: #0087ff\">Conv1D</span>)                 │ (<span style=\"color: #00d7ff; text-decoration-color: #00d7ff\">None</span>, <span style=\"color: #00af00; text-decoration-color: #00af00\">83</span>, <span style=\"color: #00af00; text-decoration-color: #00af00\">120</span>)        │           <span style=\"color: #00af00; text-decoration-color: #00af00\">360</span> │\n",
       "├─────────────────────────────────┼────────────────────────┼───────────────┤\n",
       "│ conv1d_1 (<span style=\"color: #0087ff; text-decoration-color: #0087ff\">Conv1D</span>)               │ (<span style=\"color: #00d7ff; text-decoration-color: #00d7ff\">None</span>, <span style=\"color: #00af00; text-decoration-color: #00af00\">83</span>, <span style=\"color: #00af00; text-decoration-color: #00af00\">60</span>)         │        <span style=\"color: #00af00; text-decoration-color: #00af00\">21,660</span> │\n",
       "├─────────────────────────────────┼────────────────────────┼───────────────┤\n",
       "│ conv1d_2 (<span style=\"color: #0087ff; text-decoration-color: #0087ff\">Conv1D</span>)               │ (<span style=\"color: #00d7ff; text-decoration-color: #00d7ff\">None</span>, <span style=\"color: #00af00; text-decoration-color: #00af00\">83</span>, <span style=\"color: #00af00; text-decoration-color: #00af00\">30</span>)         │         <span style=\"color: #00af00; text-decoration-color: #00af00\">7,230</span> │\n",
       "├─────────────────────────────────┼────────────────────────┼───────────────┤\n",
       "│ flatten (<span style=\"color: #0087ff; text-decoration-color: #0087ff\">Flatten</span>)               │ (<span style=\"color: #00d7ff; text-decoration-color: #00d7ff\">None</span>, <span style=\"color: #00af00; text-decoration-color: #00af00\">2490</span>)           │             <span style=\"color: #00af00; text-decoration-color: #00af00\">0</span> │\n",
       "├─────────────────────────────────┼────────────────────────┼───────────────┤\n",
       "│ dense (<span style=\"color: #0087ff; text-decoration-color: #0087ff\">Dense</span>)                   │ (<span style=\"color: #00d7ff; text-decoration-color: #00d7ff\">None</span>, <span style=\"color: #00af00; text-decoration-color: #00af00\">11</span>)             │        <span style=\"color: #00af00; text-decoration-color: #00af00\">27,401</span> │\n",
       "└─────────────────────────────────┴────────────────────────┴───────────────┘\n",
       "</pre>\n"
      ],
      "text/plain": [
       "┏━━━━━━━━━━━━━━━━━━━━━━━━━━━━━━━━━┳━━━━━━━━━━━━━━━━━━━━━━━━┳━━━━━━━━━━━━━━━┓\n",
       "┃\u001b[1m \u001b[0m\u001b[1mLayer (type)                   \u001b[0m\u001b[1m \u001b[0m┃\u001b[1m \u001b[0m\u001b[1mOutput Shape          \u001b[0m\u001b[1m \u001b[0m┃\u001b[1m \u001b[0m\u001b[1m      Param #\u001b[0m\u001b[1m \u001b[0m┃\n",
       "┡━━━━━━━━━━━━━━━━━━━━━━━━━━━━━━━━━╇━━━━━━━━━━━━━━━━━━━━━━━━╇━━━━━━━━━━━━━━━┩\n",
       "│ input_layer (\u001b[38;5;33mInputLayer\u001b[0m)        │ (\u001b[38;5;45mNone\u001b[0m, \u001b[38;5;34m83\u001b[0m, \u001b[38;5;34m1\u001b[0m)          │             \u001b[38;5;34m0\u001b[0m │\n",
       "├─────────────────────────────────┼────────────────────────┼───────────────┤\n",
       "│ conv1d (\u001b[38;5;33mConv1D\u001b[0m)                 │ (\u001b[38;5;45mNone\u001b[0m, \u001b[38;5;34m83\u001b[0m, \u001b[38;5;34m120\u001b[0m)        │           \u001b[38;5;34m360\u001b[0m │\n",
       "├─────────────────────────────────┼────────────────────────┼───────────────┤\n",
       "│ conv1d_1 (\u001b[38;5;33mConv1D\u001b[0m)               │ (\u001b[38;5;45mNone\u001b[0m, \u001b[38;5;34m83\u001b[0m, \u001b[38;5;34m60\u001b[0m)         │        \u001b[38;5;34m21,660\u001b[0m │\n",
       "├─────────────────────────────────┼────────────────────────┼───────────────┤\n",
       "│ conv1d_2 (\u001b[38;5;33mConv1D\u001b[0m)               │ (\u001b[38;5;45mNone\u001b[0m, \u001b[38;5;34m83\u001b[0m, \u001b[38;5;34m30\u001b[0m)         │         \u001b[38;5;34m7,230\u001b[0m │\n",
       "├─────────────────────────────────┼────────────────────────┼───────────────┤\n",
       "│ flatten (\u001b[38;5;33mFlatten\u001b[0m)               │ (\u001b[38;5;45mNone\u001b[0m, \u001b[38;5;34m2490\u001b[0m)           │             \u001b[38;5;34m0\u001b[0m │\n",
       "├─────────────────────────────────┼────────────────────────┼───────────────┤\n",
       "│ dense (\u001b[38;5;33mDense\u001b[0m)                   │ (\u001b[38;5;45mNone\u001b[0m, \u001b[38;5;34m11\u001b[0m)             │        \u001b[38;5;34m27,401\u001b[0m │\n",
       "└─────────────────────────────────┴────────────────────────┴───────────────┘\n"
      ]
     },
     "metadata": {},
     "output_type": "display_data"
    },
    {
     "data": {
      "text/html": [
       "<pre style=\"white-space:pre;overflow-x:auto;line-height:normal;font-family:Menlo,'DejaVu Sans Mono',consolas,'Courier New',monospace\"><span style=\"font-weight: bold\"> Total params: </span><span style=\"color: #00af00; text-decoration-color: #00af00\">56,651</span> (221.29 KB)\n",
       "</pre>\n"
      ],
      "text/plain": [
       "\u001b[1m Total params: \u001b[0m\u001b[38;5;34m56,651\u001b[0m (221.29 KB)\n"
      ]
     },
     "metadata": {},
     "output_type": "display_data"
    },
    {
     "data": {
      "text/html": [
       "<pre style=\"white-space:pre;overflow-x:auto;line-height:normal;font-family:Menlo,'DejaVu Sans Mono',consolas,'Courier New',monospace\"><span style=\"font-weight: bold\"> Trainable params: </span><span style=\"color: #00af00; text-decoration-color: #00af00\">56,651</span> (221.29 KB)\n",
       "</pre>\n"
      ],
      "text/plain": [
       "\u001b[1m Trainable params: \u001b[0m\u001b[38;5;34m56,651\u001b[0m (221.29 KB)\n"
      ]
     },
     "metadata": {},
     "output_type": "display_data"
    },
    {
     "data": {
      "text/html": [
       "<pre style=\"white-space:pre;overflow-x:auto;line-height:normal;font-family:Menlo,'DejaVu Sans Mono',consolas,'Courier New',monospace\"><span style=\"font-weight: bold\"> Non-trainable params: </span><span style=\"color: #00af00; text-decoration-color: #00af00\">0</span> (0.00 B)\n",
       "</pre>\n"
      ],
      "text/plain": [
       "\u001b[1m Non-trainable params: \u001b[0m\u001b[38;5;34m0\u001b[0m (0.00 B)\n"
      ]
     },
     "metadata": {},
     "output_type": "display_data"
    }
   ],
   "source": [
    "def create_cnn_model(num_features, num_classes):\n",
    "    inputs = keras.layers.Input(shape=(num_features, 1))\n",
    "    x = keras.layers.Conv1D(120, kernel_size=2, activation='relu', padding=\"same\")(inputs)\n",
    "    x = keras.layers.Conv1D(60, kernel_size=3, activation='relu', padding=\"same\")(x)\n",
    "    x = keras.layers.Conv1D(30, kernel_size=4, activation='relu', padding=\"same\")(x)\n",
    "    x = keras.layers.Flatten()(x)\n",
    "    outputs = keras.layers.Dense(num_classes, activation='softmax')(x)\n",
    "    cnn_model = keras.Model(inputs=inputs, outputs=outputs, name='cnn')\n",
    "\n",
    "    # Kompilieren des Modells\n",
    "    cnn_model.compile(loss='sparse_categorical_crossentropy',\n",
    "                      metrics=['sparse_categorical_accuracy'],\n",
    "                      optimizer='adam')\n",
    "\n",
    "    return cnn_model\n",
    "\n",
    "# Anzahl der Klassen (Labels)\n",
    "num_classes = len(label_encoder.classes_)\n",
    "\n",
    "# Modell erstellen\n",
    "cnn_model = create_cnn_model(num_features, num_classes)\n",
    "cnn_model.summary()\n"
   ]
  },
  {
   "cell_type": "markdown",
   "metadata": {},
   "source": [
    "### Trainieren des Modells"
   ]
  },
  {
   "cell_type": "code",
   "execution_count": 16,
   "metadata": {},
   "outputs": [
    {
     "name": "stdout",
     "output_type": "stream",
     "text": [
      "Epoch 1/2\n"
     ]
    },
    {
     "name": "stderr",
     "output_type": "stream",
     "text": [
      "WARNING: All log messages before absl::InitializeLog() is called are written to STDERR\n",
      "I0000 00:00:1730459871.899268  878598 service.cc:146] XLA service 0x7f0f90004500 initialized for platform CUDA (this does not guarantee that XLA will be used). Devices:\n",
      "I0000 00:00:1730459871.899296  878598 service.cc:154]   StreamExecutor device (0): NVIDIA GeForce RTX 4060, Compute Capability 8.9\n",
      "2024-11-01 12:17:51.911958: I tensorflow/compiler/mlir/tensorflow/utils/dump_mlir_util.cc:268] disabling MLIR crash reproducer, set env var `MLIR_CRASH_REPRODUCER_DIRECTORY` to enable.\n",
      "2024-11-01 12:17:51.977124: I external/local_xla/xla/stream_executor/cuda/cuda_dnn.cc:531] Loaded cuDNN version 8907\n"
     ]
    },
    {
     "name": "stdout",
     "output_type": "stream",
     "text": [
      "\u001b[1m  131/96866\u001b[0m \u001b[37m━━━━━━━━━━━━━━━━━━━━\u001b[0m \u001b[1m1:52\u001b[0m 1ms/step - loss: 0.8267 - sparse_categorical_accuracy: 0.8150 "
     ]
    },
    {
     "name": "stderr",
     "output_type": "stream",
     "text": [
      "I0000 00:00:1730459873.192458  878598 device_compiler.h:188] Compiled cluster using XLA!  This line is logged at most once for the lifetime of the process.\n"
     ]
    },
    {
     "name": "stdout",
     "output_type": "stream",
     "text": [
      "\u001b[1m96866/96866\u001b[0m \u001b[32m━━━━━━━━━━━━━━━━━━━━\u001b[0m\u001b[37m\u001b[0m \u001b[1m129s\u001b[0m 1ms/step - loss: 0.0104 - sparse_categorical_accuracy: 0.9979 - val_loss: 0.0036 - val_sparse_categorical_accuracy: 0.9998\n",
      "Epoch 2/2\n",
      "\u001b[1m96866/96866\u001b[0m \u001b[32m━━━━━━━━━━━━━━━━━━━━\u001b[0m\u001b[37m\u001b[0m \u001b[1m125s\u001b[0m 1ms/step - loss: 0.0012 - sparse_categorical_accuracy: 0.9998 - val_loss: 5.9538e-04 - val_sparse_categorical_accuracy: 0.9999\n"
     ]
    },
    {
     "data": {
      "text/plain": [
       "<keras.src.callbacks.history.History at 0x7f158a1598d0>"
      ]
     },
     "execution_count": 16,
     "metadata": {},
     "output_type": "execute_result"
    }
   ],
   "source": [
    "cnn_model.fit(\n",
    "    X_train, y_train,\n",
    "    epochs=2,\n",
    "    batch_size=32,\n",
    "    validation_data=(X_val, y_val)\n",
    ")"
   ]
  },
  {
   "cell_type": "markdown",
   "metadata": {},
   "source": [
    "### Evaluierung des Modells auf dem Testdatensatz"
   ]
  },
  {
   "cell_type": "code",
   "execution_count": 17,
   "metadata": {},
   "outputs": [
    {
     "name": "stdout",
     "output_type": "stream",
     "text": [
      "\u001b[1m12109/12109\u001b[0m \u001b[32m━━━━━━━━━━━━━━━━━━━━\u001b[0m\u001b[37m\u001b[0m \u001b[1m12s\u001b[0m 1ms/step - loss: 3.7929e-04 - sparse_categorical_accuracy: 0.9999\n",
      "Testverlust: 0.0006\n",
      "Testgenauigkeit: 0.9999\n"
     ]
    }
   ],
   "source": [
    "test_loss, test_accuracy = cnn_model.evaluate(X_test, y_test)\n",
    "print(f\"Testverlust: {test_loss:.4f}\")\n",
    "print(f\"Testgenauigkeit: {test_accuracy:.4f}\")"
   ]
  },
  {
   "cell_type": "markdown",
   "metadata": {},
   "source": [
    "### Klassifikationsbericht und eine Konfusionsmatrix"
   ]
  },
  {
   "cell_type": "code",
   "execution_count": 18,
   "metadata": {},
   "outputs": [
    {
     "name": "stdout",
     "output_type": "stream",
     "text": [
      "\u001b[1m12109/12109\u001b[0m \u001b[32m━━━━━━━━━━━━━━━━━━━━\u001b[0m\u001b[37m\u001b[0m \u001b[1m8s\u001b[0m 638us/step\n",
      "                              precision    recall  f1-score   support\n",
      "\n",
      "                      BENIGN       1.00      1.00      1.00    142431\n",
      "                 Botnet Ares       1.00      1.00      1.00     14292\n",
      "              DDoS-LOIC-HTTP       1.00      1.00      1.00     28933\n",
      "               DoS GoldenEye       1.00      1.00      1.00      2256\n",
      "                    DoS Hulk       1.00      1.00      1.00    180316\n",
      "               DoS Slowloris       1.00      1.00      1.00       849\n",
      "Infiltration - NMAP Portscan       1.00      1.00      1.00      8937\n",
      "              SSH-BruteForce       1.00      1.00      1.00      9420\n",
      "    Web Attack - Brute Force       1.00      1.00      1.00        13\n",
      "            Web Attack - SQL       1.00      0.75      0.86         4\n",
      "            Web Attack - XSS       1.00      1.00      1.00        11\n",
      "\n",
      "                    accuracy                           1.00    387462\n",
      "                   macro avg       1.00      0.98      0.99    387462\n",
      "                weighted avg       1.00      1.00      1.00    387462\n",
      "\n",
      "Konfusionsmatrix:\n",
      "[[142427      0      0      1      0      0      3      0      0      0\n",
      "       0]\n",
      " [     0  14292      0      0      0      0      0      0      0      0\n",
      "       0]\n",
      " [     0      0  28933      0      0      0      0      0      0      0\n",
      "       0]\n",
      " [     0      0      0   2256      0      0      0      0      0      0\n",
      "       0]\n",
      " [     0      0      0      0 180316      0      0      0      0      0\n",
      "       0]\n",
      " [     1      0      0      0      3    845      0      0      0      0\n",
      "       0]\n",
      " [    34      0      0      0      0      0   8903      0      0      0\n",
      "       0]\n",
      " [     0      0      0      0      0      0      0   9420      0      0\n",
      "       0]\n",
      " [     0      0      0      0      0      0      0      0     13      0\n",
      "       0]\n",
      " [     1      0      0      0      0      0      0      0      0      3\n",
      "       0]\n",
      " [     0      0      0      0      0      0      0      0      0      0\n",
      "      11]]\n"
     ]
    }
   ],
   "source": [
    "# Vorhersagen auf dem Testdatensatz\n",
    "y_pred_prob = cnn_model.predict(X_test)\n",
    "y_pred_classes = np.argmax(y_pred_prob, axis=1)\n",
    "\n",
    "# Klassifikationsbericht\n",
    "print(classification_report(y_test, y_pred_classes, target_names=label_encoder.classes_))\n",
    "\n",
    "# Konfusionsmatrix\n",
    "cm = confusion_matrix(y_test, y_pred_classes)\n",
    "print(\"Konfusionsmatrix:\")\n",
    "print(cm)"
   ]
  },
  {
   "cell_type": "markdown",
   "metadata": {},
   "source": [
    "Visualisierung der Konfusionsmatrix"
   ]
  },
  {
   "cell_type": "code",
   "execution_count": 20,
   "metadata": {},
   "outputs": [
    {
     "data": {
      "image/png": "[encoded data removed]",
      "text/plain": [
       "<Figure size 1000x800 with 2 Axes>"
      ]
     },
     "metadata": {},
     "output_type": "display_data"
    }
   ],
   "source": [
    "plt.figure(figsize=(10, 8))\n",
    "sns.heatmap(cm, annot=True, fmt='d', cmap='Blues',\n",
    "            xticklabels=label_encoder.classes_,\n",
    "            yticklabels=label_encoder.classes_)\n",
    "plt.xlabel('Vorhergesagte Klasse')\n",
    "plt.ylabel('Wahre Klasse')\n",
    "plt.title('Konfusionsmatrix')\n",
    "plt.show()\n"
   ]
  },
  {
   "cell_type": "markdown",
   "metadata": {},
   "source": [
    "### Speichern des Modells und der Vorverarbeitungsschritte"
   ]
  },
  {
   "cell_type": "code",
   "execution_count": null,
   "metadata": {},
   "outputs": [
    {
     "name": "stderr",
     "output_type": "stream",
     "text": [
      "2024-11-01 12:25:22 - WARNING - You are saving your model as an HDF5 file via `model.save()` or `keras.saving.save_model(model)`. This file format is considered legacy. We recommend using instead the native Keras format, e.g. `model.save('my_model.keras')` or `keras.saving.save_model(model, 'my_model.keras')`. \n"
     ]
    },
    {
     "data": {
      "text/plain": [
       "['scaler.pkl']"
      ]
     },
     "execution_count": 21,
     "metadata": {},
     "output_type": "execute_result"
    }
   ],
   "source": [
    "cnn_model.save('hybrid_cnn_model.h5')\n",
    "joblib.dump(label_encoder, 'label_encoder.pkl')\n",
    "joblib.dump(scaler, 'scaler.pkl')"
   ]
  }
 ],
 "metadata": {
  "kernelspec": {
   "display_name": ".venv",
   "language": "python",
   "name": "python3"
  },
  "language_info": {
   "codemirror_mode": {
    "name": "ipython",
    "version": 3
   },
   "file_extension": ".py",
   "mimetype": "text/x-python",
   "name": "python",
   "nbconvert_exporter": "python",
   "pygments_lexer": "ipython3",
   "version": "3.10.12"
  }
 },
 "nbformat": 4,
 "nbformat_minor": 2
}
