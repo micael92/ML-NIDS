{
 "cells": [
  {
   "cell_type": "markdown",
   "metadata": {},
   "source": [
    "# Decision Tree\n",
    "Training auf IDS17 80%  \n",
    "Validierung auf IDS17 10%   \n",
    "Test auf IDS17 10%  \n",
    "Test auf IDS18 mit reduzierten Benign Daten folgt in Decision_Tree_test"
   ]
  },
  {
   "cell_type": "code",
   "execution_count": null,
   "metadata": {},
   "outputs": [],
   "source": [
    "import os\n",
    "import logging\n",
    "import pandas as pd\n",
    "import numpy as np\n",
    "import matplotlib.pyplot as plt\n",
    "import seaborn as sns\n",
    "from sklearn.tree import DecisionTreeClassifier, export_text\n",
    "from sklearn.metrics import classification_report, confusion_matrix, accuracy_score\n",
    "from sklearn.preprocessing import LabelEncoder, StandardScaler\n",
    "from sklearn.model_selection import train_test_split, GridSearchCV\n",
    "import joblib"
   ]
  },
  {
   "cell_type": "code",
   "execution_count": null,
   "metadata": {},
   "outputs": [],
   "source": [
    "# Maximale Zeilen und Spalten anzeigen\n",
    "pd.set_option('display.max_rows', None)  # Zeilen\n",
    "pd.set_option('display.max_columns', None)  # Spalten\n",
    "\n",
    "# Logging Parameter\n",
    "logging.basicConfig(\n",
    "    #filename='',\n",
    "    level=logging.INFO,\n",
    "    format='%(asctime)s - %(levelname)s - %(message)s',\n",
    "    datefmt='%Y-%m-%d %H:%M:%S'\n",
    ")\n",
    "\n",
    "# Verzeichnis der CSV-Dateien\n",
    "parquet_verzeichnis_ids17 = '../01_Datensaetze/improved_cic-ids-2017/ids17_parquet'\n",
    "parquet_verzeichnis_ids18 = '../01_Datensaetze/improved_cse-cic-ids-2018/ids18_parquet'"
   ]
  },
  {
   "cell_type": "markdown",
   "metadata": {},
   "source": [
    "### Laden von IDS17"
   ]
  },
  {
   "cell_type": "code",
   "execution_count": 3,
   "metadata": {},
   "outputs": [
    {
     "name": "stdout",
     "output_type": "stream",
     "text": [
      "Class distribution\n",
      "Label\n",
      "BENIGN                          1582561\n",
      "DoS Hulk                         158468\n",
      "DDoS-LOIC-HTTP                    95144\n",
      "Infiltration - NMAP Portscan      71767\n",
      "DoS GoldenEye                      7567\n",
      "DoS Slowloris                      3859\n",
      "SSH-BruteForce                     2961\n",
      "Botnet Ares                         736\n",
      "Web Attack - Brute Force             73\n",
      "Web Attack - XSS                     18\n",
      "Web Attack - SQL                     13\n",
      "Name: count, dtype: int64\n"
     ]
    }
   ],
   "source": [
    "# IDS17 Datensatz einlesen für Training 80%, Validierung 10% und Test 10%\n",
    "ids17 = pd.read_parquet(os.path.join(parquet_verzeichnis_ids17 + '_prep_0'))\n",
    "print(\"Class distribution\\n{}\".format(ids17.Label.value_counts()))"
   ]
  },
  {
   "cell_type": "code",
   "execution_count": 4,
   "metadata": {},
   "outputs": [
    {
     "name": "stdout",
     "output_type": "stream",
     "text": [
      "(1923167, 84)\n",
      "Index(['Dst Port', 'Protocol', 'Flow Duration', 'Total Fwd Packet',\n",
      "       'Total Bwd packets', 'Total Length of Fwd Packet',\n",
      "       'Total Length of Bwd Packet', 'Fwd Packet Length Max',\n",
      "       'Fwd Packet Length Min', 'Fwd Packet Length Mean',\n",
      "       'Fwd Packet Length Std', 'Bwd Packet Length Max',\n",
      "       'Bwd Packet Length Min', 'Bwd Packet Length Mean',\n",
      "       'Bwd Packet Length Std', 'Flow Bytes/s', 'Flow Packets/s',\n",
      "       'Flow IAT Mean', 'Flow IAT Std', 'Flow IAT Max', 'Flow IAT Min',\n",
      "       'Fwd IAT Total', 'Fwd IAT Mean', 'Fwd IAT Std', 'Fwd IAT Max',\n",
      "       'Fwd IAT Min', 'Bwd IAT Total', 'Bwd IAT Mean', 'Bwd IAT Std',\n",
      "       'Bwd IAT Max', 'Bwd IAT Min', 'Fwd PSH Flags', 'Bwd PSH Flags',\n",
      "       'Fwd URG Flags', 'Bwd URG Flags', 'Fwd RST Flags', 'Bwd RST Flags',\n",
      "       'Fwd Header Length', 'Bwd Header Length', 'Fwd Packets/s',\n",
      "       'Bwd Packets/s', 'Packet Length Min', 'Packet Length Max',\n",
      "       'Packet Length Mean', 'Packet Length Std', 'Packet Length Variance',\n",
      "       'FIN Flag Count', 'SYN Flag Count', 'RST Flag Count', 'PSH Flag Count',\n",
      "       'ACK Flag Count', 'URG Flag Count', 'CWR Flag Count', 'ECE Flag Count',\n",
      "       'Down/Up Ratio', 'Average Packet Size', 'Fwd Segment Size Avg',\n",
      "       'Bwd Segment Size Avg', 'Fwd Bytes/Bulk Avg', 'Fwd Packet/Bulk Avg',\n",
      "       'Fwd Bulk Rate Avg', 'Bwd Bytes/Bulk Avg', 'Bwd Packet/Bulk Avg',\n",
      "       'Bwd Bulk Rate Avg', 'Subflow Fwd Packets', 'Subflow Fwd Bytes',\n",
      "       'Subflow Bwd Packets', 'Subflow Bwd Bytes', 'FWD Init Win Bytes',\n",
      "       'Bwd Init Win Bytes', 'Fwd Act Data Pkts', 'Fwd Seg Size Min',\n",
      "       'Active Mean', 'Active Std', 'Active Max', 'Active Min', 'Idle Mean',\n",
      "       'Idle Std', 'Idle Max', 'Idle Min', 'ICMP Code', 'ICMP Type',\n",
      "       'Total TCP Flow Time', 'Label'],\n",
      "      dtype='object')\n"
     ]
    }
   ],
   "source": [
    "print(ids17.shape)\n",
    "print(ids17.columns)"
   ]
  },
  {
   "cell_type": "markdown",
   "metadata": {},
   "source": [
    "### Trennen von Features und Labels"
   ]
  },
  {
   "cell_type": "code",
   "execution_count": 5,
   "metadata": {},
   "outputs": [
    {
     "name": "stdout",
     "output_type": "stream",
     "text": [
      "Form von X: (1923167, 83)\n",
      "Form von y: (1923167,)\n"
     ]
    }
   ],
   "source": [
    "X = ids17.iloc[:, :-1]  # Alle Spalten außer der letzten\n",
    "print(f\"Form von X: {X.shape}\")\n",
    "y = ids17.iloc[:, -1]   # Die letzte Spalte\n",
    "print(f\"Form von y: {y.shape}\")"
   ]
  },
  {
   "cell_type": "markdown",
   "metadata": {},
   "source": [
    "### Label Encoding für y"
   ]
  },
  {
   "cell_type": "code",
   "execution_count": 6,
   "metadata": {},
   "outputs": [
    {
     "name": "stdout",
     "output_type": "stream",
     "text": [
      "Einzigartige Labels: ['BENIGN' 'Botnet Ares' 'DDoS-LOIC-HTTP' 'DoS GoldenEye' 'DoS Hulk'\n",
      " 'DoS Slowloris' 'Infiltration - NMAP Portscan' 'SSH-BruteForce'\n",
      " 'Web Attack - Brute Force' 'Web Attack - SQL' 'Web Attack - XSS']\n",
      "Kodierte Labels: [ 0  1  2  3  4  5  6  7  8  9 10]\n"
     ]
    }
   ],
   "source": [
    "label_encoder = LabelEncoder()\n",
    "y_encoded = label_encoder.fit_transform(y)\n",
    "\n",
    "print(f\"Einzigartige Labels: {label_encoder.classes_}\")\n",
    "print(f\"Kodierte Labels: {np.unique(y_encoded)}\")"
   ]
  },
  {
   "cell_type": "markdown",
   "metadata": {},
   "source": [
    "### Skallierung von X"
   ]
  },
  {
   "cell_type": "code",
   "execution_count": null,
   "metadata": {},
   "outputs": [
    {
     "name": "stdout",
     "output_type": "stream",
     "text": [
      "Form von X: (1923167, 83)\n",
      "Form von X_scaled: (1923167, 83)\n"
     ]
    }
   ],
   "source": [
    "scaler = StandardScaler()\n",
    "X_scaled = scaler.fit_transform(X)\n",
    "\n",
    "print(f\"Form von X: {X.shape}\")\n",
    "print(f\"Form von X_scaled: {X_scaled.shape}\")"
   ]
  },
  {
   "cell_type": "markdown",
   "metadata": {},
   "source": [
    "### Aufteilen der Daten in Trainings-, Validierungs- und Testdatensätze"
   ]
  },
  {
   "cell_type": "code",
   "execution_count": 8,
   "metadata": {},
   "outputs": [
    {
     "name": "stdout",
     "output_type": "stream",
     "text": [
      "Form von X_train: (1538533, 83)\n",
      "Form von X_val: (192317, 83)\n",
      "Form von X_test: (192317, 83)\n"
     ]
    }
   ],
   "source": [
    "# Aufteilen in Trainings- und temporären Datensatz\n",
    "X_train, X_temp, y_train, y_temp = train_test_split(\n",
    "    X_scaled, y_encoded, test_size=0.20, random_state=42, stratify=y_encoded)\n",
    "\n",
    "# Aufteilen des temporären Datensatzes in Validierung und Test\n",
    "X_val, X_test, y_val, y_test = train_test_split(\n",
    "    X_temp, y_temp, test_size=0.50, random_state=42, stratify=y_temp)\n",
    "\n",
    "print(f\"Form von X_train: {X_train.shape}\")\n",
    "print(f\"Form von X_val: {X_val.shape}\")\n",
    "print(f\"Form von X_test: {X_test.shape}\")"
   ]
  },
  {
   "cell_type": "markdown",
   "metadata": {},
   "source": [
    "### Überprüfen der Klassenverteilung"
   ]
  },
  {
   "cell_type": "code",
   "execution_count": 9,
   "metadata": {},
   "outputs": [
    {
     "name": "stdout",
     "output_type": "stream",
     "text": [
      "Klassenverteilung in Trainingsdatensatz:\n",
      "  Klasse 0: 1266048 Beispiele (82.29%)\n",
      "  Klasse 1: 589 Beispiele (0.04%)\n",
      "  Klasse 2: 76115 Beispiele (4.95%)\n",
      "  Klasse 3: 6054 Beispiele (0.39%)\n",
      "  Klasse 4: 126774 Beispiele (8.24%)\n",
      "  Klasse 5: 3087 Beispiele (0.20%)\n",
      "  Klasse 6: 57414 Beispiele (3.73%)\n",
      "  Klasse 7: 2369 Beispiele (0.15%)\n",
      "  Klasse 8: 58 Beispiele (0.00%)\n",
      "  Klasse 9: 11 Beispiele (0.00%)\n",
      "  Klasse 10: 14 Beispiele (0.00%)\n",
      "\n",
      "Klassenverteilung in Validierungsdatensatz:\n",
      "  Klasse 0: 158257 Beispiele (82.29%)\n",
      "  Klasse 1: 74 Beispiele (0.04%)\n",
      "  Klasse 2: 9514 Beispiele (4.95%)\n",
      "  Klasse 3: 756 Beispiele (0.39%)\n",
      "  Klasse 4: 15847 Beispiele (8.24%)\n",
      "  Klasse 5: 386 Beispiele (0.20%)\n",
      "  Klasse 6: 7176 Beispiele (3.73%)\n",
      "  Klasse 7: 296 Beispiele (0.15%)\n",
      "  Klasse 8: 8 Beispiele (0.00%)\n",
      "  Klasse 9: 1 Beispiele (0.00%)\n",
      "  Klasse 10: 2 Beispiele (0.00%)\n",
      "\n",
      "Klassenverteilung in Testdatensatz:\n",
      "  Klasse 0: 158256 Beispiele (82.29%)\n",
      "  Klasse 1: 73 Beispiele (0.04%)\n",
      "  Klasse 2: 9515 Beispiele (4.95%)\n",
      "  Klasse 3: 757 Beispiele (0.39%)\n",
      "  Klasse 4: 15847 Beispiele (8.24%)\n",
      "  Klasse 5: 386 Beispiele (0.20%)\n",
      "  Klasse 6: 7177 Beispiele (3.73%)\n",
      "  Klasse 7: 296 Beispiele (0.15%)\n",
      "  Klasse 8: 7 Beispiele (0.00%)\n",
      "  Klasse 9: 1 Beispiele (0.00%)\n",
      "  Klasse 10: 2 Beispiele (0.00%)\n",
      "\n"
     ]
    }
   ],
   "source": [
    "def print_class_distribution(y, dataset_name):\n",
    "    unique, counts = np.unique(y, return_counts=True)\n",
    "    total = len(y)\n",
    "    print(f\"Klassenverteilung in {dataset_name}:\")\n",
    "    for cls, count in zip(unique, counts):\n",
    "        print(f\"  Klasse {cls}: {count} Beispiele ({(count/total)*100:.2f}%)\")\n",
    "    print()\n",
    "\n",
    "print_class_distribution(y_train, \"Trainingsdatensatz\")\n",
    "print_class_distribution(y_val, \"Validierungsdatensatz\")\n",
    "print_class_distribution(y_test, \"Testdatensatz\")"
   ]
  },
  {
   "cell_type": "markdown",
   "metadata": {},
   "source": [
    "### Hyperparameter-Tuning mit dem Validierungsdatensatz"
   ]
  },
  {
   "cell_type": "code",
   "execution_count": null,
   "metadata": {},
   "outputs": [
    {
     "name": "stdout",
     "output_type": "stream",
     "text": [
      "Fitting 5 folds for each of 4 candidates, totalling 20 fits\n",
      "[CV 4/5; 1/4] START criterion=entropy, max_depth=None, min_samples_leaf=1, min_samples_split=2\n",
      "[CV 2/5; 1/4] START criterion=entropy, max_depth=None, min_samples_leaf=1, min_samples_split=2\n",
      "[CV 3/5; 2/4] START criterion=entropy, max_depth=None, min_samples_leaf=1, min_samples_split=10\n",
      "[CV 5/5; 4/4] START criterion=entropy, max_depth=None, min_samples_leaf=4, min_samples_split=10\n",
      "[CV 1/5; 1/4] START criterion=entropy, max_depth=None, min_samples_leaf=1, min_samples_split=2\n",
      "[CV 3/5; 1/4] START criterion=entropy, max_depth=None, min_samples_leaf=1, min_samples_split=2\n",
      "[CV 5/5; 1/4] START criterion=entropy, max_depth=None, min_samples_leaf=1, min_samples_split=2\n",
      "[CV 1/5; 2/4] START criterion=entropy, max_depth=None, min_samples_leaf=1, min_samples_split=10\n",
      "[CV 5/5; 3/4] START criterion=entropy, max_depth=None, min_samples_leaf=4, min_samples_split=2\n",
      "[CV 4/5; 4/4] START criterion=entropy, max_depth=None, min_samples_leaf=4, min_samples_split=10\n",
      "[CV 3/5; 3/4] START criterion=entropy, max_depth=None, min_samples_leaf=4, min_samples_split=2\n",
      "[CV 1/5; 3/4] START criterion=entropy, max_depth=None, min_samples_leaf=4, min_samples_split=2\n",
      "[CV 3/5; 4/4] START criterion=entropy, max_depth=None, min_samples_leaf=4, min_samples_split=10\n",
      "[CV 4/5; 2/4] START criterion=entropy, max_depth=None, min_samples_leaf=1, min_samples_split=10\n",
      "[CV 2/5; 3/4] START criterion=entropy, max_depth=None, min_samples_leaf=4, min_samples_split=2\n",
      "[CV 4/5; 3/4] START criterion=entropy, max_depth=None, min_samples_leaf=4, min_samples_split=2\n",
      "[CV 5/5; 2/4] START criterion=entropy, max_depth=None, min_samples_leaf=1, min_samples_split=10\n",
      "[CV 2/5; 2/4] START criterion=entropy, max_depth=None, min_samples_leaf=1, min_samples_split=10\n",
      "[CV 1/5; 4/4] START criterion=entropy, max_depth=None, min_samples_leaf=4, min_samples_split=10\n",
      "[CV 2/5; 4/4] START criterion=entropy, max_depth=None, min_samples_leaf=4, min_samples_split=10\n"
     ]
    }
   ],
   "source": [
    "# param_grid = {\n",
    "#     'criterion': ['gini', 'entropy'],\n",
    "#     'max_depth': [None, 10, 20, 30],\n",
    "#     'min_samples_split': [2, 5, 10],\n",
    "#     'min_samples_leaf': [1, 2, 4]\n",
    "# }\n",
    "\n",
    "param_grid = {\n",
    "    'criterion': ['entropy'],\n",
    "    'max_depth': [None],\n",
    "    'min_samples_split': [2, 10],\n",
    "    'min_samples_leaf': [1, 4]\n",
    "}\n",
    "\n",
    "grid_search = GridSearchCV(DecisionTreeClassifier(\n",
    "    random_state=42), \n",
    "    param_grid, \n",
    "    cv=5, \n",
    "    scoring='accuracy',\n",
    "    n_jobs=-1,\n",
    "    verbose=10)\n",
    "\n",
    "grid_search.fit(X_train, y_train)"
   ]
  },
  {
   "cell_type": "markdown",
   "metadata": {},
   "source": [
    " ### Bestes Modell auswählen"
   ]
  },
  {
   "cell_type": "code",
   "execution_count": 12,
   "metadata": {},
   "outputs": [
    {
     "name": "stderr",
     "output_type": "stream",
     "text": [
      "2024-11-01 18:51:42 - INFO - Beste Hyperparameter: {'criterion': 'entropy', 'max_depth': None, 'min_samples_leaf': 1, 'min_samples_split': 2}\n"
     ]
    }
   ],
   "source": [
    "best_model = grid_search.best_estimator_\n",
    "logging.info(f\"Beste Hyperparameter: {grid_search.best_params_}\")"
   ]
  },
  {
   "cell_type": "markdown",
   "metadata": {},
   "source": [
    "### Evaluierung auf dem Validierungsdatensatz"
   ]
  },
  {
   "cell_type": "code",
   "execution_count": null,
   "metadata": {},
   "outputs": [
    {
     "name": "stderr",
     "output_type": "stream",
     "text": [
      "/home/michi/BA/.venv/lib/python3.10/site-packages/sklearn/metrics/_classification.py:1531: UndefinedMetricWarning: Precision is ill-defined and being set to 0.0 in labels with no predicted samples. Use `zero_division` parameter to control this behavior.\n",
      "  _warn_prf(average, modifier, f\"{metric.capitalize()} is\", len(result))\n",
      "/home/michi/BA/.venv/lib/python3.10/site-packages/sklearn/metrics/_classification.py:1531: UndefinedMetricWarning: Precision is ill-defined and being set to 0.0 in labels with no predicted samples. Use `zero_division` parameter to control this behavior.\n",
      "  _warn_prf(average, modifier, f\"{metric.capitalize()} is\", len(result))\n",
      "/home/michi/BA/.venv/lib/python3.10/site-packages/sklearn/metrics/_classification.py:1531: UndefinedMetricWarning: Precision is ill-defined and being set to 0.0 in labels with no predicted samples. Use `zero_division` parameter to control this behavior.\n",
      "  _warn_prf(average, modifier, f\"{metric.capitalize()} is\", len(result))\n",
      "2024-11-01 18:52:00 - INFO - Validierungs-Accuracy: 99.99%\n",
      "2024-11-01 18:52:00 - INFO - \n",
      "Validierungs Classification Report:\n",
      "              precision    recall  f1-score   support\n",
      "\n",
      "           0       1.00      1.00      1.00    158257\n",
      "           1       1.00      1.00      1.00        74\n",
      "           2       1.00      1.00      1.00      9514\n",
      "           3       1.00      1.00      1.00       756\n",
      "           4       1.00      1.00      1.00     15847\n",
      "           5       1.00      1.00      1.00       386\n",
      "           6       1.00      1.00      1.00      7176\n",
      "           7       1.00      1.00      1.00       296\n",
      "           8       0.89      1.00      0.94         8\n",
      "           9       0.00      0.00      0.00         1\n",
      "          10       1.00      1.00      1.00         2\n",
      "\n",
      "    accuracy                           1.00    192317\n",
      "   macro avg       0.90      0.91      0.90    192317\n",
      "weighted avg       1.00      1.00      1.00    192317\n",
      "\n"
     ]
    }
   ],
   "source": [
    "y_val_pred = best_model.predict(X_val)\n",
    "val_accuracy = accuracy_score(y_val, y_val_pred)\n",
    "val_report = classification_report(y_val, y_val_pred)\n",
    "\n",
    "print(f\"Validierungs-Accuracy: {val_accuracy * 100:.2f}%\")\n",
    "print(\"\\nValidierungs Classification Report:\\n\" + val_report)"
   ]
  },
  {
   "cell_type": "markdown",
   "metadata": {},
   "source": [
    "### Evaluierung des Modells auf dem Testdatensatz"
   ]
  },
  {
   "cell_type": "code",
   "execution_count": null,
   "metadata": {},
   "outputs": [
    {
     "name": "stdout",
     "output_type": "stream",
     "text": [
      "Accuracy: 99.99%\n",
      "\n",
      "Classification Report:\n",
      "              precision    recall  f1-score   support\n",
      "\n",
      "           0       1.00      1.00      1.00    158256\n",
      "           1       1.00      1.00      1.00        73\n",
      "           2       1.00      1.00      1.00      9515\n",
      "           3       1.00      0.99      1.00       757\n",
      "           4       1.00      1.00      1.00     15847\n",
      "           5       1.00      0.99      1.00       386\n",
      "           6       1.00      1.00      1.00      7177\n",
      "           7       1.00      1.00      1.00       296\n",
      "           8       1.00      1.00      1.00         7\n",
      "           9       1.00      1.00      1.00         1\n",
      "          10       1.00      0.50      0.67         2\n",
      "\n",
      "    accuracy                           1.00    192317\n",
      "   macro avg       1.00      0.95      0.97    192317\n",
      "weighted avg       1.00      1.00      1.00    192317\n",
      "\n"
     ]
    }
   ],
   "source": [
    "y_test_pred = best_model.predict(X_test)\n",
    "test_accuracy = accuracy_score(y_test, y_test_pred)\n",
    "test_report = classification_report(y_test, y_test_pred)\n",
    "logging.info(f\"Test-Accuracy: {test_accuracy * 100:.2f}%\")\n",
    "logging.info(\"\\nTest Classification Report:\\n\" + test_report)"
   ]
  },
  {
   "cell_type": "markdown",
   "metadata": {},
   "source": [
    "### Klassifikationsbericht und eine Konfusionsmatrix"
   ]
  },
  {
   "cell_type": "code",
   "execution_count": 12,
   "metadata": {},
   "outputs": [
    {
     "name": "stdout",
     "output_type": "stream",
     "text": [
      "                              precision    recall  f1-score   support\n",
      "\n",
      "                      BENIGN       1.00      1.00      1.00    158256\n",
      "                 Botnet Ares       1.00      1.00      1.00        73\n",
      "              DDoS-LOIC-HTTP       1.00      1.00      1.00      9515\n",
      "               DoS GoldenEye       1.00      0.99      1.00       757\n",
      "                    DoS Hulk       1.00      1.00      1.00     15847\n",
      "               DoS Slowloris       1.00      0.99      1.00       386\n",
      "Infiltration - NMAP Portscan       1.00      1.00      1.00      7177\n",
      "              SSH-BruteForce       1.00      1.00      1.00       296\n",
      "    Web Attack - Brute Force       1.00      1.00      1.00         7\n",
      "            Web Attack - SQL       1.00      1.00      1.00         1\n",
      "            Web Attack - XSS       1.00      0.50      0.67         2\n",
      "\n",
      "                    accuracy                           1.00    192317\n",
      "                   macro avg       1.00      0.95      0.97    192317\n",
      "                weighted avg       1.00      1.00      1.00    192317\n",
      "\n",
      "Konfusionsmatrix:\n",
      "[[158251      0      1      0      3      0      1      0      0      0\n",
      "       0]\n",
      " [     0     73      0      0      0      0      0      0      0      0\n",
      "       0]\n",
      " [     0      0   9515      0      0      0      0      0      0      0\n",
      "       0]\n",
      " [     3      0      0    752      1      1      0      0      0      0\n",
      "       0]\n",
      " [     1      0      0      0  15846      0      0      0      0      0\n",
      "       0]\n",
      " [     2      0      0      0      0    384      0      0      0      0\n",
      "       0]\n",
      " [     5      0      0      0      0      0   7172      0      0      0\n",
      "       0]\n",
      " [     1      0      0      0      0      0      0    295      0      0\n",
      "       0]\n",
      " [     0      0      0      0      0      0      0      0      7      0\n",
      "       0]\n",
      " [     0      0      0      0      0      0      0      0      0      1\n",
      "       0]\n",
      " [     1      0      0      0      0      0      0      0      0      0\n",
      "       1]]\n"
     ]
    }
   ],
   "source": [
    "# Klassifikationsbericht\n",
    "print(classification_report(y_test, y_pred, target_names=label_encoder.classes_))\n",
    "\n",
    "# Konfusionsmatrix\n",
    "cm = confusion_matrix(y_test, y_pred)\n",
    "print(\"Konfusionsmatrix:\")\n",
    "print(cm)"
   ]
  },
  {
   "cell_type": "markdown",
   "metadata": {},
   "source": [
    "Visualisierung der Konfusionsmatrix"
   ]
  },
  {
   "cell_type": "code",
   "execution_count": 13,
   "metadata": {},
   "outputs": [
    {
     "data": {
      "image/png": "[encoded data removed]",
      "text/plain": [
       "<Figure size 1000x800 with 2 Axes>"
      ]
     },
     "metadata": {},
     "output_type": "display_data"
    }
   ],
   "source": [
    "import seaborn as sns\n",
    "\n",
    "plt.figure(figsize=(10, 8))\n",
    "sns.heatmap(cm, annot=True, fmt='d', cmap='Blues',\n",
    "            xticklabels=label_encoder.classes_,\n",
    "            yticklabels=label_encoder.classes_)\n",
    "plt.xlabel('Vorhergesagte Klasse')\n",
    "plt.ylabel('Wahre Klasse')\n",
    "plt.title('Konfusionsmatrix')\n",
    "plt.show()\n"
   ]
  },
  {
   "cell_type": "code",
   "execution_count": 14,
   "metadata": {},
   "outputs": [
    {
     "name": "stdout",
     "output_type": "stream",
     "text": [
      "\n",
      "Decision Tree Structure:\n",
      "\n",
      "|--- Bwd Packet Length Std <= 0.99\n",
      "|   |--- Flow Packets/s <= 0.18\n",
      "|   |   |--- Active Std <= 9.17\n",
      "|   |   |   |--- Dst Port <= -0.14\n",
      "|   |   |   |   |--- Fwd Packet Length Max <= 0.63\n",
      "|   |   |   |   |   |--- Fwd IAT Total <= -0.42\n",
      "|   |   |   |   |   |   |--- FIN Flag Count <= 0.27\n",
      "|   |   |   |   |   |   |   |--- class: 6\n",
      "|   |   |   |   |   |   |--- FIN Flag Count >  0.27\n",
      "|   |   |   |   |   |   |   |--- class: 0\n",
      "|   |   |   |   |   |--- Fwd IAT Total >  -0.42\n",
      "|   |   |   |   |   |   |--- ICMP Code <= 79.54\n",
      "|   |   |   |   |   |   |   |--- Fwd Packet Length Std <= 0.50\n",
      "|   |   |   |   |   |   |   |   |--- Fwd Seg Size Min <= 2.26\n",
      "|   |   |   |   |   |   |   |   |   |--- Fwd RST Flags <= 1.32\n",
      "|   |   |   |   |   |   |   |   |   |   |--- Bwd IAT Std <= -0.22\n",
      "|   |   |   |   |   |   |   |   |   |   |   |--- truncated branch of depth 5\n",
      "|   |   |   |   |   |   |   |   |   |   |--- Bwd IAT Std >  -0.22\n",
      "|   |   |   |   |   |   |   |   |   |   |   |--- truncated branch of depth 2\n",
      "|   |   |   |   |   |   |   |   |   |--- Fwd RST Flags >  1.32\n",
      "|   |   |   |   |   |   |   |   |   |   |--- Packet Length Max <= -0.57\n",
      "|   |   |   |   |   |   |   |   |   |   |   |--- class: 6\n",
      "|   |   |   |   |   |   |   |   |   |   |--- Packet Length Max >  -0.57\n",
      "|   |   |   |   |   |   |   |   |   |   |   |--- class: 0\n",
      "|   |   |   |   |   |   |   |   |--- Fwd Seg Size Min >  2.26\n",
      "|   |   |   |   |   |   |   |   |   |--- Total Fwd Packet <= 0.02\n",
      "|   |   |   |   |   |   |   |   |   |   |--- class: 6\n",
      "|   |   |   |   |   |   |   |   |   |--- Total Fwd Packet >  0.02\n",
      "|   |   |   |   |   |   |   |   |   |   |--- class: 0\n",
      "|   |   |   |   |   |   |   |--- Fwd Packet Length Std >  0.50\n",
      "|   |   |   |   |   |   |   |   |--- class: 6\n",
      "|   |   |   |   |   |   |--- ICMP Code >  79.54\n",
      "|   |   |   |   |   |   |   |--- ICMP Code <= 119.32\n",
      "|   |   |   |   |   |   |   |   |--- class: 6\n",
      "|   |   |   |   |   |   |   |--- ICMP Code >  119.32\n",
      "|   |   |   |   |   |   |   |   |--- class: 0\n",
      "|   |   |   |   |--- Fwd Packet Length Max >  0.63\n",
      "|   |   |   |   |   |--- class: 7\n",
      "|   |   |   |--- Dst Port >  -0.14\n",
      "|   |   |   |   |--- Dst Port <= -0.04\n",
      "|   |   |   |   |   |--- Bwd Packet Length Std <= 0.79\n",
      "|   |   |   |   |   |   |--- Bwd IAT Max <= 6.59\n",
      "|   |   |   |   |   |   |   |--- SYN Flag Count <= 6.07\n",
      "|   |   |   |   |   |   |   |   |--- SYN Flag Count <= 2.38\n",
      "|   |   |   |   |   |   |   |   |   |--- Fwd PSH Flags <= 20.36\n",
      "|   |   |   |   |   |   |   |   |   |   |--- Total TCP Flow Time <= 2.12\n",
      "|   |   |   |   |   |   |   |   |   |   |   |--- truncated branch of depth 19\n",
      "|   |   |   |   |   |   |   |   |   |   |--- Total TCP Flow Time >  2.12\n",
      "|   |   |   |   |   |   |   |   |   |   |   |--- truncated branch of depth 7\n",
      "|   |   |   |   |   |   |   |   |   |--- Fwd PSH Flags >  20.36\n",
      "|   |   |   |   |   |   |   |   |   |   |--- Total Bwd packets <= 0.09\n",
      "|   |   |   |   |   |   |   |   |   |   |   |--- truncated branch of depth 2\n",
      "|   |   |   |   |   |   |   |   |   |   |--- Total Bwd packets >  0.09\n",
      "|   |   |   |   |   |   |   |   |   |   |   |--- class: 0\n",
      "|   |   |   |   |   |   |   |   |--- SYN Flag Count >  2.38\n",
      "|   |   |   |   |   |   |   |   |   |--- FIN Flag Count <= 2.78\n",
      "|   |   |   |   |   |   |   |   |   |   |--- Total TCP Flow Time <= 0.43\n",
      "|   |   |   |   |   |   |   |   |   |   |   |--- truncated branch of depth 10\n",
      "|   |   |   |   |   |   |   |   |   |   |--- Total TCP Flow Time >  0.43\n",
      "|   |   |   |   |   |   |   |   |   |   |   |--- class: 4\n",
      "|   |   |   |   |   |   |   |   |   |--- FIN Flag Count >  2.78\n",
      "|   |   |   |   |   |   |   |   |   |   |--- Bwd Init Win Bytes <= -0.12\n",
      "|   |   |   |   |   |   |   |   |   |   |   |--- truncated branch of depth 7\n",
      "|   |   |   |   |   |   |   |   |   |   |--- Bwd Init Win Bytes >  -0.12\n",
      "|   |   |   |   |   |   |   |   |   |   |   |--- truncated branch of depth 2\n",
      "|   |   |   |   |   |   |   |--- SYN Flag Count >  6.07\n",
      "|   |   |   |   |   |   |   |   |--- Fwd IAT Total <= -0.24\n",
      "|   |   |   |   |   |   |   |   |   |--- class: 6\n",
      "|   |   |   |   |   |   |   |   |--- Fwd IAT Total >  -0.24\n",
      "|   |   |   |   |   |   |   |   |   |--- class: 0\n",
      "|   |   |   |   |   |   |--- Bwd IAT Max >  6.59\n",
      "|   |   |   |   |   |   |   |--- Bwd Packet Length Max <= -0.57\n",
      "|   |   |   |   |   |   |   |   |--- PSH Flag Count <= -0.07\n",
      "|   |   |   |   |   |   |   |   |   |--- class: 0\n",
      "|   |   |   |   |   |   |   |   |--- PSH Flag Count >  -0.07\n",
      "|   |   |   |   |   |   |   |   |   |--- class: 5\n",
      "|   |   |   |   |   |   |   |--- Bwd Packet Length Max >  -0.57\n",
      "|   |   |   |   |   |   |   |   |--- Total TCP Flow Time <= 2.61\n",
      "|   |   |   |   |   |   |   |   |   |--- Idle Min <= 0.04\n",
      "|   |   |   |   |   |   |   |   |   |   |--- Bwd Packet Length Std <= 0.30\n",
      "|   |   |   |   |   |   |   |   |   |   |   |--- class: 0\n",
      "|   |   |   |   |   |   |   |   |   |   |--- Bwd Packet Length Std >  0.30\n",
      "|   |   |   |   |   |   |   |   |   |   |   |--- class: 3\n",
      "|   |   |   |   |   |   |   |   |   |--- Idle Min >  0.04\n",
      "|   |   |   |   |   |   |   |   |   |   |--- Active Max <= 3.85\n",
      "|   |   |   |   |   |   |   |   |   |   |   |--- class: 0\n",
      "|   |   |   |   |   |   |   |   |   |   |--- Active Max >  3.85\n",
      "|   |   |   |   |   |   |   |   |   |   |   |--- truncated branch of depth 2\n",
      "|   |   |   |   |   |   |   |   |--- Total TCP Flow Time >  2.61\n",
      "|   |   |   |   |   |   |   |   |   |--- class: 5\n",
      "|   |   |   |   |   |--- Bwd Packet Length Std >  0.79\n",
      "|   |   |   |   |   |   |--- Total Length of Fwd Packet <= -0.13\n",
      "|   |   |   |   |   |   |   |--- class: 2\n",
      "|   |   |   |   |   |   |--- Total Length of Fwd Packet >  -0.13\n",
      "|   |   |   |   |   |   |   |--- Bwd Bulk Rate Avg <= 1.42\n",
      "|   |   |   |   |   |   |   |   |--- Fwd IAT Total <= -0.41\n",
      "|   |   |   |   |   |   |   |   |   |--- class: 4\n",
      "|   |   |   |   |   |   |   |   |--- Fwd IAT Total >  -0.41\n",
      "|   |   |   |   |   |   |   |   |   |--- Fwd Bytes/Bulk Avg <= 0.81\n",
      "|   |   |   |   |   |   |   |   |   |   |--- Fwd RST Flags <= 2.43\n",
      "|   |   |   |   |   |   |   |   |   |   |   |--- truncated branch of depth 4\n",
      "|   |   |   |   |   |   |   |   |   |   |--- Fwd RST Flags >  2.43\n",
      "|   |   |   |   |   |   |   |   |   |   |   |--- truncated branch of depth 3\n",
      "|   |   |   |   |   |   |   |   |   |--- Fwd Bytes/Bulk Avg >  0.81\n",
      "|   |   |   |   |   |   |   |   |   |   |--- Flow IAT Mean <= -0.21\n",
      "|   |   |   |   |   |   |   |   |   |   |   |--- class: 0\n",
      "|   |   |   |   |   |   |   |   |   |   |--- Flow IAT Mean >  -0.21\n",
      "|   |   |   |   |   |   |   |   |   |   |   |--- class: 4\n",
      "|   |   |   |   |   |   |   |--- Bwd Bulk Rate Avg >  1.42\n",
      "|   |   |   |   |   |   |   |   |--- Fwd RST Flags <= 0.22\n",
      "|   |   |   |   |   |   |   |   |   |--- Bwd Packet Length Max <= 0.83\n",
      "|   |   |   |   |   |   |   |   |   |   |--- FWD Init Win Bytes <= 0.60\n",
      "|   |   |   |   |   |   |   |   |   |   |   |--- class: 6\n",
      "|   |   |   |   |   |   |   |   |   |   |--- FWD Init Win Bytes >  0.60\n",
      "|   |   |   |   |   |   |   |   |   |   |   |--- truncated branch of depth 2\n",
      "|   |   |   |   |   |   |   |   |   |--- Bwd Packet Length Max >  0.83\n",
      "|   |   |   |   |   |   |   |   |   |   |--- class: 0\n",
      "|   |   |   |   |   |   |   |   |--- Fwd RST Flags >  0.22\n",
      "|   |   |   |   |   |   |   |   |   |--- Bwd PSH Flags <= 0.04\n",
      "|   |   |   |   |   |   |   |   |   |   |--- class: 4\n",
      "|   |   |   |   |   |   |   |   |   |--- Bwd PSH Flags >  0.04\n",
      "|   |   |   |   |   |   |   |   |   |   |--- class: 0\n",
      "|   |   |   |   |--- Dst Port >  -0.04\n",
      "|   |   |   |   |   |--- Total Length of Fwd Packet <= -0.08\n",
      "|   |   |   |   |   |   |--- Bwd Packet Length Std <= -0.46\n",
      "|   |   |   |   |   |   |   |--- Fwd IAT Min <= -0.13\n",
      "|   |   |   |   |   |   |   |   |--- FWD Init Win Bytes <= -0.55\n",
      "|   |   |   |   |   |   |   |   |   |--- class: 0\n",
      "|   |   |   |   |   |   |   |   |--- FWD Init Win Bytes >  -0.55\n",
      "|   |   |   |   |   |   |   |   |   |--- Bwd Header Length <= 0.01\n",
      "|   |   |   |   |   |   |   |   |   |   |--- Subflow Fwd Bytes <= -0.26\n",
      "|   |   |   |   |   |   |   |   |   |   |   |--- truncated branch of depth 6\n",
      "|   |   |   |   |   |   |   |   |   |   |--- Subflow Fwd Bytes >  -0.26\n",
      "|   |   |   |   |   |   |   |   |   |   |   |--- class: 0\n",
      "|   |   |   |   |   |   |   |   |   |--- Bwd Header Length >  0.01\n",
      "|   |   |   |   |   |   |   |   |   |   |--- class: 0\n",
      "|   |   |   |   |   |   |   |--- Fwd IAT Min >  -0.13\n",
      "|   |   |   |   |   |   |   |   |--- class: 0\n",
      "|   |   |   |   |   |   |--- Bwd Packet Length Std >  -0.46\n",
      "|   |   |   |   |   |   |   |--- Packet Length Max <= -0.49\n",
      "|   |   |   |   |   |   |   |   |--- class: 1\n",
      "|   |   |   |   |   |   |   |--- Packet Length Max >  -0.49\n",
      "|   |   |   |   |   |   |   |   |--- class: 0\n",
      "|   |   |   |   |   |--- Total Length of Fwd Packet >  -0.08\n",
      "|   |   |   |   |   |   |--- Total Length of Fwd Packet <= 8.84\n",
      "|   |   |   |   |   |   |   |--- Dst Port <= 0.10\n",
      "|   |   |   |   |   |   |   |   |--- class: 6\n",
      "|   |   |   |   |   |   |   |--- Dst Port >  0.10\n",
      "|   |   |   |   |   |   |   |   |--- Packet Length Min <= 8.08\n",
      "|   |   |   |   |   |   |   |   |   |--- Bwd IAT Min <= -0.14\n",
      "|   |   |   |   |   |   |   |   |   |   |--- class: 0\n",
      "|   |   |   |   |   |   |   |   |   |--- Bwd IAT Min >  -0.14\n",
      "|   |   |   |   |   |   |   |   |   |   |--- Flow IAT Std <= -0.28\n",
      "|   |   |   |   |   |   |   |   |   |   |   |--- class: 1\n",
      "|   |   |   |   |   |   |   |   |   |   |--- Flow IAT Std >  -0.28\n",
      "|   |   |   |   |   |   |   |   |   |   |   |--- class: 0\n",
      "|   |   |   |   |   |   |   |   |--- Packet Length Min >  8.08\n",
      "|   |   |   |   |   |   |   |   |   |--- class: 6\n",
      "|   |   |   |   |   |   |--- Total Length of Fwd Packet >  8.84\n",
      "|   |   |   |   |   |   |   |--- class: 1\n",
      "|   |   |--- Active Std >  9.17\n",
      "|   |   |   |--- Bwd IAT Mean <= 1.37\n",
      "|   |   |   |   |--- Fwd IAT Total <= -0.21\n",
      "|   |   |   |   |   |--- class: 6\n",
      "|   |   |   |   |--- Fwd IAT Total >  -0.21\n",
      "|   |   |   |   |   |--- SYN Flag Count <= 2.38\n",
      "|   |   |   |   |   |   |--- Bwd IAT Mean <= 1.04\n",
      "|   |   |   |   |   |   |   |--- class: 0\n",
      "|   |   |   |   |   |   |--- Bwd IAT Mean >  1.04\n",
      "|   |   |   |   |   |   |   |--- Flow Bytes/s <= -0.12\n",
      "|   |   |   |   |   |   |   |   |--- class: 0\n",
      "|   |   |   |   |   |   |   |--- Flow Bytes/s >  -0.12\n",
      "|   |   |   |   |   |   |   |   |--- class: 5\n",
      "|   |   |   |   |   |--- SYN Flag Count >  2.38\n",
      "|   |   |   |   |   |   |--- Idle Min <= 0.04\n",
      "|   |   |   |   |   |   |   |--- Average Packet Size <= -0.33\n",
      "|   |   |   |   |   |   |   |   |--- class: 0\n",
      "|   |   |   |   |   |   |   |--- Average Packet Size >  -0.33\n",
      "|   |   |   |   |   |   |   |   |--- class: 3\n",
      "|   |   |   |   |   |   |--- Idle Min >  0.04\n",
      "|   |   |   |   |   |   |   |--- Fwd Bytes/Bulk Avg <= 0.65\n",
      "|   |   |   |   |   |   |   |   |--- class: 0\n",
      "|   |   |   |   |   |   |   |--- Fwd Bytes/Bulk Avg >  0.65\n",
      "|   |   |   |   |   |   |   |   |--- class: 5\n",
      "|   |   |   |--- Bwd IAT Mean >  1.37\n",
      "|   |   |   |   |--- Fwd Segment Size Avg <= 2.39\n",
      "|   |   |   |   |   |--- ACK Flag Count <= -0.00\n",
      "|   |   |   |   |   |   |--- class: 5\n",
      "|   |   |   |   |   |--- ACK Flag Count >  -0.00\n",
      "|   |   |   |   |   |   |--- class: 0\n",
      "|   |   |   |   |--- Fwd Segment Size Avg >  2.39\n",
      "|   |   |   |   |   |--- class: 3\n",
      "|   |--- Flow Packets/s >  0.18\n",
      "|   |   |--- FWD Init Win Bytes <= -0.55\n",
      "|   |   |   |--- Fwd Seg Size Min <= 1.15\n",
      "|   |   |   |   |--- Fwd Packet Length Mean <= 2.34\n",
      "|   |   |   |   |   |--- ICMP Code <= 79.54\n",
      "|   |   |   |   |   |   |--- Fwd Header Length <= -0.24\n",
      "|   |   |   |   |   |   |   |--- Average Packet Size <= -0.71\n",
      "|   |   |   |   |   |   |   |   |--- Packet Length Mean <= -0.77\n",
      "|   |   |   |   |   |   |   |   |   |--- class: 0\n",
      "|   |   |   |   |   |   |   |   |--- Packet Length Mean >  -0.77\n",
      "|   |   |   |   |   |   |   |   |   |--- class: 6\n",
      "|   |   |   |   |   |   |   |--- Average Packet Size >  -0.71\n",
      "|   |   |   |   |   |   |   |   |--- Packet Length Max <= -0.57\n",
      "|   |   |   |   |   |   |   |   |   |--- Total Length of Bwd Packet <= -0.01\n",
      "|   |   |   |   |   |   |   |   |   |   |--- class: 6\n",
      "|   |   |   |   |   |   |   |   |   |--- Total Length of Bwd Packet >  -0.01\n",
      "|   |   |   |   |   |   |   |   |   |   |--- class: 0\n",
      "|   |   |   |   |   |   |   |   |--- Packet Length Max >  -0.57\n",
      "|   |   |   |   |   |   |   |   |   |--- Bwd Packet Length Mean <= -0.37\n",
      "|   |   |   |   |   |   |   |   |   |   |--- class: 0\n",
      "|   |   |   |   |   |   |   |   |   |--- Bwd Packet Length Mean >  -0.37\n",
      "|   |   |   |   |   |   |   |   |   |   |--- Flow IAT Min <= -0.05\n",
      "|   |   |   |   |   |   |   |   |   |   |   |--- class: 6\n",
      "|   |   |   |   |   |   |   |   |   |   |--- Flow IAT Min >  -0.05\n",
      "|   |   |   |   |   |   |   |   |   |   |   |--- class: 0\n",
      "|   |   |   |   |   |   |--- Fwd Header Length >  -0.24\n",
      "|   |   |   |   |   |   |   |--- class: 0\n",
      "|   |   |   |   |   |--- ICMP Code >  79.54\n",
      "|   |   |   |   |   |   |--- class: 6\n",
      "|   |   |   |   |--- Fwd Packet Length Mean >  2.34\n",
      "|   |   |   |   |   |--- Fwd Header Length <= -0.19\n",
      "|   |   |   |   |   |   |--- class: 6\n",
      "|   |   |   |   |   |--- Fwd Header Length >  -0.19\n",
      "|   |   |   |   |   |   |--- class: 0\n",
      "|   |   |   |--- Fwd Seg Size Min >  1.15\n",
      "|   |   |   |   |--- Dst Port <= -0.12\n",
      "|   |   |   |   |   |--- Dst Port <= -0.13\n",
      "|   |   |   |   |   |   |--- class: 5\n",
      "|   |   |   |   |   |--- Dst Port >  -0.13\n",
      "|   |   |   |   |   |   |--- class: 6\n",
      "|   |   |   |   |--- Dst Port >  -0.12\n",
      "|   |   |   |   |   |--- class: 0\n",
      "|   |   |--- FWD Init Win Bytes >  -0.55\n",
      "|   |   |   |--- Total TCP Flow Time <= -0.08\n",
      "|   |   |   |   |--- FWD Init Win Bytes <= 2.58\n",
      "|   |   |   |   |   |--- Flow IAT Min <= -0.05\n",
      "|   |   |   |   |   |   |--- class: 6\n",
      "|   |   |   |   |   |--- Flow IAT Min >  -0.05\n",
      "|   |   |   |   |   |   |--- Dst Port <= -0.02\n",
      "|   |   |   |   |   |   |   |--- class: 0\n",
      "|   |   |   |   |   |   |--- Dst Port >  -0.02\n",
      "|   |   |   |   |   |   |   |--- class: 6\n",
      "|   |   |   |   |--- FWD Init Win Bytes >  2.58\n",
      "|   |   |   |   |   |--- Fwd Seg Size Min <= 2.26\n",
      "|   |   |   |   |   |   |--- class: 0\n",
      "|   |   |   |   |   |--- Fwd Seg Size Min >  2.26\n",
      "|   |   |   |   |   |   |--- class: 6\n",
      "|   |   |   |--- Total TCP Flow Time >  -0.08\n",
      "|   |   |   |   |--- Packet Length Max <= -0.52\n",
      "|   |   |   |   |   |--- class: 0\n",
      "|   |   |   |   |--- Packet Length Max >  -0.52\n",
      "|   |   |   |   |   |--- class: 6\n",
      "|--- Bwd Packet Length Std >  0.99\n",
      "|   |--- Fwd Packet Length Max <= -0.35\n",
      "|   |   |--- class: 2\n",
      "|   |--- Fwd Packet Length Max >  -0.35\n",
      "|   |   |--- Bwd IAT Max <= -0.08\n",
      "|   |   |   |--- Dst Port <= -0.09\n",
      "|   |   |   |   |--- Fwd RST Flags <= 0.22\n",
      "|   |   |   |   |   |--- Fwd PSH Flags <= 2.06\n",
      "|   |   |   |   |   |   |--- class: 0\n",
      "|   |   |   |   |   |--- Fwd PSH Flags >  2.06\n",
      "|   |   |   |   |   |   |--- class: 8\n",
      "|   |   |   |   |--- Fwd RST Flags >  0.22\n",
      "|   |   |   |   |   |--- FIN Flag Count <= -0.23\n",
      "|   |   |   |   |   |   |--- Bwd Packet Length Std <= 2.13\n",
      "|   |   |   |   |   |   |   |--- Flow Duration <= -0.33\n",
      "|   |   |   |   |   |   |   |   |--- class: 4\n",
      "|   |   |   |   |   |   |   |--- Flow Duration >  -0.33\n",
      "|   |   |   |   |   |   |   |   |--- class: 0\n",
      "|   |   |   |   |   |   |--- Bwd Packet Length Std >  2.13\n",
      "|   |   |   |   |   |   |   |--- class: 3\n",
      "|   |   |   |   |   |--- FIN Flag Count >  -0.23\n",
      "|   |   |   |   |   |   |--- Fwd Segment Size Avg <= 1.78\n",
      "|   |   |   |   |   |   |   |--- class: 4\n",
      "|   |   |   |   |   |   |--- Fwd Segment Size Avg >  1.78\n",
      "|   |   |   |   |   |   |   |--- class: 0\n",
      "|   |   |   |--- Dst Port >  -0.09\n",
      "|   |   |   |   |--- class: 0\n",
      "|   |   |--- Bwd IAT Max >  -0.08\n",
      "|   |   |   |--- Dst Port <= -0.09\n",
      "|   |   |   |   |--- FIN Flag Count <= 0.77\n",
      "|   |   |   |   |   |--- Down/Up Ratio <= 0.17\n",
      "|   |   |   |   |   |   |--- Bwd Init Win Bytes <= -0.09\n",
      "|   |   |   |   |   |   |   |--- class: 3\n",
      "|   |   |   |   |   |   |--- Bwd Init Win Bytes >  -0.09\n",
      "|   |   |   |   |   |   |   |--- class: 0\n",
      "|   |   |   |   |   |--- Down/Up Ratio >  0.17\n",
      "|   |   |   |   |   |   |--- class: 0\n",
      "|   |   |   |   |--- FIN Flag Count >  0.77\n",
      "|   |   |   |   |   |--- Active Mean <= 3.62\n",
      "|   |   |   |   |   |   |--- ACK Flag Count <= -0.01\n",
      "|   |   |   |   |   |   |   |--- Fwd Header Length <= -0.01\n",
      "|   |   |   |   |   |   |   |   |--- class: 0\n",
      "|   |   |   |   |   |   |   |--- Fwd Header Length >  -0.01\n",
      "|   |   |   |   |   |   |   |   |--- class: 9\n",
      "|   |   |   |   |   |   |--- ACK Flag Count >  -0.01\n",
      "|   |   |   |   |   |   |   |--- class: 0\n",
      "|   |   |   |   |   |--- Active Mean >  3.62\n",
      "|   |   |   |   |   |   |--- class: 4\n",
      "|   |   |   |--- Dst Port >  -0.09\n",
      "|   |   |   |   |--- class: 0\n",
      "\n"
     ]
    }
   ],
   "source": [
    "print(\"\\nDecision Tree Structure:\\n\")\n",
    "print(export_text(model, feature_names=list(X.columns)))"
   ]
  },
  {
   "cell_type": "markdown",
   "metadata": {},
   "source": [
    "### Speichern des Modells und der Vorverarbeitungsschritte"
   ]
  },
  {
   "cell_type": "code",
   "execution_count": null,
   "metadata": {},
   "outputs": [
    {
     "data": {
      "text/plain": [
       "['decision_tree_model.pkl']"
      ]
     },
     "execution_count": 15,
     "metadata": {},
     "output_type": "execute_result"
    }
   ],
   "source": [
    "joblib.dump(label_encoder, 'label_encoder.pkl')\n",
    "joblib.dump(scaler, 'scaler.pkl')\n",
    "joblib.dump(best_model, 'decision_tree_model.pkl')"
   ]
  }
 ],
 "metadata": {
  "kernelspec": {
   "display_name": ".venv",
   "language": "python",
   "name": "python3"
  },
  "language_info": {
   "codemirror_mode": {
    "name": "ipython",
    "version": 3
   },
   "file_extension": ".py",
   "mimetype": "text/x-python",
   "name": "python",
   "nbconvert_exporter": "python",
   "pygments_lexer": "ipython3",
   "version": "3.10.12"
  }
 },
 "nbformat": 4,
 "nbformat_minor": 2
}
