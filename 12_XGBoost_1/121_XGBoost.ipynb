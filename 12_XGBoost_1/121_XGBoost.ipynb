{
 "cells": [
  {
   "cell_type": "markdown",
   "metadata": {},
   "source": [
    "# XGBoost\n",
    "Training auf IDS17 80%  \n",
    "Validierung auf IDS17 10%   \n",
    "Test auf IDS17 10%"
   ]
  },
  {
   "cell_type": "code",
   "execution_count": 3,
   "metadata": {},
   "outputs": [],
   "source": [
    "import os\n",
    "import logging\n",
    "import pandas as pd\n",
    "import numpy as np\n",
    "import matplotlib.pyplot as plt\n",
    "import seaborn as sns\n",
    "from xgboost import XGBClassifier\n",
    "from sklearn.metrics import classification_report, confusion_matrix, accuracy_score\n",
    "from sklearn.preprocessing import LabelEncoder, StandardScaler\n",
    "from sklearn.model_selection import train_test_split, GridSearchCV\n",
    "import joblib"
   ]
  },
  {
   "cell_type": "code",
   "execution_count": 4,
   "metadata": {},
   "outputs": [],
   "source": [
    "# Maximale Zeilen und Spalten anzeigen\n",
    "pd.set_option('display.max_rows', None)  # Zeilen\n",
    "pd.set_option('display.max_columns', None)  # Spalten\n",
    "\n",
    "# Logging Parameter\n",
    "logging.basicConfig(\n",
    "    #filename='',\n",
    "    level=logging.INFO,\n",
    "    format='%(asctime)s - %(levelname)s - %(message)s',\n",
    "    datefmt='%Y-%m-%d %H:%M:%S'\n",
    ")\n",
    "\n",
    "# Verzeichnis der CSV-Dateien\n",
    "parquet_verzeichnis_ids17 = '../01_Datensaetze/improved_cic-ids-2017/ids17_parquet'\n",
    "parquet_verzeichnis_ids18 = '../01_Datensaetze/improved_cse-cic-ids-2018/ids18_parquet'"
   ]
  },
  {
   "cell_type": "markdown",
   "metadata": {},
   "source": [
    "### Laden von IDS17"
   ]
  },
  {
   "cell_type": "code",
   "execution_count": 5,
   "metadata": {},
   "outputs": [
    {
     "name": "stdout",
     "output_type": "stream",
     "text": [
      "Class distribution\n",
      "Label\n",
      "BENIGN                          1582561\n",
      "DoS Hulk                         158468\n",
      "DDoS-LOIC-HTTP                    95144\n",
      "Infiltration - NMAP Portscan      71767\n",
      "DoS GoldenEye                      7567\n",
      "DoS Slowloris                      3859\n",
      "SSH-BruteForce                     2961\n",
      "Botnet Ares                         736\n",
      "Web Attack - Brute Force             73\n",
      "Web Attack - XSS                     18\n",
      "Web Attack - SQL                     13\n",
      "Name: count, dtype: int64\n"
     ]
    }
   ],
   "source": [
    "# IDS17 Datensatz einlesen für Training 80%, Validierung 10% und Test 10%\n",
    "ids17 = pd.read_parquet(os.path.join(parquet_verzeichnis_ids17 + '_prep_0'))\n",
    "print(\"Class distribution\\n{}\".format(ids17.Label.value_counts()))"
   ]
  },
  {
   "cell_type": "code",
   "execution_count": 6,
   "metadata": {},
   "outputs": [
    {
     "name": "stdout",
     "output_type": "stream",
     "text": [
      "(1923167, 84)\n",
      "Index(['Dst Port', 'Protocol', 'Flow Duration', 'Total Fwd Packet',\n",
      "       'Total Bwd packets', 'Total Length of Fwd Packet',\n",
      "       'Total Length of Bwd Packet', 'Fwd Packet Length Max',\n",
      "       'Fwd Packet Length Min', 'Fwd Packet Length Mean',\n",
      "       'Fwd Packet Length Std', 'Bwd Packet Length Max',\n",
      "       'Bwd Packet Length Min', 'Bwd Packet Length Mean',\n",
      "       'Bwd Packet Length Std', 'Flow Bytes/s', 'Flow Packets/s',\n",
      "       'Flow IAT Mean', 'Flow IAT Std', 'Flow IAT Max', 'Flow IAT Min',\n",
      "       'Fwd IAT Total', 'Fwd IAT Mean', 'Fwd IAT Std', 'Fwd IAT Max',\n",
      "       'Fwd IAT Min', 'Bwd IAT Total', 'Bwd IAT Mean', 'Bwd IAT Std',\n",
      "       'Bwd IAT Max', 'Bwd IAT Min', 'Fwd PSH Flags', 'Bwd PSH Flags',\n",
      "       'Fwd URG Flags', 'Bwd URG Flags', 'Fwd RST Flags', 'Bwd RST Flags',\n",
      "       'Fwd Header Length', 'Bwd Header Length', 'Fwd Packets/s',\n",
      "       'Bwd Packets/s', 'Packet Length Min', 'Packet Length Max',\n",
      "       'Packet Length Mean', 'Packet Length Std', 'Packet Length Variance',\n",
      "       'FIN Flag Count', 'SYN Flag Count', 'RST Flag Count', 'PSH Flag Count',\n",
      "       'ACK Flag Count', 'URG Flag Count', 'CWR Flag Count', 'ECE Flag Count',\n",
      "       'Down/Up Ratio', 'Average Packet Size', 'Fwd Segment Size Avg',\n",
      "       'Bwd Segment Size Avg', 'Fwd Bytes/Bulk Avg', 'Fwd Packet/Bulk Avg',\n",
      "       'Fwd Bulk Rate Avg', 'Bwd Bytes/Bulk Avg', 'Bwd Packet/Bulk Avg',\n",
      "       'Bwd Bulk Rate Avg', 'Subflow Fwd Packets', 'Subflow Fwd Bytes',\n",
      "       'Subflow Bwd Packets', 'Subflow Bwd Bytes', 'FWD Init Win Bytes',\n",
      "       'Bwd Init Win Bytes', 'Fwd Act Data Pkts', 'Fwd Seg Size Min',\n",
      "       'Active Mean', 'Active Std', 'Active Max', 'Active Min', 'Idle Mean',\n",
      "       'Idle Std', 'Idle Max', 'Idle Min', 'ICMP Code', 'ICMP Type',\n",
      "       'Total TCP Flow Time', 'Label'],\n",
      "      dtype='object')\n"
     ]
    }
   ],
   "source": [
    "print(ids17.shape)\n",
    "print(ids17.columns)"
   ]
  },
  {
   "cell_type": "markdown",
   "metadata": {},
   "source": [
    "### Trennen von Features und Labels"
   ]
  },
  {
   "cell_type": "code",
   "execution_count": 7,
   "metadata": {},
   "outputs": [
    {
     "name": "stdout",
     "output_type": "stream",
     "text": [
      "Form von X: (1923167, 83)\n",
      "Form von y: (1923167,)\n"
     ]
    }
   ],
   "source": [
    "X = ids17.iloc[:, :-1]  # Alle Spalten außer der letzten\n",
    "print(f\"Form von X: {X.shape}\")\n",
    "y = ids17.iloc[:, -1]   # Die letzte Spalte\n",
    "print(f\"Form von y: {y.shape}\")"
   ]
  },
  {
   "cell_type": "markdown",
   "metadata": {},
   "source": [
    "### Label Encoding für y"
   ]
  },
  {
   "cell_type": "code",
   "execution_count": 8,
   "metadata": {},
   "outputs": [
    {
     "name": "stdout",
     "output_type": "stream",
     "text": [
      "Einzigartige Labels: ['BENIGN' 'Botnet Ares' 'DDoS-LOIC-HTTP' 'DoS GoldenEye' 'DoS Hulk'\n",
      " 'DoS Slowloris' 'Infiltration - NMAP Portscan' 'SSH-BruteForce'\n",
      " 'Web Attack - Brute Force' 'Web Attack - SQL' 'Web Attack - XSS']\n",
      "Kodierte Labels: [ 0  1  2  3  4  5  6  7  8  9 10]\n"
     ]
    }
   ],
   "source": [
    "label_encoder = LabelEncoder()\n",
    "y_encoded = label_encoder.fit_transform(y)\n",
    "\n",
    "print(f\"Einzigartige Labels: {label_encoder.classes_}\")\n",
    "print(f\"Kodierte Labels: {np.unique(y_encoded)}\")"
   ]
  },
  {
   "cell_type": "markdown",
   "metadata": {},
   "source": [
    "### Skallierung von X"
   ]
  },
  {
   "cell_type": "code",
   "execution_count": 9,
   "metadata": {},
   "outputs": [
    {
     "name": "stdout",
     "output_type": "stream",
     "text": [
      "Form von X: (1923167, 83)\n",
      "Form von X_scaled: (1923167, 83)\n"
     ]
    }
   ],
   "source": [
    "scaler = StandardScaler()\n",
    "X_scaled = scaler.fit_transform(X)\n",
    "\n",
    "print(f\"Form von X: {X.shape}\")\n",
    "print(f\"Form von X_scaled: {X_scaled.shape}\")"
   ]
  },
  {
   "cell_type": "markdown",
   "metadata": {},
   "source": [
    "### Aufteilen der Daten in Trainings-, Validierungs- und Testdatensätze"
   ]
  },
  {
   "cell_type": "code",
   "execution_count": 10,
   "metadata": {},
   "outputs": [
    {
     "name": "stdout",
     "output_type": "stream",
     "text": [
      "Form von X_train: (1538533, 83)\n",
      "Form von X_val: (192317, 83)\n",
      "Form von X_test: (192317, 83)\n"
     ]
    }
   ],
   "source": [
    "# Aufteilen in Trainings- und temporären Datensatz\n",
    "X_train, X_temp, y_train, y_temp = train_test_split(\n",
    "    X_scaled, y_encoded, test_size=0.20, random_state=42, stratify=y_encoded)\n",
    "\n",
    "# Aufteilen des temporären Datensatzes in Validierung und Test\n",
    "X_val, X_test, y_val, y_test = train_test_split(\n",
    "    X_temp, y_temp, test_size=0.50, random_state=42, stratify=y_temp)\n",
    "\n",
    "print(f\"Form von X_train: {X_train.shape}\")\n",
    "print(f\"Form von X_val: {X_val.shape}\")\n",
    "print(f\"Form von X_test: {X_test.shape}\")"
   ]
  },
  {
   "cell_type": "markdown",
   "metadata": {},
   "source": [
    "### Überprüfen der Klassenverteilung"
   ]
  },
  {
   "cell_type": "code",
   "execution_count": 11,
   "metadata": {},
   "outputs": [
    {
     "name": "stdout",
     "output_type": "stream",
     "text": [
      "Klassenverteilung in Trainingsdatensatz:\n",
      "  Klasse 0: 1266048 Beispiele (82.29%)\n",
      "  Klasse 1: 589 Beispiele (0.04%)\n",
      "  Klasse 2: 76115 Beispiele (4.95%)\n",
      "  Klasse 3: 6054 Beispiele (0.39%)\n",
      "  Klasse 4: 126774 Beispiele (8.24%)\n",
      "  Klasse 5: 3087 Beispiele (0.20%)\n",
      "  Klasse 6: 57414 Beispiele (3.73%)\n",
      "  Klasse 7: 2369 Beispiele (0.15%)\n",
      "  Klasse 8: 58 Beispiele (0.00%)\n",
      "  Klasse 9: 11 Beispiele (0.00%)\n",
      "  Klasse 10: 14 Beispiele (0.00%)\n",
      "\n",
      "Klassenverteilung in Validierungsdatensatz:\n",
      "  Klasse 0: 158257 Beispiele (82.29%)\n",
      "  Klasse 1: 74 Beispiele (0.04%)\n",
      "  Klasse 2: 9514 Beispiele (4.95%)\n",
      "  Klasse 3: 756 Beispiele (0.39%)\n",
      "  Klasse 4: 15847 Beispiele (8.24%)\n",
      "  Klasse 5: 386 Beispiele (0.20%)\n",
      "  Klasse 6: 7176 Beispiele (3.73%)\n",
      "  Klasse 7: 296 Beispiele (0.15%)\n",
      "  Klasse 8: 8 Beispiele (0.00%)\n",
      "  Klasse 9: 1 Beispiele (0.00%)\n",
      "  Klasse 10: 2 Beispiele (0.00%)\n",
      "\n",
      "Klassenverteilung in Testdatensatz:\n",
      "  Klasse 0: 158256 Beispiele (82.29%)\n",
      "  Klasse 1: 73 Beispiele (0.04%)\n",
      "  Klasse 2: 9515 Beispiele (4.95%)\n",
      "  Klasse 3: 757 Beispiele (0.39%)\n",
      "  Klasse 4: 15847 Beispiele (8.24%)\n",
      "  Klasse 5: 386 Beispiele (0.20%)\n",
      "  Klasse 6: 7177 Beispiele (3.73%)\n",
      "  Klasse 7: 296 Beispiele (0.15%)\n",
      "  Klasse 8: 7 Beispiele (0.00%)\n",
      "  Klasse 9: 1 Beispiele (0.00%)\n",
      "  Klasse 10: 2 Beispiele (0.00%)\n",
      "\n"
     ]
    }
   ],
   "source": [
    "def print_class_distribution(y, dataset_name):\n",
    "    unique, counts = np.unique(y, return_counts=True)\n",
    "    total = len(y)\n",
    "    print(f\"Klassenverteilung in {dataset_name}:\")\n",
    "    for cls, count in zip(unique, counts):\n",
    "        print(f\"  Klasse {cls}: {count} Beispiele ({(count/total)*100:.2f}%)\")\n",
    "    print()\n",
    "\n",
    "print_class_distribution(y_train, \"Trainingsdatensatz\")\n",
    "print_class_distribution(y_val, \"Validierungsdatensatz\")\n",
    "print_class_distribution(y_test, \"Testdatensatz\")"
   ]
  },
  {
   "cell_type": "markdown",
   "metadata": {},
   "source": [
    "### Hyperparameter-Tuning mit dem Validierungsdatensatz"
   ]
  },
  {
   "cell_type": "code",
   "execution_count": null,
   "metadata": {},
   "outputs": [
    {
     "name": "stdout",
     "output_type": "stream",
     "text": [
      "Fitting 2 folds for each of 36 candidates, totalling 72 fits\n",
      "[CV 1/2; 4/36] START learning_rate=0.01, max_depth=3, n_estimators=200, subsample=1.0\n",
      "[CV 2/2; 1/36] START learning_rate=0.01, max_depth=3, n_estimators=100, subsample=0.8\n",
      "[CV 2/2; 9/36] START learning_rate=0.01, max_depth=10, n_estimators=100, subsample=0.8\n",
      "[CV 1/2; 1/36] START learning_rate=0.01, max_depth=3, n_estimators=100, subsample=0.8\n",
      "[CV 1/2; 11/36] START learning_rate=0.01, max_depth=10, n_estimators=200, subsample=0.8\n",
      "[CV 2/2; 8/36] START learning_rate=0.01, max_depth=6, n_estimators=200, subsample=1.0\n",
      "[CV 2/2; 3/36] START learning_rate=0.01, max_depth=3, n_estimators=200, subsample=0.8\n",
      "[CV 1/2; 8/36] START learning_rate=0.01, max_depth=6, n_estimators=200, subsample=1.0\n",
      "[CV 2/2; 7/36] START learning_rate=0.01, max_depth=6, n_estimators=200, subsample=0.8\n",
      "[CV 2/2; 2/36] START learning_rate=0.01, max_depth=3, n_estimators=100, subsample=1.0\n",
      "[CV 2/2; 12/36] START learning_rate=0.01, max_depth=10, n_estimators=200, subsample=1.0\n",
      "[CV 1/2; 7/36] START learning_rate=0.01, max_depth=6, n_estimators=200, subsample=0.8[CV 2/2; 14/36] START learning_rate=0.1, max_depth=3, n_estimators=100, subsample=1.0\n",
      "\n",
      "[CV 2/2; 11/36] START learning_rate=0.01, max_depth=10, n_estimators=200, subsample=0.8\n",
      "[CV 2/2; 4/36] START learning_rate=0.01, max_depth=3, n_estimators=200, subsample=1.0\n",
      "[CV 2/2; 10/36] START learning_rate=0.01, max_depth=10, n_estimators=100, subsample=1.0\n",
      "[CV 1/2; 6/36] START learning_rate=0.01, max_depth=6, n_estimators=100, subsample=1.0\n",
      "[CV 2/2; 13/36] START learning_rate=0.1, max_depth=3, n_estimators=100, subsample=0.8\n",
      "[CV 1/2; 14/36] START learning_rate=0.1, max_depth=3, n_estimators=100, subsample=1.0\n",
      "[CV 1/2; 10/36] START learning_rate=0.01, max_depth=10, n_estimators=100, subsample=1.0[CV 1/2; 5/36] START learning_rate=0.01, max_depth=6, n_estimators=100, subsample=0.8\n",
      "\n",
      "[CV 2/2; 5/36] START learning_rate=0.01, max_depth=6, n_estimators=100, subsample=0.8\n",
      "[CV 1/2; 13/36] START learning_rate=0.1, max_depth=3, n_estimators=100, subsample=0.8\n",
      "[CV 1/2; 3/36] START learning_rate=0.01, max_depth=3, n_estimators=200, subsample=0.8\n",
      "[CV 1/2; 12/36] START learning_rate=0.01, max_depth=10, n_estimators=200, subsample=1.0\n",
      "[CV 2/2; 6/36] START learning_rate=0.01, max_depth=6, n_estimators=100, subsample=1.0\n",
      "[CV 1/2; 9/36] START learning_rate=0.01, max_depth=10, n_estimators=100, subsample=0.8\n",
      "[CV 1/2; 2/36] START learning_rate=0.01, max_depth=3, n_estimators=100, subsample=1.0\n"
     ]
    },
    {
     "name": "stderr",
     "output_type": "stream",
     "text": [
      "/home/michi/BA/.venv/lib/python3.10/site-packages/xgboost/core.py:158: UserWarning: [08:51:08] WARNING: /workspace/src/learner.cc:740: \n",
      "Parameters: { \"use_label_encoder\" } are not used.\n",
      "\n",
      "  warnings.warn(smsg, UserWarning)\n",
      "/home/michi/BA/.venv/lib/python3.10/site-packages/xgboost/core.py:158: UserWarning: [08:51:08] WARNING: /workspace/src/learner.cc:740: \n",
      "Parameters: { \"use_label_encoder\" } are not used.\n",
      "\n",
      "  warnings.warn(smsg, UserWarning)\n",
      "/home/michi/BA/.venv/lib/python3.10/site-packages/xgboost/core.py:158: UserWarning: [08:51:09] WARNING: /workspace/src/learner.cc:740: \n",
      "Parameters: { \"use_label_encoder\" } are not used.\n",
      "\n",
      "  warnings.warn(smsg, UserWarning)\n",
      "/home/michi/BA/.venv/lib/python3.10/site-packages/xgboost/core.py:158: UserWarning: [08:51:09] WARNING: /workspace/src/learner.cc:740: \n",
      "Parameters: { \"use_label_encoder\" } are not used.\n",
      "\n",
      "  warnings.warn(smsg, UserWarning)\n",
      "/home/michi/BA/.venv/lib/python3.10/site-packages/xgboost/core.py:158: UserWarning: [08:51:09] WARNING: /workspace/src/learner.cc:740: \n",
      "Parameters: { \"use_label_encoder\" } are not used.\n",
      "\n",
      "  warnings.warn(smsg, UserWarning)\n",
      "/home/michi/BA/.venv/lib/python3.10/site-packages/xgboost/core.py:158: UserWarning: [08:51:09] WARNING: /workspace/src/learner.cc:740: \n",
      "Parameters: { \"use_label_encoder\" } are not used.\n",
      "\n",
      "  warnings.warn(smsg, UserWarning)\n",
      "/home/michi/BA/.venv/lib/python3.10/site-packages/xgboost/core.py:158: UserWarning: [08:51:09] WARNING: /workspace/src/learner.cc:740: \n",
      "Parameters: { \"use_label_encoder\" } are not used.\n",
      "\n",
      "  warnings.warn(smsg, UserWarning)\n",
      "/home/michi/BA/.venv/lib/python3.10/site-packages/xgboost/core.py:158: UserWarning: [08:51:09] WARNING: /workspace/src/learner.cc:740: \n",
      "Parameters: { \"use_label_encoder\" } are not used.\n",
      "\n",
      "  warnings.warn(smsg, UserWarning)\n",
      "/home/michi/BA/.venv/lib/python3.10/site-packages/xgboost/core.py:158: UserWarning: [08:51:10] WARNING: /workspace/src/learner.cc:740: \n",
      "Parameters: { \"use_label_encoder\" } are not used.\n",
      "\n",
      "  warnings.warn(smsg, UserWarning)\n",
      "/home/michi/BA/.venv/lib/python3.10/site-packages/xgboost/core.py:158: UserWarning: [08:51:10] WARNING: /workspace/src/learner.cc:740: \n",
      "Parameters: { \"use_label_encoder\" } are not used.\n",
      "\n",
      "  warnings.warn(smsg, UserWarning)\n",
      "/home/michi/BA/.venv/lib/python3.10/site-packages/xgboost/core.py:158: UserWarning: [08:51:11] WARNING: /workspace/src/learner.cc:740: \n",
      "Parameters: { \"use_label_encoder\" } are not used.\n",
      "\n",
      "  warnings.warn(smsg, UserWarning)\n",
      "/home/michi/BA/.venv/lib/python3.10/site-packages/xgboost/core.py:158: UserWarning: [08:51:11] WARNING: /workspace/src/learner.cc:740: \n",
      "Parameters: { \"use_label_encoder\" } are not used.\n",
      "\n",
      "  warnings.warn(smsg, UserWarning)\n",
      "/home/michi/BA/.venv/lib/python3.10/site-packages/xgboost/core.py:158: UserWarning: [08:51:11] WARNING: /workspace/src/learner.cc:740: \n",
      "Parameters: { \"use_label_encoder\" } are not used.\n",
      "\n",
      "  warnings.warn(smsg, UserWarning)\n",
      "/home/michi/BA/.venv/lib/python3.10/site-packages/xgboost/core.py:158: UserWarning: [08:51:11] WARNING: /workspace/src/learner.cc:740: \n",
      "Parameters: { \"use_label_encoder\" } are not used.\n",
      "\n",
      "  warnings.warn(smsg, UserWarning)\n",
      "/home/michi/BA/.venv/lib/python3.10/site-packages/xgboost/core.py:158: UserWarning: [08:51:11] WARNING: /workspace/src/learner.cc:740: \n",
      "Parameters: { \"use_label_encoder\" } are not used.\n",
      "\n",
      "  warnings.warn(smsg, UserWarning)\n",
      "/home/michi/BA/.venv/lib/python3.10/site-packages/xgboost/core.py:158: UserWarning: [08:51:12] WARNING: /workspace/src/learner.cc:740: \n",
      "Parameters: { \"use_label_encoder\" } are not used.\n",
      "\n",
      "  warnings.warn(smsg, UserWarning)\n",
      "/home/michi/BA/.venv/lib/python3.10/site-packages/xgboost/core.py:158: UserWarning: [08:51:12] WARNING: /workspace/src/learner.cc:740: \n",
      "Parameters: { \"use_label_encoder\" } are not used.\n",
      "\n",
      "  warnings.warn(smsg, UserWarning)\n",
      "/home/michi/BA/.venv/lib/python3.10/site-packages/xgboost/core.py:158: UserWarning: [08:51:12] WARNING: /workspace/src/learner.cc:740: \n",
      "Parameters: { \"use_label_encoder\" } are not used.\n",
      "\n",
      "  warnings.warn(smsg, UserWarning)\n",
      "/home/michi/BA/.venv/lib/python3.10/site-packages/xgboost/core.py:158: UserWarning: [08:51:12] WARNING: /workspace/src/learner.cc:740: \n",
      "Parameters: { \"use_label_encoder\" } are not used.\n",
      "\n",
      "  warnings.warn(smsg, UserWarning)\n",
      "/home/michi/BA/.venv/lib/python3.10/site-packages/xgboost/core.py:158: UserWarning: [08:51:12] WARNING: /workspace/src/learner.cc:740: \n",
      "Parameters: { \"use_label_encoder\" } are not used.\n",
      "\n",
      "  warnings.warn(smsg, UserWarning)\n",
      "/home/michi/BA/.venv/lib/python3.10/site-packages/xgboost/core.py:158: UserWarning: [08:51:13] WARNING: /workspace/src/learner.cc:740: \n",
      "Parameters: { \"use_label_encoder\" } are not used.\n",
      "\n",
      "  warnings.warn(smsg, UserWarning)\n",
      "/home/michi/BA/.venv/lib/python3.10/site-packages/xgboost/core.py:158: UserWarning: [08:51:12] WARNING: /workspace/src/learner.cc:740: \n",
      "Parameters: { \"use_label_encoder\" } are not used.\n",
      "\n",
      "  warnings.warn(smsg, UserWarning)\n",
      "/home/michi/BA/.venv/lib/python3.10/site-packages/xgboost/core.py:158: UserWarning: [08:51:13] WARNING: /workspace/src/learner.cc:740: \n",
      "Parameters: { \"use_label_encoder\" } are not used.\n",
      "\n",
      "  warnings.warn(smsg, UserWarning)\n",
      "/home/michi/BA/.venv/lib/python3.10/site-packages/xgboost/core.py:158: UserWarning: [08:51:13] WARNING: /workspace/src/learner.cc:740: \n",
      "Parameters: { \"use_label_encoder\" } are not used.\n",
      "\n",
      "  warnings.warn(smsg, UserWarning)\n",
      "/home/michi/BA/.venv/lib/python3.10/site-packages/xgboost/core.py:158: UserWarning: [08:51:14] WARNING: /workspace/src/learner.cc:740: \n",
      "Parameters: { \"use_label_encoder\" } are not used.\n",
      "\n",
      "  warnings.warn(smsg, UserWarning)\n",
      "/home/michi/BA/.venv/lib/python3.10/site-packages/xgboost/core.py:158: UserWarning: [08:51:14] WARNING: /workspace/src/learner.cc:740: \n",
      "Parameters: { \"use_label_encoder\" } are not used.\n",
      "\n",
      "  warnings.warn(smsg, UserWarning)\n",
      "/home/michi/BA/.venv/lib/python3.10/site-packages/xgboost/core.py:158: UserWarning: [08:51:14] WARNING: /workspace/src/learner.cc:740: \n",
      "Parameters: { \"use_label_encoder\" } are not used.\n",
      "\n",
      "  warnings.warn(smsg, UserWarning)\n",
      "/home/michi/BA/.venv/lib/python3.10/site-packages/xgboost/core.py:158: UserWarning: [08:51:40] WARNING: /workspace/src/learner.cc:740: \n",
      "Parameters: { \"use_label_encoder\" } are not used.\n",
      "\n",
      "  warnings.warn(smsg, UserWarning)\n"
     ]
    },
    {
     "name": "stdout",
     "output_type": "stream",
     "text": [
      "[CV 1/2; 1/36] END learning_rate=0.01, max_depth=3, n_estimators=100, subsample=0.8;, score=0.997 total time= 3.4min\n",
      "[CV 1/2; 15/36] START learning_rate=0.1, max_depth=3, n_estimators=200, subsample=0.8\n",
      "[CV 1/2; 13/36] END learning_rate=0.1, max_depth=3, n_estimators=100, subsample=0.8;, score=1.000 total time= 3.4min\n",
      "[CV 2/2; 1/36] END learning_rate=0.01, max_depth=3, n_estimators=100, subsample=0.8;, score=0.998 total time= 3.4min\n",
      "[CV 2/2; 15/36] START learning_rate=0.1, max_depth=3, n_estimators=200, subsample=0.8\n",
      "[CV 1/2; 16/36] START learning_rate=0.1, max_depth=3, n_estimators=200, subsample=1.0\n",
      "[CV 2/2; 5/36] END learning_rate=0.01, max_depth=6, n_estimators=100, subsample=0.8;, score=0.999 total time= 3.5min\n",
      "[CV 2/2; 16/36] START learning_rate=0.1, max_depth=3, n_estimators=200, subsample=1.0\n",
      "[CV 1/2; 2/36] END learning_rate=0.01, max_depth=3, n_estimators=100, subsample=1.0;, score=0.997 total time= 3.5min\n",
      "[CV 1/2; 17/36] START learning_rate=0.1, max_depth=6, n_estimators=100, subsample=0.8\n"
     ]
    },
    {
     "name": "stderr",
     "output_type": "stream",
     "text": [
      "/home/michi/BA/.venv/lib/python3.10/site-packages/xgboost/core.py:158: UserWarning: [08:54:35] WARNING: /workspace/src/learner.cc:740: \n",
      "Parameters: { \"use_label_encoder\" } are not used.\n",
      "\n",
      "  warnings.warn(smsg, UserWarning)\n",
      "/home/michi/BA/.venv/lib/python3.10/site-packages/xgboost/core.py:158: UserWarning: [08:54:35] WARNING: /workspace/src/learner.cc:740: \n",
      "Parameters: { \"use_label_encoder\" } are not used.\n",
      "\n",
      "  warnings.warn(smsg, UserWarning)\n",
      "/home/michi/BA/.venv/lib/python3.10/site-packages/xgboost/core.py:158: UserWarning: [08:54:36] WARNING: /workspace/src/learner.cc:740: \n",
      "Parameters: { \"use_label_encoder\" } are not used.\n",
      "\n",
      "  warnings.warn(smsg, UserWarning)\n",
      "/home/michi/BA/.venv/lib/python3.10/site-packages/xgboost/core.py:158: UserWarning: [08:54:36] WARNING: /workspace/src/learner.cc:740: \n",
      "Parameters: { \"use_label_encoder\" } are not used.\n",
      "\n",
      "  warnings.warn(smsg, UserWarning)\n"
     ]
    },
    {
     "name": "stdout",
     "output_type": "stream",
     "text": [
      "[CV 2/2; 2/36] END learning_rate=0.01, max_depth=3, n_estimators=100, subsample=1.0;, score=0.997 total time= 3.7min\n",
      "[CV 2/2; 17/36] START learning_rate=0.1, max_depth=6, n_estimators=100, subsample=0.8\n",
      "[CV 1/2; 10/36] END learning_rate=0.01, max_depth=10, n_estimators=100, subsample=1.0;, score=1.000 total time= 3.7min\n"
     ]
    },
    {
     "name": "stderr",
     "output_type": "stream",
     "text": [
      "/home/michi/BA/.venv/lib/python3.10/site-packages/xgboost/core.py:158: UserWarning: [08:54:39] WARNING: /workspace/src/learner.cc:740: \n",
      "Parameters: { \"use_label_encoder\" } are not used.\n",
      "\n",
      "  warnings.warn(smsg, UserWarning)\n"
     ]
    },
    {
     "name": "stdout",
     "output_type": "stream",
     "text": [
      "[CV 1/2; 18/36] START learning_rate=0.1, max_depth=6, n_estimators=100, subsample=1.0\n",
      "[CV 1/2; 6/36] END learning_rate=0.01, max_depth=6, n_estimators=100, subsample=1.0;, score=0.999 total time= 3.7min\n",
      "[CV 2/2; 18/36] START learning_rate=0.1, max_depth=6, n_estimators=100, subsample=1.0\n"
     ]
    },
    {
     "name": "stderr",
     "output_type": "stream",
     "text": [
      "/home/michi/BA/.venv/lib/python3.10/site-packages/xgboost/core.py:158: UserWarning: [08:54:46] WARNING: /workspace/src/learner.cc:740: \n",
      "Parameters: { \"use_label_encoder\" } are not used.\n",
      "\n",
      "  warnings.warn(smsg, UserWarning)\n",
      "/home/michi/BA/.venv/lib/python3.10/site-packages/xgboost/core.py:158: UserWarning: [08:54:47] WARNING: /workspace/src/learner.cc:740: \n",
      "Parameters: { \"use_label_encoder\" } are not used.\n",
      "\n",
      "  warnings.warn(smsg, UserWarning)\n",
      "/home/michi/BA/.venv/lib/python3.10/site-packages/xgboost/core.py:158: UserWarning: [08:54:50] WARNING: /workspace/src/learner.cc:740: \n",
      "Parameters: { \"use_label_encoder\" } are not used.\n",
      "\n",
      "  warnings.warn(smsg, UserWarning)\n"
     ]
    },
    {
     "name": "stdout",
     "output_type": "stream",
     "text": [
      "[CV 2/2; 10/36] END learning_rate=0.01, max_depth=10, n_estimators=100, subsample=1.0;, score=1.000 total time= 4.0min\n",
      "[CV 1/2; 19/36] START learning_rate=0.1, max_depth=6, n_estimators=200, subsample=0.8\n"
     ]
    },
    {
     "name": "stderr",
     "output_type": "stream",
     "text": [
      "/home/michi/BA/.venv/lib/python3.10/site-packages/xgboost/core.py:158: UserWarning: [08:55:03] WARNING: /workspace/src/learner.cc:740: \n",
      "Parameters: { \"use_label_encoder\" } are not used.\n",
      "\n",
      "  warnings.warn(smsg, UserWarning)\n"
     ]
    },
    {
     "name": "stdout",
     "output_type": "stream",
     "text": [
      "[CV 1/2; 14/36] END learning_rate=0.1, max_depth=3, n_estimators=100, subsample=1.0;, score=1.000 total time= 4.1min\n",
      "[CV 2/2; 19/36] START learning_rate=0.1, max_depth=6, n_estimators=200, subsample=0.8\n",
      "[CV 2/2; 6/36] END learning_rate=0.01, max_depth=6, n_estimators=100, subsample=1.0;, score=0.999 total time= 4.2min\n",
      "[CV 2/2; 14/36] END learning_rate=0.1, max_depth=3, n_estimators=100, subsample=1.0;, score=1.000 total time= 4.2min\n",
      "[CV 1/2; 20/36] START learning_rate=0.1, max_depth=6, n_estimators=200, subsample=1.0\n",
      "[CV 2/2; 20/36] START learning_rate=0.1, max_depth=6, n_estimators=200, subsample=1.0\n"
     ]
    },
    {
     "name": "stderr",
     "output_type": "stream",
     "text": [
      "/home/michi/BA/.venv/lib/python3.10/site-packages/xgboost/core.py:158: UserWarning: [08:55:14] WARNING: /workspace/src/learner.cc:740: \n",
      "Parameters: { \"use_label_encoder\" } are not used.\n",
      "\n",
      "  warnings.warn(smsg, UserWarning)\n",
      "/home/michi/BA/.venv/lib/python3.10/site-packages/xgboost/core.py:158: UserWarning: [08:55:15] WARNING: /workspace/src/learner.cc:740: \n",
      "Parameters: { \"use_label_encoder\" } are not used.\n",
      "\n",
      "  warnings.warn(smsg, UserWarning)\n",
      "/home/michi/BA/.venv/lib/python3.10/site-packages/xgboost/core.py:158: UserWarning: [08:55:18] WARNING: /workspace/src/learner.cc:740: \n",
      "Parameters: { \"use_label_encoder\" } are not used.\n",
      "\n",
      "  warnings.warn(smsg, UserWarning)\n"
     ]
    },
    {
     "name": "stdout",
     "output_type": "stream",
     "text": [
      "[CV 2/2; 13/36] END learning_rate=0.1, max_depth=3, n_estimators=100, subsample=0.8;, score=1.000 total time= 4.5min\n",
      "[CV 1/2; 21/36] START learning_rate=0.1, max_depth=10, n_estimators=100, subsample=0.8\n",
      "[CV 2/2; 9/36] END learning_rate=0.01, max_depth=10, n_estimators=100, subsample=0.8;, score=1.000 total time= 4.5min\n",
      "[CV 2/2; 21/36] START learning_rate=0.1, max_depth=10, n_estimators=100, subsample=0.8\n",
      "[CV 1/2; 5/36] END learning_rate=0.01, max_depth=6, n_estimators=100, subsample=0.8;, score=0.999 total time= 4.6min\n"
     ]
    },
    {
     "name": "stderr",
     "output_type": "stream",
     "text": [
      "/home/michi/BA/.venv/lib/python3.10/site-packages/xgboost/core.py:158: UserWarning: [08:55:33] WARNING: /workspace/src/learner.cc:740: \n",
      "Parameters: { \"use_label_encoder\" } are not used.\n",
      "\n",
      "  warnings.warn(smsg, UserWarning)\n"
     ]
    },
    {
     "name": "stdout",
     "output_type": "stream",
     "text": [
      "[CV 1/2; 22/36] START learning_rate=0.1, max_depth=10, n_estimators=100, subsample=1.0\n"
     ]
    },
    {
     "name": "stderr",
     "output_type": "stream",
     "text": [
      "/home/michi/BA/.venv/lib/python3.10/site-packages/xgboost/core.py:158: UserWarning: [08:55:37] WARNING: /workspace/src/learner.cc:740: \n",
      "Parameters: { \"use_label_encoder\" } are not used.\n",
      "\n",
      "  warnings.warn(smsg, UserWarning)\n"
     ]
    },
    {
     "name": "stdout",
     "output_type": "stream",
     "text": [
      "[CV 1/2; 9/36] END learning_rate=0.01, max_depth=10, n_estimators=100, subsample=0.8;, score=1.000 total time= 4.7min\n",
      "[CV 2/2; 22/36] START learning_rate=0.1, max_depth=10, n_estimators=100, subsample=1.0\n"
     ]
    },
    {
     "name": "stderr",
     "output_type": "stream",
     "text": [
      "/home/michi/BA/.venv/lib/python3.10/site-packages/xgboost/core.py:158: UserWarning: [08:55:45] WARNING: /workspace/src/learner.cc:740: \n",
      "Parameters: { \"use_label_encoder\" } are not used.\n",
      "\n",
      "  warnings.warn(smsg, UserWarning)\n",
      "/home/michi/BA/.venv/lib/python3.10/site-packages/xgboost/core.py:158: UserWarning: [08:55:50] WARNING: /workspace/src/learner.cc:740: \n",
      "Parameters: { \"use_label_encoder\" } are not used.\n",
      "\n",
      "  warnings.warn(smsg, UserWarning)\n"
     ]
    },
    {
     "name": "stdout",
     "output_type": "stream",
     "text": [
      "[CV 1/2; 4/36] END learning_rate=0.01, max_depth=3, n_estimators=200, subsample=1.0;, score=0.998 total time= 5.9min\n",
      "[CV 1/2; 23/36] START learning_rate=0.1, max_depth=10, n_estimators=200, subsample=0.8\n"
     ]
    },
    {
     "name": "stderr",
     "output_type": "stream",
     "text": [
      "/home/michi/BA/.venv/lib/python3.10/site-packages/xgboost/core.py:158: UserWarning: [08:56:55] WARNING: /workspace/src/learner.cc:740: \n",
      "Parameters: { \"use_label_encoder\" } are not used.\n",
      "\n",
      "  warnings.warn(smsg, UserWarning)\n"
     ]
    },
    {
     "name": "stdout",
     "output_type": "stream",
     "text": [
      "[CV 1/2; 3/36] END learning_rate=0.01, max_depth=3, n_estimators=200, subsample=0.8;, score=0.998 total time= 6.2min\n",
      "[CV 2/2; 23/36] START learning_rate=0.1, max_depth=10, n_estimators=200, subsample=0.8\n"
     ]
    },
    {
     "name": "stderr",
     "output_type": "stream",
     "text": [
      "/home/michi/BA/.venv/lib/python3.10/site-packages/xgboost/core.py:158: UserWarning: [08:57:19] WARNING: /workspace/src/learner.cc:740: \n",
      "Parameters: { \"use_label_encoder\" } are not used.\n",
      "\n",
      "  warnings.warn(smsg, UserWarning)\n"
     ]
    },
    {
     "name": "stdout",
     "output_type": "stream",
     "text": [
      "[CV 2/2; 4/36] END learning_rate=0.01, max_depth=3, n_estimators=200, subsample=1.0;, score=0.998 total time= 6.4min\n",
      "[CV 1/2; 24/36] START learning_rate=0.1, max_depth=10, n_estimators=200, subsample=1.0\n"
     ]
    },
    {
     "name": "stderr",
     "output_type": "stream",
     "text": [
      "/home/michi/BA/.venv/lib/python3.10/site-packages/xgboost/core.py:158: UserWarning: [08:57:29] WARNING: /workspace/src/learner.cc:740: \n",
      "Parameters: { \"use_label_encoder\" } are not used.\n",
      "\n",
      "  warnings.warn(smsg, UserWarning)\n"
     ]
    },
    {
     "name": "stdout",
     "output_type": "stream",
     "text": [
      "[CV 2/2; 8/36] END learning_rate=0.01, max_depth=6, n_estimators=200, subsample=1.0;, score=0.999 total time= 6.7min\n",
      "[CV 2/2; 24/36] START learning_rate=0.1, max_depth=10, n_estimators=200, subsample=1.0\n"
     ]
    },
    {
     "name": "stderr",
     "output_type": "stream",
     "text": [
      "/home/michi/BA/.venv/lib/python3.10/site-packages/xgboost/core.py:158: UserWarning: [08:57:48] WARNING: /workspace/src/learner.cc:740: \n",
      "Parameters: { \"use_label_encoder\" } are not used.\n",
      "\n",
      "  warnings.warn(smsg, UserWarning)\n"
     ]
    },
    {
     "name": "stdout",
     "output_type": "stream",
     "text": [
      "[CV 1/2; 18/36] END learning_rate=0.1, max_depth=6, n_estimators=100, subsample=1.0;, score=1.000 total time= 3.2min\n",
      "[CV 1/2; 25/36] START learning_rate=0.2, max_depth=3, n_estimators=100, subsample=0.8\n",
      "[CV 1/2; 8/36] END learning_rate=0.01, max_depth=6, n_estimators=200, subsample=1.0;, score=0.999 total time= 7.0min\n",
      "[CV 2/2; 17/36] END learning_rate=0.1, max_depth=6, n_estimators=100, subsample=0.8;, score=1.000 total time= 3.3min\n",
      "[CV 2/2; 25/36] START learning_rate=0.2, max_depth=3, n_estimators=100, subsample=0.8\n",
      "[CV 1/2; 26/36] START learning_rate=0.2, max_depth=3, n_estimators=100, subsample=1.0\n"
     ]
    },
    {
     "name": "stderr",
     "output_type": "stream",
     "text": [
      "/home/michi/BA/.venv/lib/python3.10/site-packages/xgboost/core.py:158: UserWarning: [08:57:57] WARNING: /workspace/src/learner.cc:740: \n",
      "Parameters: { \"use_label_encoder\" } are not used.\n",
      "\n",
      "  warnings.warn(smsg, UserWarning)\n"
     ]
    },
    {
     "name": "stdout",
     "output_type": "stream",
     "text": [
      "[CV 1/2; 17/36] END learning_rate=0.1, max_depth=6, n_estimators=100, subsample=0.8;, score=1.000 total time= 3.5min\n",
      "[CV 2/2; 26/36] START learning_rate=0.2, max_depth=3, n_estimators=100, subsample=1.0\n"
     ]
    },
    {
     "name": "stderr",
     "output_type": "stream",
     "text": [
      "/home/michi/BA/.venv/lib/python3.10/site-packages/xgboost/core.py:158: UserWarning: [08:58:01] WARNING: /workspace/src/learner.cc:740: \n",
      "Parameters: { \"use_label_encoder\" } are not used.\n",
      "\n",
      "  warnings.warn(smsg, UserWarning)\n",
      "/home/michi/BA/.venv/lib/python3.10/site-packages/xgboost/core.py:158: UserWarning: [08:58:03] WARNING: /workspace/src/learner.cc:740: \n",
      "Parameters: { \"use_label_encoder\" } are not used.\n",
      "\n",
      "  warnings.warn(smsg, UserWarning)\n",
      "/home/michi/BA/.venv/lib/python3.10/site-packages/xgboost/core.py:158: UserWarning: [08:58:09] WARNING: /workspace/src/learner.cc:740: \n",
      "Parameters: { \"use_label_encoder\" } are not used.\n",
      "\n",
      "  warnings.warn(smsg, UserWarning)\n"
     ]
    },
    {
     "name": "stdout",
     "output_type": "stream",
     "text": [
      "[CV 2/2; 18/36] END learning_rate=0.1, max_depth=6, n_estimators=100, subsample=1.0;, score=1.000 total time= 3.6min\n",
      "[CV 1/2; 27/36] START learning_rate=0.2, max_depth=3, n_estimators=200, subsample=0.8\n",
      "[CV 2/2; 3/36] END learning_rate=0.01, max_depth=3, n_estimators=200, subsample=0.8;, score=0.998 total time= 7.4min\n"
     ]
    },
    {
     "name": "stderr",
     "output_type": "stream",
     "text": [
      "/home/michi/BA/.venv/lib/python3.10/site-packages/xgboost/core.py:158: UserWarning: [08:58:24] WARNING: /workspace/src/learner.cc:740: \n",
      "Parameters: { \"use_label_encoder\" } are not used.\n",
      "\n",
      "  warnings.warn(smsg, UserWarning)\n"
     ]
    },
    {
     "name": "stdout",
     "output_type": "stream",
     "text": [
      "[CV 2/2; 27/36] START learning_rate=0.2, max_depth=3, n_estimators=200, subsample=0.8\n",
      "[CV 1/2; 12/36] END learning_rate=0.01, max_depth=10, n_estimators=200, subsample=1.0;, score=1.000 total time= 7.5min\n",
      "[CV 1/2; 28/36] START learning_rate=0.2, max_depth=3, n_estimators=200, subsample=1.0\n"
     ]
    },
    {
     "name": "stderr",
     "output_type": "stream",
     "text": [
      "/home/michi/BA/.venv/lib/python3.10/site-packages/xgboost/core.py:158: UserWarning: [08:58:34] WARNING: /workspace/src/learner.cc:740: \n",
      "Parameters: { \"use_label_encoder\" } are not used.\n",
      "\n",
      "  warnings.warn(smsg, UserWarning)\n",
      "/home/michi/BA/.venv/lib/python3.10/site-packages/xgboost/core.py:158: UserWarning: [08:58:39] WARNING: /workspace/src/learner.cc:740: \n",
      "Parameters: { \"use_label_encoder\" } are not used.\n",
      "\n",
      "  warnings.warn(smsg, UserWarning)\n"
     ]
    },
    {
     "name": "stdout",
     "output_type": "stream",
     "text": [
      "[CV 2/2; 7/36] END learning_rate=0.01, max_depth=6, n_estimators=200, subsample=0.8;, score=0.999 total time= 7.8min\n",
      "[CV 2/2; 28/36] START learning_rate=0.2, max_depth=3, n_estimators=200, subsample=1.0\n",
      "[CV 2/2; 21/36] END learning_rate=0.1, max_depth=10, n_estimators=100, subsample=0.8;, score=1.000 total time= 3.3min\n",
      "[CV 1/2; 29/36] START learning_rate=0.2, max_depth=6, n_estimators=100, subsample=0.8\n",
      "[CV 2/2; 22/36] END learning_rate=0.1, max_depth=10, n_estimators=100, subsample=1.0;, score=1.000 total time= 3.2min\n",
      "[CV 2/2; 29/36] START learning_rate=0.2, max_depth=6, n_estimators=100, subsample=0.8\n",
      "[CV 1/2; 7/36] END learning_rate=0.01, max_depth=6, n_estimators=200, subsample=0.8;, score=0.999 total time= 7.9min\n"
     ]
    },
    {
     "name": "stderr",
     "output_type": "stream",
     "text": [
      "/home/michi/BA/.venv/lib/python3.10/site-packages/xgboost/core.py:158: UserWarning: [08:58:55] WARNING: /workspace/src/learner.cc:740: \n",
      "Parameters: { \"use_label_encoder\" } are not used.\n",
      "\n",
      "  warnings.warn(smsg, UserWarning)\n",
      "/home/michi/BA/.venv/lib/python3.10/site-packages/xgboost/core.py:158: UserWarning: [08:58:56] WARNING: /workspace/src/learner.cc:740: \n",
      "Parameters: { \"use_label_encoder\" } are not used.\n",
      "\n",
      "  warnings.warn(smsg, UserWarning)\n"
     ]
    },
    {
     "name": "stdout",
     "output_type": "stream",
     "text": [
      "[CV 1/2; 30/36] START learning_rate=0.2, max_depth=6, n_estimators=100, subsample=1.0\n"
     ]
    },
    {
     "name": "stderr",
     "output_type": "stream",
     "text": [
      "/home/michi/BA/.venv/lib/python3.10/site-packages/xgboost/core.py:158: UserWarning: [08:58:58] WARNING: /workspace/src/learner.cc:740: \n",
      "Parameters: { \"use_label_encoder\" } are not used.\n",
      "\n",
      "  warnings.warn(smsg, UserWarning)\n"
     ]
    },
    {
     "name": "stdout",
     "output_type": "stream",
     "text": [
      "[CV 1/2; 11/36] END learning_rate=0.01, max_depth=10, n_estimators=200, subsample=0.8;, score=1.000 total time= 8.1min\n"
     ]
    },
    {
     "name": "stderr",
     "output_type": "stream",
     "text": [
      "/home/michi/BA/.venv/lib/python3.10/site-packages/xgboost/core.py:158: UserWarning: [08:59:06] WARNING: /workspace/src/learner.cc:740: \n",
      "Parameters: { \"use_label_encoder\" } are not used.\n",
      "\n",
      "  warnings.warn(smsg, UserWarning)\n"
     ]
    },
    {
     "name": "stdout",
     "output_type": "stream",
     "text": [
      "[CV 2/2; 30/36] START learning_rate=0.2, max_depth=6, n_estimators=100, subsample=1.0\n",
      "[CV 1/2; 22/36] END learning_rate=0.1, max_depth=10, n_estimators=100, subsample=1.0;, score=1.000 total time= 3.6min\n",
      "[CV 1/2; 31/36] START learning_rate=0.2, max_depth=6, n_estimators=200, subsample=0.8\n",
      "[CV 1/2; 21/36] END learning_rate=0.1, max_depth=10, n_estimators=100, subsample=0.8;, score=1.000 total time= 3.8min\n",
      "[CV 2/2; 31/36] START learning_rate=0.2, max_depth=6, n_estimators=200, subsample=0.8\n"
     ]
    },
    {
     "name": "stderr",
     "output_type": "stream",
     "text": [
      "/home/michi/BA/.venv/lib/python3.10/site-packages/xgboost/core.py:158: UserWarning: [08:59:17] WARNING: /workspace/src/learner.cc:740: \n",
      "Parameters: { \"use_label_encoder\" } are not used.\n",
      "\n",
      "  warnings.warn(smsg, UserWarning)\n",
      "/home/michi/BA/.venv/lib/python3.10/site-packages/xgboost/core.py:158: UserWarning: [08:59:19] WARNING: /workspace/src/learner.cc:740: \n",
      "Parameters: { \"use_label_encoder\" } are not used.\n",
      "\n",
      "  warnings.warn(smsg, UserWarning)\n",
      "/home/michi/BA/.venv/lib/python3.10/site-packages/xgboost/core.py:158: UserWarning: [08:59:21] WARNING: /workspace/src/learner.cc:740: \n",
      "Parameters: { \"use_label_encoder\" } are not used.\n",
      "\n",
      "  warnings.warn(smsg, UserWarning)\n"
     ]
    },
    {
     "name": "stdout",
     "output_type": "stream",
     "text": [
      "[CV 2/2; 11/36] END learning_rate=0.01, max_depth=10, n_estimators=200, subsample=0.8;, score=1.000 total time= 8.6min\n",
      "[CV 2/2; 12/36] END learning_rate=0.01, max_depth=10, n_estimators=200, subsample=1.0;, score=1.000 total time= 8.7min\n",
      "[CV 1/2; 32/36] START learning_rate=0.2, max_depth=6, n_estimators=200, subsample=1.0\n",
      "[CV 2/2; 32/36] START learning_rate=0.2, max_depth=6, n_estimators=200, subsample=1.0\n"
     ]
    },
    {
     "name": "stderr",
     "output_type": "stream",
     "text": [
      "/home/michi/BA/.venv/lib/python3.10/site-packages/xgboost/core.py:158: UserWarning: [08:59:50] WARNING: /workspace/src/learner.cc:740: \n",
      "Parameters: { \"use_label_encoder\" } are not used.\n",
      "\n",
      "  warnings.warn(smsg, UserWarning)\n",
      "/home/michi/BA/.venv/lib/python3.10/site-packages/xgboost/core.py:158: UserWarning: [08:59:54] WARNING: /workspace/src/learner.cc:740: \n",
      "Parameters: { \"use_label_encoder\" } are not used.\n",
      "\n",
      "  warnings.warn(smsg, UserWarning)\n"
     ]
    },
    {
     "name": "stdout",
     "output_type": "stream",
     "text": [
      "[CV 2/2; 16/36] END learning_rate=0.1, max_depth=3, n_estimators=200, subsample=1.0;, score=1.000 total time= 5.9min\n",
      "[CV 1/2; 33/36] START learning_rate=0.2, max_depth=10, n_estimators=100, subsample=0.8\n"
     ]
    },
    {
     "name": "stderr",
     "output_type": "stream",
     "text": [
      "/home/michi/BA/.venv/lib/python3.10/site-packages/xgboost/core.py:158: UserWarning: [09:00:36] WARNING: /workspace/src/learner.cc:740: \n",
      "Parameters: { \"use_label_encoder\" } are not used.\n",
      "\n",
      "  warnings.warn(smsg, UserWarning)\n"
     ]
    },
    {
     "name": "stdout",
     "output_type": "stream",
     "text": [
      "[CV 1/2; 26/36] END learning_rate=0.2, max_depth=3, n_estimators=100, subsample=1.0;, score=1.000 total time= 3.1min\n",
      "[CV 1/2; 25/36] END learning_rate=0.2, max_depth=3, n_estimators=100, subsample=0.8;, score=1.000 total time= 3.3min\n",
      "[CV 2/2; 33/36] START learning_rate=0.2, max_depth=10, n_estimators=100, subsample=0.8\n",
      "[CV 1/2; 16/36] END learning_rate=0.1, max_depth=3, n_estimators=200, subsample=1.0;, score=1.000 total time= 6.7min\n",
      "[CV 1/2; 34/36] START learning_rate=0.2, max_depth=10, n_estimators=100, subsample=1.0\n",
      "[CV 1/2; 15/36] END learning_rate=0.1, max_depth=3, n_estimators=200, subsample=0.8;, score=1.000 total time= 6.9min\n",
      "[CV 2/2; 34/36] START learning_rate=0.2, max_depth=10, n_estimators=100, subsample=1.0\n"
     ]
    },
    {
     "name": "stderr",
     "output_type": "stream",
     "text": [
      "/home/michi/BA/.venv/lib/python3.10/site-packages/xgboost/core.py:158: UserWarning: [09:01:14] WARNING: /workspace/src/learner.cc:740: \n",
      "Parameters: { \"use_label_encoder\" } are not used.\n",
      "\n",
      "  warnings.warn(smsg, UserWarning)\n"
     ]
    },
    {
     "name": "stdout",
     "output_type": "stream",
     "text": [
      "[CV 1/2; 35/36] START learning_rate=0.2, max_depth=10, n_estimators=200, subsample=0.8\n"
     ]
    },
    {
     "name": "stderr",
     "output_type": "stream",
     "text": [
      "/home/michi/BA/.venv/lib/python3.10/site-packages/xgboost/core.py:158: UserWarning: [09:01:17] WARNING: /workspace/src/learner.cc:740: \n",
      "Parameters: { \"use_label_encoder\" } are not used.\n",
      "\n",
      "  warnings.warn(smsg, UserWarning)\n",
      "/home/michi/BA/.venv/lib/python3.10/site-packages/xgboost/core.py:158: UserWarning: [09:01:19] WARNING: /workspace/src/learner.cc:740: \n",
      "Parameters: { \"use_label_encoder\" } are not used.\n",
      "\n",
      "  warnings.warn(smsg, UserWarning)\n"
     ]
    },
    {
     "name": "stdout",
     "output_type": "stream",
     "text": [
      "[CV 2/2; 19/36] END learning_rate=0.1, max_depth=6, n_estimators=200, subsample=0.8;, score=1.000 total time= 6.2min\n",
      "[CV 2/2; 26/36] END learning_rate=0.2, max_depth=3, n_estimators=100, subsample=1.0;, score=1.000 total time= 3.4min\n",
      "[CV 2/2; 35/36] START learning_rate=0.2, max_depth=10, n_estimators=200, subsample=0.8\n",
      "[CV 1/2; 36/36] START learning_rate=0.2, max_depth=10, n_estimators=200, subsample=1.0\n"
     ]
    },
    {
     "name": "stderr",
     "output_type": "stream",
     "text": [
      "/home/michi/BA/.venv/lib/python3.10/site-packages/xgboost/core.py:158: UserWarning: [09:01:23] WARNING: /workspace/src/learner.cc:740: \n",
      "Parameters: { \"use_label_encoder\" } are not used.\n",
      "\n",
      "  warnings.warn(smsg, UserWarning)\n",
      "/home/michi/BA/.venv/lib/python3.10/site-packages/xgboost/core.py:158: UserWarning: [09:01:29] WARNING: /workspace/src/learner.cc:740: \n",
      "Parameters: { \"use_label_encoder\" } are not used.\n",
      "\n",
      "  warnings.warn(smsg, UserWarning)\n",
      "/home/michi/BA/.venv/lib/python3.10/site-packages/xgboost/core.py:158: UserWarning: [09:01:30] WARNING: /workspace/src/learner.cc:740: \n",
      "Parameters: { \"use_label_encoder\" } are not used.\n",
      "\n",
      "  warnings.warn(smsg, UserWarning)\n"
     ]
    },
    {
     "name": "stdout",
     "output_type": "stream",
     "text": [
      "[CV 2/2; 25/36] END learning_rate=0.2, max_depth=3, n_estimators=100, subsample=0.8;, score=1.000 total time= 3.7min\n",
      "[CV 2/2; 36/36] START learning_rate=0.2, max_depth=10, n_estimators=200, subsample=1.0\n",
      "[CV 2/2; 15/36] END learning_rate=0.1, max_depth=3, n_estimators=200, subsample=0.8;, score=1.000 total time= 7.3min\n"
     ]
    },
    {
     "name": "stderr",
     "output_type": "stream",
     "text": [
      "/home/michi/BA/.venv/lib/python3.10/site-packages/xgboost/core.py:158: UserWarning: [09:01:46] WARNING: /workspace/src/learner.cc:740: \n",
      "Parameters: { \"use_label_encoder\" } are not used.\n",
      "\n",
      "  warnings.warn(smsg, UserWarning)\n"
     ]
    },
    {
     "name": "stdout",
     "output_type": "stream",
     "text": [
      "[CV 2/2; 20/36] END learning_rate=0.1, max_depth=6, n_estimators=200, subsample=1.0;, score=1.000 total time= 6.7min\n",
      "[CV 1/2; 29/36] END learning_rate=0.2, max_depth=6, n_estimators=100, subsample=0.8;, score=1.000 total time= 3.2min\n",
      "[CV 2/2; 30/36] END learning_rate=0.2, max_depth=6, n_estimators=100, subsample=1.0;, score=1.000 total time= 3.0min\n",
      "[CV 1/2; 20/36] END learning_rate=0.1, max_depth=6, n_estimators=200, subsample=1.0;, score=1.000 total time= 7.0min\n",
      "[CV 1/2; 30/36] END learning_rate=0.2, max_depth=6, n_estimators=100, subsample=1.0;, score=1.000 total time= 3.4min\n",
      "[CV 1/2; 19/36] END learning_rate=0.1, max_depth=6, n_estimators=200, subsample=0.8;, score=1.000 total time= 7.5min\n",
      "[CV 2/2; 29/36] END learning_rate=0.2, max_depth=6, n_estimators=100, subsample=0.8;, score=1.000 total time= 3.7min\n",
      "[CV 1/2; 23/36] END learning_rate=0.1, max_depth=10, n_estimators=200, subsample=0.8;, score=1.000 total time= 6.2min\n",
      "[CV 2/2; 23/36] END learning_rate=0.1, max_depth=10, n_estimators=200, subsample=0.8;, score=1.000 total time= 6.1min\n",
      "[CV 1/2; 33/36] END learning_rate=0.2, max_depth=10, n_estimators=100, subsample=0.8;, score=1.000 total time= 3.0min\n",
      "[CV 1/2; 27/36] END learning_rate=0.2, max_depth=3, n_estimators=200, subsample=0.8;, score=1.000 total time= 5.2min\n",
      "[CV 2/2; 27/36] END learning_rate=0.2, max_depth=3, n_estimators=200, subsample=0.8;, score=1.000 total time= 5.1min\n",
      "[CV 1/2; 28/36] END learning_rate=0.2, max_depth=3, n_estimators=200, subsample=1.0;, score=1.000 total time= 5.1min\n",
      "[CV 1/2; 34/36] END learning_rate=0.2, max_depth=10, n_estimators=100, subsample=1.0;, score=1.000 total time= 2.6min\n",
      "[CV 2/2; 28/36] END learning_rate=0.2, max_depth=3, n_estimators=200, subsample=1.0;, score=1.000 total time= 4.9min\n",
      "[CV 1/2; 24/36] END learning_rate=0.1, max_depth=10, n_estimators=200, subsample=1.0;, score=1.000 total time= 6.4min\n",
      "[CV 2/2; 24/36] END learning_rate=0.1, max_depth=10, n_estimators=200, subsample=1.0;, score=1.000 total time= 6.1min\n",
      "[CV 2/2; 33/36] END learning_rate=0.2, max_depth=10, n_estimators=100, subsample=0.8;, score=1.000 total time= 2.6min\n",
      "[CV 2/2; 34/36] END learning_rate=0.2, max_depth=10, n_estimators=100, subsample=1.0;, score=1.000 total time= 2.6min\n",
      "[CV 2/2; 31/36] END learning_rate=0.2, max_depth=6, n_estimators=200, subsample=0.8;, score=1.000 total time= 5.0min\n",
      "[CV 1/2; 32/36] END learning_rate=0.2, max_depth=6, n_estimators=200, subsample=1.0;, score=1.000 total time= 4.5min\n",
      "[CV 2/2; 32/36] END learning_rate=0.2, max_depth=6, n_estimators=200, subsample=1.0;, score=1.000 total time= 4.6min\n",
      "[CV 1/2; 31/36] END learning_rate=0.2, max_depth=6, n_estimators=200, subsample=0.8;, score=1.000 total time= 5.4min\n",
      "[CV 1/2; 36/36] END learning_rate=0.2, max_depth=10, n_estimators=200, subsample=1.0;, score=1.000 total time= 3.5min\n",
      "[CV 2/2; 35/36] END learning_rate=0.2, max_depth=10, n_estimators=200, subsample=0.8;, score=1.000 total time= 3.5min\n",
      "[CV 2/2; 36/36] END learning_rate=0.2, max_depth=10, n_estimators=200, subsample=1.0;, score=1.000 total time= 3.2min\n",
      "[CV 1/2; 35/36] END learning_rate=0.2, max_depth=10, n_estimators=200, subsample=0.8;, score=1.000 total time= 3.7min\n"
     ]
    },
    {
     "name": "stderr",
     "output_type": "stream",
     "text": [
      "/home/michi/BA/.venv/lib/python3.10/site-packages/xgboost/core.py:158: UserWarning: [09:04:57] WARNING: /workspace/src/learner.cc:740: \n",
      "Parameters: { \"use_label_encoder\" } are not used.\n",
      "\n",
      "  warnings.warn(smsg, UserWarning)\n"
     ]
    },
    {
     "data": {
      "text/html": [
       "<style>#sk-container-id-1 {\n",
       "  /* Definition of color scheme common for light and dark mode */\n",
       "  --sklearn-color-text: black;\n",
       "  --sklearn-color-line: gray;\n",
       "  /* Definition of color scheme for unfitted estimators */\n",
       "  --sklearn-color-unfitted-level-0: #fff5e6;\n",
       "  --sklearn-color-unfitted-level-1: #f6e4d2;\n",
       "  --sklearn-color-unfitted-level-2: #ffe0b3;\n",
       "  --sklearn-color-unfitted-level-3: chocolate;\n",
       "  /* Definition of color scheme for fitted estimators */\n",
       "  --sklearn-color-fitted-level-0: #f0f8ff;\n",
       "  --sklearn-color-fitted-level-1: #d4ebff;\n",
       "  --sklearn-color-fitted-level-2: #b3dbfd;\n",
       "  --sklearn-color-fitted-level-3: cornflowerblue;\n",
       "\n",
       "  /* Specific color for light theme */\n",
       "  --sklearn-color-text-on-default-background: var(--sg-text-color, var(--theme-code-foreground, var(--jp-content-font-color1, black)));\n",
       "  --sklearn-color-background: var(--sg-background-color, var(--theme-background, var(--jp-layout-color0, white)));\n",
       "  --sklearn-color-border-box: var(--sg-text-color, var(--theme-code-foreground, var(--jp-content-font-color1, black)));\n",
       "  --sklearn-color-icon: #696969;\n",
       "\n",
       "  @media (prefers-color-scheme: dark) {\n",
       "    /* Redefinition of color scheme for dark theme */\n",
       "    --sklearn-color-text-on-default-background: var(--sg-text-color, var(--theme-code-foreground, var(--jp-content-font-color1, white)));\n",
       "    --sklearn-color-background: var(--sg-background-color, var(--theme-background, var(--jp-layout-color0, #111)));\n",
       "    --sklearn-color-border-box: var(--sg-text-color, var(--theme-code-foreground, var(--jp-content-font-color1, white)));\n",
       "    --sklearn-color-icon: #878787;\n",
       "  }\n",
       "}\n",
       "\n",
       "#sk-container-id-1 {\n",
       "  color: var(--sklearn-color-text);\n",
       "}\n",
       "\n",
       "#sk-container-id-1 pre {\n",
       "  padding: 0;\n",
       "}\n",
       "\n",
       "#sk-container-id-1 input.sk-hidden--visually {\n",
       "  border: 0;\n",
       "  clip: rect(1px 1px 1px 1px);\n",
       "  clip: rect(1px, 1px, 1px, 1px);\n",
       "  height: 1px;\n",
       "  margin: -1px;\n",
       "  overflow: hidden;\n",
       "  padding: 0;\n",
       "  position: absolute;\n",
       "  width: 1px;\n",
       "}\n",
       "\n",
       "#sk-container-id-1 div.sk-dashed-wrapped {\n",
       "  border: 1px dashed var(--sklearn-color-line);\n",
       "  margin: 0 0.4em 0.5em 0.4em;\n",
       "  box-sizing: border-box;\n",
       "  padding-bottom: 0.4em;\n",
       "  background-color: var(--sklearn-color-background);\n",
       "}\n",
       "\n",
       "#sk-container-id-1 div.sk-container {\n",
       "  /* jupyter's `normalize.less` sets `[hidden] { display: none; }`\n",
       "     but bootstrap.min.css set `[hidden] { display: none !important; }`\n",
       "     so we also need the `!important` here to be able to override the\n",
       "     default hidden behavior on the sphinx rendered scikit-learn.org.\n",
       "     See: https://github.com/scikit-learn/scikit-learn/issues/21755 */\n",
       "  display: inline-block !important;\n",
       "  position: relative;\n",
       "}\n",
       "\n",
       "#sk-container-id-1 div.sk-text-repr-fallback {\n",
       "  display: none;\n",
       "}\n",
       "\n",
       "div.sk-parallel-item,\n",
       "div.sk-serial,\n",
       "div.sk-item {\n",
       "  /* draw centered vertical line to link estimators */\n",
       "  background-image: linear-gradient(var(--sklearn-color-text-on-default-background), var(--sklearn-color-text-on-default-background));\n",
       "  background-size: 2px 100%;\n",
       "  background-repeat: no-repeat;\n",
       "  background-position: center center;\n",
       "}\n",
       "\n",
       "/* Parallel-specific style estimator block */\n",
       "\n",
       "#sk-container-id-1 div.sk-parallel-item::after {\n",
       "  content: \"\";\n",
       "  width: 100%;\n",
       "  border-bottom: 2px solid var(--sklearn-color-text-on-default-background);\n",
       "  flex-grow: 1;\n",
       "}\n",
       "\n",
       "#sk-container-id-1 div.sk-parallel {\n",
       "  display: flex;\n",
       "  align-items: stretch;\n",
       "  justify-content: center;\n",
       "  background-color: var(--sklearn-color-background);\n",
       "  position: relative;\n",
       "}\n",
       "\n",
       "#sk-container-id-1 div.sk-parallel-item {\n",
       "  display: flex;\n",
       "  flex-direction: column;\n",
       "}\n",
       "\n",
       "#sk-container-id-1 div.sk-parallel-item:first-child::after {\n",
       "  align-self: flex-end;\n",
       "  width: 50%;\n",
       "}\n",
       "\n",
       "#sk-container-id-1 div.sk-parallel-item:last-child::after {\n",
       "  align-self: flex-start;\n",
       "  width: 50%;\n",
       "}\n",
       "\n",
       "#sk-container-id-1 div.sk-parallel-item:only-child::after {\n",
       "  width: 0;\n",
       "}\n",
       "\n",
       "/* Serial-specific style estimator block */\n",
       "\n",
       "#sk-container-id-1 div.sk-serial {\n",
       "  display: flex;\n",
       "  flex-direction: column;\n",
       "  align-items: center;\n",
       "  background-color: var(--sklearn-color-background);\n",
       "  padding-right: 1em;\n",
       "  padding-left: 1em;\n",
       "}\n",
       "\n",
       "\n",
       "/* Toggleable style: style used for estimator/Pipeline/ColumnTransformer box that is\n",
       "clickable and can be expanded/collapsed.\n",
       "- Pipeline and ColumnTransformer use this feature and define the default style\n",
       "- Estimators will overwrite some part of the style using the `sk-estimator` class\n",
       "*/\n",
       "\n",
       "/* Pipeline and ColumnTransformer style (default) */\n",
       "\n",
       "#sk-container-id-1 div.sk-toggleable {\n",
       "  /* Default theme specific background. It is overwritten whether we have a\n",
       "  specific estimator or a Pipeline/ColumnTransformer */\n",
       "  background-color: var(--sklearn-color-background);\n",
       "}\n",
       "\n",
       "/* Toggleable label */\n",
       "#sk-container-id-1 label.sk-toggleable__label {\n",
       "  cursor: pointer;\n",
       "  display: block;\n",
       "  width: 100%;\n",
       "  margin-bottom: 0;\n",
       "  padding: 0.5em;\n",
       "  box-sizing: border-box;\n",
       "  text-align: center;\n",
       "}\n",
       "\n",
       "#sk-container-id-1 label.sk-toggleable__label-arrow:before {\n",
       "  /* Arrow on the left of the label */\n",
       "  content: \"▸\";\n",
       "  float: left;\n",
       "  margin-right: 0.25em;\n",
       "  color: var(--sklearn-color-icon);\n",
       "}\n",
       "\n",
       "#sk-container-id-1 label.sk-toggleable__label-arrow:hover:before {\n",
       "  color: var(--sklearn-color-text);\n",
       "}\n",
       "\n",
       "/* Toggleable content - dropdown */\n",
       "\n",
       "#sk-container-id-1 div.sk-toggleable__content {\n",
       "  max-height: 0;\n",
       "  max-width: 0;\n",
       "  overflow: hidden;\n",
       "  text-align: left;\n",
       "  /* unfitted */\n",
       "  background-color: var(--sklearn-color-unfitted-level-0);\n",
       "}\n",
       "\n",
       "#sk-container-id-1 div.sk-toggleable__content.fitted {\n",
       "  /* fitted */\n",
       "  background-color: var(--sklearn-color-fitted-level-0);\n",
       "}\n",
       "\n",
       "#sk-container-id-1 div.sk-toggleable__content pre {\n",
       "  margin: 0.2em;\n",
       "  border-radius: 0.25em;\n",
       "  color: var(--sklearn-color-text);\n",
       "  /* unfitted */\n",
       "  background-color: var(--sklearn-color-unfitted-level-0);\n",
       "}\n",
       "\n",
       "#sk-container-id-1 div.sk-toggleable__content.fitted pre {\n",
       "  /* unfitted */\n",
       "  background-color: var(--sklearn-color-fitted-level-0);\n",
       "}\n",
       "\n",
       "#sk-container-id-1 input.sk-toggleable__control:checked~div.sk-toggleable__content {\n",
       "  /* Expand drop-down */\n",
       "  max-height: 200px;\n",
       "  max-width: 100%;\n",
       "  overflow: auto;\n",
       "}\n",
       "\n",
       "#sk-container-id-1 input.sk-toggleable__control:checked~label.sk-toggleable__label-arrow:before {\n",
       "  content: \"▾\";\n",
       "}\n",
       "\n",
       "/* Pipeline/ColumnTransformer-specific style */\n",
       "\n",
       "#sk-container-id-1 div.sk-label input.sk-toggleable__control:checked~label.sk-toggleable__label {\n",
       "  color: var(--sklearn-color-text);\n",
       "  background-color: var(--sklearn-color-unfitted-level-2);\n",
       "}\n",
       "\n",
       "#sk-container-id-1 div.sk-label.fitted input.sk-toggleable__control:checked~label.sk-toggleable__label {\n",
       "  background-color: var(--sklearn-color-fitted-level-2);\n",
       "}\n",
       "\n",
       "/* Estimator-specific style */\n",
       "\n",
       "/* Colorize estimator box */\n",
       "#sk-container-id-1 div.sk-estimator input.sk-toggleable__control:checked~label.sk-toggleable__label {\n",
       "  /* unfitted */\n",
       "  background-color: var(--sklearn-color-unfitted-level-2);\n",
       "}\n",
       "\n",
       "#sk-container-id-1 div.sk-estimator.fitted input.sk-toggleable__control:checked~label.sk-toggleable__label {\n",
       "  /* fitted */\n",
       "  background-color: var(--sklearn-color-fitted-level-2);\n",
       "}\n",
       "\n",
       "#sk-container-id-1 div.sk-label label.sk-toggleable__label,\n",
       "#sk-container-id-1 div.sk-label label {\n",
       "  /* The background is the default theme color */\n",
       "  color: var(--sklearn-color-text-on-default-background);\n",
       "}\n",
       "\n",
       "/* On hover, darken the color of the background */\n",
       "#sk-container-id-1 div.sk-label:hover label.sk-toggleable__label {\n",
       "  color: var(--sklearn-color-text);\n",
       "  background-color: var(--sklearn-color-unfitted-level-2);\n",
       "}\n",
       "\n",
       "/* Label box, darken color on hover, fitted */\n",
       "#sk-container-id-1 div.sk-label.fitted:hover label.sk-toggleable__label.fitted {\n",
       "  color: var(--sklearn-color-text);\n",
       "  background-color: var(--sklearn-color-fitted-level-2);\n",
       "}\n",
       "\n",
       "/* Estimator label */\n",
       "\n",
       "#sk-container-id-1 div.sk-label label {\n",
       "  font-family: monospace;\n",
       "  font-weight: bold;\n",
       "  display: inline-block;\n",
       "  line-height: 1.2em;\n",
       "}\n",
       "\n",
       "#sk-container-id-1 div.sk-label-container {\n",
       "  text-align: center;\n",
       "}\n",
       "\n",
       "/* Estimator-specific */\n",
       "#sk-container-id-1 div.sk-estimator {\n",
       "  font-family: monospace;\n",
       "  border: 1px dotted var(--sklearn-color-border-box);\n",
       "  border-radius: 0.25em;\n",
       "  box-sizing: border-box;\n",
       "  margin-bottom: 0.5em;\n",
       "  /* unfitted */\n",
       "  background-color: var(--sklearn-color-unfitted-level-0);\n",
       "}\n",
       "\n",
       "#sk-container-id-1 div.sk-estimator.fitted {\n",
       "  /* fitted */\n",
       "  background-color: var(--sklearn-color-fitted-level-0);\n",
       "}\n",
       "\n",
       "/* on hover */\n",
       "#sk-container-id-1 div.sk-estimator:hover {\n",
       "  /* unfitted */\n",
       "  background-color: var(--sklearn-color-unfitted-level-2);\n",
       "}\n",
       "\n",
       "#sk-container-id-1 div.sk-estimator.fitted:hover {\n",
       "  /* fitted */\n",
       "  background-color: var(--sklearn-color-fitted-level-2);\n",
       "}\n",
       "\n",
       "/* Specification for estimator info (e.g. \"i\" and \"?\") */\n",
       "\n",
       "/* Common style for \"i\" and \"?\" */\n",
       "\n",
       ".sk-estimator-doc-link,\n",
       "a:link.sk-estimator-doc-link,\n",
       "a:visited.sk-estimator-doc-link {\n",
       "  float: right;\n",
       "  font-size: smaller;\n",
       "  line-height: 1em;\n",
       "  font-family: monospace;\n",
       "  background-color: var(--sklearn-color-background);\n",
       "  border-radius: 1em;\n",
       "  height: 1em;\n",
       "  width: 1em;\n",
       "  text-decoration: none !important;\n",
       "  margin-left: 1ex;\n",
       "  /* unfitted */\n",
       "  border: var(--sklearn-color-unfitted-level-1) 1pt solid;\n",
       "  color: var(--sklearn-color-unfitted-level-1);\n",
       "}\n",
       "\n",
       ".sk-estimator-doc-link.fitted,\n",
       "a:link.sk-estimator-doc-link.fitted,\n",
       "a:visited.sk-estimator-doc-link.fitted {\n",
       "  /* fitted */\n",
       "  border: var(--sklearn-color-fitted-level-1) 1pt solid;\n",
       "  color: var(--sklearn-color-fitted-level-1);\n",
       "}\n",
       "\n",
       "/* On hover */\n",
       "div.sk-estimator:hover .sk-estimator-doc-link:hover,\n",
       ".sk-estimator-doc-link:hover,\n",
       "div.sk-label-container:hover .sk-estimator-doc-link:hover,\n",
       ".sk-estimator-doc-link:hover {\n",
       "  /* unfitted */\n",
       "  background-color: var(--sklearn-color-unfitted-level-3);\n",
       "  color: var(--sklearn-color-background);\n",
       "  text-decoration: none;\n",
       "}\n",
       "\n",
       "div.sk-estimator.fitted:hover .sk-estimator-doc-link.fitted:hover,\n",
       ".sk-estimator-doc-link.fitted:hover,\n",
       "div.sk-label-container:hover .sk-estimator-doc-link.fitted:hover,\n",
       ".sk-estimator-doc-link.fitted:hover {\n",
       "  /* fitted */\n",
       "  background-color: var(--sklearn-color-fitted-level-3);\n",
       "  color: var(--sklearn-color-background);\n",
       "  text-decoration: none;\n",
       "}\n",
       "\n",
       "/* Span, style for the box shown on hovering the info icon */\n",
       ".sk-estimator-doc-link span {\n",
       "  display: none;\n",
       "  z-index: 9999;\n",
       "  position: relative;\n",
       "  font-weight: normal;\n",
       "  right: .2ex;\n",
       "  padding: .5ex;\n",
       "  margin: .5ex;\n",
       "  width: min-content;\n",
       "  min-width: 20ex;\n",
       "  max-width: 50ex;\n",
       "  color: var(--sklearn-color-text);\n",
       "  box-shadow: 2pt 2pt 4pt #999;\n",
       "  /* unfitted */\n",
       "  background: var(--sklearn-color-unfitted-level-0);\n",
       "  border: .5pt solid var(--sklearn-color-unfitted-level-3);\n",
       "}\n",
       "\n",
       ".sk-estimator-doc-link.fitted span {\n",
       "  /* fitted */\n",
       "  background: var(--sklearn-color-fitted-level-0);\n",
       "  border: var(--sklearn-color-fitted-level-3);\n",
       "}\n",
       "\n",
       ".sk-estimator-doc-link:hover span {\n",
       "  display: block;\n",
       "}\n",
       "\n",
       "/* \"?\"-specific style due to the `<a>` HTML tag */\n",
       "\n",
       "#sk-container-id-1 a.estimator_doc_link {\n",
       "  float: right;\n",
       "  font-size: 1rem;\n",
       "  line-height: 1em;\n",
       "  font-family: monospace;\n",
       "  background-color: var(--sklearn-color-background);\n",
       "  border-radius: 1rem;\n",
       "  height: 1rem;\n",
       "  width: 1rem;\n",
       "  text-decoration: none;\n",
       "  /* unfitted */\n",
       "  color: var(--sklearn-color-unfitted-level-1);\n",
       "  border: var(--sklearn-color-unfitted-level-1) 1pt solid;\n",
       "}\n",
       "\n",
       "#sk-container-id-1 a.estimator_doc_link.fitted {\n",
       "  /* fitted */\n",
       "  border: var(--sklearn-color-fitted-level-1) 1pt solid;\n",
       "  color: var(--sklearn-color-fitted-level-1);\n",
       "}\n",
       "\n",
       "/* On hover */\n",
       "#sk-container-id-1 a.estimator_doc_link:hover {\n",
       "  /* unfitted */\n",
       "  background-color: var(--sklearn-color-unfitted-level-3);\n",
       "  color: var(--sklearn-color-background);\n",
       "  text-decoration: none;\n",
       "}\n",
       "\n",
       "#sk-container-id-1 a.estimator_doc_link.fitted:hover {\n",
       "  /* fitted */\n",
       "  background-color: var(--sklearn-color-fitted-level-3);\n",
       "}\n",
       "</style><div id=\"sk-container-id-1\" class=\"sk-top-container\"><div class=\"sk-text-repr-fallback\"><pre>GridSearchCV(cv=2,\n",
       "             estimator=XGBClassifier(base_score=None, booster=None,\n",
       "                                     callbacks=None, colsample_bylevel=None,\n",
       "                                     colsample_bynode=None,\n",
       "                                     colsample_bytree=None, device=None,\n",
       "                                     early_stopping_rounds=None,\n",
       "                                     enable_categorical=False,\n",
       "                                     eval_metric=&#x27;mlogloss&#x27;, feature_types=None,\n",
       "                                     gamma=None, grow_policy=None,\n",
       "                                     importance_type=None,\n",
       "                                     interaction_constraints=None,\n",
       "                                     learning_rate...\n",
       "                                     max_delta_step=None, max_depth=None,\n",
       "                                     max_leaves=None, min_child_weight=None,\n",
       "                                     missing=nan, monotone_constraints=None,\n",
       "                                     multi_strategy=None, n_estimators=None,\n",
       "                                     n_jobs=None, num_parallel_tree=None,\n",
       "                                     random_state=42, ...),\n",
       "             n_jobs=-1,\n",
       "             param_grid={&#x27;learning_rate&#x27;: [0.01, 0.1, 0.2],\n",
       "                         &#x27;max_depth&#x27;: [3, 6, 10], &#x27;n_estimators&#x27;: [100, 200],\n",
       "                         &#x27;subsample&#x27;: [0.8, 1.0]},\n",
       "             scoring=&#x27;accuracy&#x27;, verbose=10)</pre><b>In a Jupyter environment, please rerun this cell to show the HTML representation or trust the notebook. <br />On GitHub, the HTML representation is unable to render, please try loading this page with nbviewer.org.</b></div><div class=\"sk-container\" hidden><div class=\"sk-item sk-dashed-wrapped\"><div class=\"sk-label-container\"><div class=\"sk-label fitted sk-toggleable\"><input class=\"sk-toggleable__control sk-hidden--visually\" id=\"sk-estimator-id-1\" type=\"checkbox\" ><label for=\"sk-estimator-id-1\" class=\"sk-toggleable__label fitted sk-toggleable__label-arrow fitted\">&nbsp;&nbsp;GridSearchCV<a class=\"sk-estimator-doc-link fitted\" rel=\"noreferrer\" target=\"_blank\" href=\"https://scikit-learn.org/1.5/modules/generated/sklearn.model_selection.GridSearchCV.html\">?<span>Documentation for GridSearchCV</span></a><span class=\"sk-estimator-doc-link fitted\">i<span>Fitted</span></span></label><div class=\"sk-toggleable__content fitted\"><pre>GridSearchCV(cv=2,\n",
       "             estimator=XGBClassifier(base_score=None, booster=None,\n",
       "                                     callbacks=None, colsample_bylevel=None,\n",
       "                                     colsample_bynode=None,\n",
       "                                     colsample_bytree=None, device=None,\n",
       "                                     early_stopping_rounds=None,\n",
       "                                     enable_categorical=False,\n",
       "                                     eval_metric=&#x27;mlogloss&#x27;, feature_types=None,\n",
       "                                     gamma=None, grow_policy=None,\n",
       "                                     importance_type=None,\n",
       "                                     interaction_constraints=None,\n",
       "                                     learning_rate...\n",
       "                                     max_delta_step=None, max_depth=None,\n",
       "                                     max_leaves=None, min_child_weight=None,\n",
       "                                     missing=nan, monotone_constraints=None,\n",
       "                                     multi_strategy=None, n_estimators=None,\n",
       "                                     n_jobs=None, num_parallel_tree=None,\n",
       "                                     random_state=42, ...),\n",
       "             n_jobs=-1,\n",
       "             param_grid={&#x27;learning_rate&#x27;: [0.01, 0.1, 0.2],\n",
       "                         &#x27;max_depth&#x27;: [3, 6, 10], &#x27;n_estimators&#x27;: [100, 200],\n",
       "                         &#x27;subsample&#x27;: [0.8, 1.0]},\n",
       "             scoring=&#x27;accuracy&#x27;, verbose=10)</pre></div> </div></div><div class=\"sk-parallel\"><div class=\"sk-parallel-item\"><div class=\"sk-item\"><div class=\"sk-label-container\"><div class=\"sk-label fitted sk-toggleable\"><input class=\"sk-toggleable__control sk-hidden--visually\" id=\"sk-estimator-id-2\" type=\"checkbox\" ><label for=\"sk-estimator-id-2\" class=\"sk-toggleable__label fitted sk-toggleable__label-arrow fitted\">best_estimator_: XGBClassifier</label><div class=\"sk-toggleable__content fitted\"><pre>XGBClassifier(base_score=None, booster=None, callbacks=None,\n",
       "              colsample_bylevel=None, colsample_bynode=None,\n",
       "              colsample_bytree=None, device=None, early_stopping_rounds=None,\n",
       "              enable_categorical=False, eval_metric=&#x27;mlogloss&#x27;,\n",
       "              feature_types=None, gamma=None, grow_policy=None,\n",
       "              importance_type=None, interaction_constraints=None,\n",
       "              learning_rate=0.2, max_bin=None, max_cat_threshold=None,\n",
       "              max_cat_to_onehot=None, max_delta_step=None, max_depth=3,\n",
       "              max_leaves=None, min_child_weight=None, missing=nan,\n",
       "              monotone_constraints=None, multi_strategy=None, n_estimators=200,\n",
       "              n_jobs=None, num_parallel_tree=None, objective=&#x27;multi:softprob&#x27;, ...)</pre></div> </div></div><div class=\"sk-serial\"><div class=\"sk-item\"><div class=\"sk-estimator fitted sk-toggleable\"><input class=\"sk-toggleable__control sk-hidden--visually\" id=\"sk-estimator-id-3\" type=\"checkbox\" ><label for=\"sk-estimator-id-3\" class=\"sk-toggleable__label fitted sk-toggleable__label-arrow fitted\">XGBClassifier</label><div class=\"sk-toggleable__content fitted\"><pre>XGBClassifier(base_score=None, booster=None, callbacks=None,\n",
       "              colsample_bylevel=None, colsample_bynode=None,\n",
       "              colsample_bytree=None, device=None, early_stopping_rounds=None,\n",
       "              enable_categorical=False, eval_metric=&#x27;mlogloss&#x27;,\n",
       "              feature_types=None, gamma=None, grow_policy=None,\n",
       "              importance_type=None, interaction_constraints=None,\n",
       "              learning_rate=0.2, max_bin=None, max_cat_threshold=None,\n",
       "              max_cat_to_onehot=None, max_delta_step=None, max_depth=3,\n",
       "              max_leaves=None, min_child_weight=None, missing=nan,\n",
       "              monotone_constraints=None, multi_strategy=None, n_estimators=200,\n",
       "              n_jobs=None, num_parallel_tree=None, objective=&#x27;multi:softprob&#x27;, ...)</pre></div> </div></div></div></div></div></div></div></div></div>"
      ],
      "text/plain": [
       "GridSearchCV(cv=2,\n",
       "             estimator=XGBClassifier(base_score=None, booster=None,\n",
       "                                     callbacks=None, colsample_bylevel=None,\n",
       "                                     colsample_bynode=None,\n",
       "                                     colsample_bytree=None, device=None,\n",
       "                                     early_stopping_rounds=None,\n",
       "                                     enable_categorical=False,\n",
       "                                     eval_metric='mlogloss', feature_types=None,\n",
       "                                     gamma=None, grow_policy=None,\n",
       "                                     importance_type=None,\n",
       "                                     interaction_constraints=None,\n",
       "                                     learning_rate...\n",
       "                                     max_delta_step=None, max_depth=None,\n",
       "                                     max_leaves=None, min_child_weight=None,\n",
       "                                     missing=nan, monotone_constraints=None,\n",
       "                                     multi_strategy=None, n_estimators=None,\n",
       "                                     n_jobs=None, num_parallel_tree=None,\n",
       "                                     random_state=42, ...),\n",
       "             n_jobs=-1,\n",
       "             param_grid={'learning_rate': [0.01, 0.1, 0.2],\n",
       "                         'max_depth': [3, 6, 10], 'n_estimators': [100, 200],\n",
       "                         'subsample': [0.8, 1.0]},\n",
       "             scoring='accuracy', verbose=10)"
      ]
     },
     "execution_count": 12,
     "metadata": {},
     "output_type": "execute_result"
    }
   ],
   "source": [
    "param_grid = {\n",
    "    'n_estimators': [100, 200],      # Anzahl der Bäume im Modell\n",
    "    'max_depth': [3, 6, 10],         # Maximale Tiefe der Bäume\n",
    "    'learning_rate': [0.01, 0.1, 0.2],  # Lernrate für den Boosting-Prozess\n",
    "    'subsample': [0.8, 1.0]          # Prozentsatz der verwendeten Datenpunkte pro Baum\n",
    "}\n",
    "\n",
    "\n",
    "grid_search = GridSearchCV(XGBClassifier( \n",
    "    eval_metric='mlogloss', \n",
    "    random_state=42), \n",
    "    param_grid, \n",
    "    cv=2, \n",
    "    scoring='accuracy', \n",
    "    n_jobs=-1, \n",
    "    verbose=10)\n",
    "\n",
    "\n",
    "grid_search.fit(X_train, y_train)"
   ]
  },
  {
   "cell_type": "markdown",
   "metadata": {},
   "source": [
    " ### Bestes Modell auswählen"
   ]
  },
  {
   "cell_type": "code",
   "execution_count": 13,
   "metadata": {},
   "outputs": [
    {
     "name": "stderr",
     "output_type": "stream",
     "text": [
      "2024-11-05 09:06:10 - INFO - Beste Hyperparameter: {'learning_rate': 0.2, 'max_depth': 3, 'n_estimators': 200, 'subsample': 0.8}\n"
     ]
    }
   ],
   "source": [
    "best_model = grid_search.best_estimator_\n",
    "logging.info(f\"Beste Hyperparameter: {grid_search.best_params_}\")"
   ]
  },
  {
   "cell_type": "markdown",
   "metadata": {},
   "source": [
    "### Evaluierung auf dem Validierungsdatensatz"
   ]
  },
  {
   "cell_type": "code",
   "execution_count": 14,
   "metadata": {},
   "outputs": [
    {
     "name": "stdout",
     "output_type": "stream",
     "text": [
      "Validierungs-Accuracy: 100.00%\n",
      "\n",
      "Validierungs Classification Report:\n",
      "              precision    recall  f1-score   support\n",
      "\n",
      "           0       1.00      1.00      1.00    158257\n",
      "           1       1.00      1.00      1.00        74\n",
      "           2       1.00      1.00      1.00      9514\n",
      "           3       1.00      1.00      1.00       756\n",
      "           4       1.00      1.00      1.00     15847\n",
      "           5       1.00      1.00      1.00       386\n",
      "           6       1.00      1.00      1.00      7176\n",
      "           7       1.00      1.00      1.00       296\n",
      "           8       1.00      1.00      1.00         8\n",
      "           9       0.00      0.00      0.00         1\n",
      "          10       1.00      1.00      1.00         2\n",
      "\n",
      "    accuracy                           1.00    192317\n",
      "   macro avg       0.91      0.91      0.91    192317\n",
      "weighted avg       1.00      1.00      1.00    192317\n",
      "\n"
     ]
    },
    {
     "name": "stderr",
     "output_type": "stream",
     "text": [
      "/home/michi/BA/.venv/lib/python3.10/site-packages/sklearn/metrics/_classification.py:1531: UndefinedMetricWarning: Precision is ill-defined and being set to 0.0 in labels with no predicted samples. Use `zero_division` parameter to control this behavior.\n",
      "  _warn_prf(average, modifier, f\"{metric.capitalize()} is\", len(result))\n",
      "/home/michi/BA/.venv/lib/python3.10/site-packages/sklearn/metrics/_classification.py:1531: UndefinedMetricWarning: Precision is ill-defined and being set to 0.0 in labels with no predicted samples. Use `zero_division` parameter to control this behavior.\n",
      "  _warn_prf(average, modifier, f\"{metric.capitalize()} is\", len(result))\n",
      "/home/michi/BA/.venv/lib/python3.10/site-packages/sklearn/metrics/_classification.py:1531: UndefinedMetricWarning: Precision is ill-defined and being set to 0.0 in labels with no predicted samples. Use `zero_division` parameter to control this behavior.\n",
      "  _warn_prf(average, modifier, f\"{metric.capitalize()} is\", len(result))\n"
     ]
    }
   ],
   "source": [
    "y_val_pred = best_model.predict(X_val)\n",
    "val_accuracy = accuracy_score(y_val, y_val_pred)\n",
    "val_report = classification_report(y_val, y_val_pred)\n",
    "\n",
    "print(f\"Validierungs-Accuracy: {val_accuracy * 100:.2f}%\")\n",
    "print(\"\\nValidierungs Classification Report:\\n\" + val_report)"
   ]
  },
  {
   "cell_type": "markdown",
   "metadata": {},
   "source": [
    "### Evaluierung des Modells auf dem Testdatensatz"
   ]
  },
  {
   "cell_type": "code",
   "execution_count": 15,
   "metadata": {},
   "outputs": [
    {
     "name": "stderr",
     "output_type": "stream",
     "text": [
      "2024-11-05 09:06:11 - INFO - Test-Accuracy: 100.00%\n",
      "2024-11-05 09:06:11 - INFO - \n",
      "Test Classification Report:\n",
      "              precision    recall  f1-score   support\n",
      "\n",
      "           0       1.00      1.00      1.00    158256\n",
      "           1       1.00      1.00      1.00        73\n",
      "           2       1.00      1.00      1.00      9515\n",
      "           3       1.00      1.00      1.00       757\n",
      "           4       1.00      1.00      1.00     15847\n",
      "           5       1.00      1.00      1.00       386\n",
      "           6       1.00      1.00      1.00      7177\n",
      "           7       1.00      1.00      1.00       296\n",
      "           8       1.00      1.00      1.00         7\n",
      "           9       1.00      1.00      1.00         1\n",
      "          10       1.00      0.50      0.67         2\n",
      "\n",
      "    accuracy                           1.00    192317\n",
      "   macro avg       1.00      0.95      0.97    192317\n",
      "weighted avg       1.00      1.00      1.00    192317\n",
      "\n"
     ]
    }
   ],
   "source": [
    "y_test_pred = best_model.predict(X_test)\n",
    "test_accuracy = accuracy_score(y_test, y_test_pred)\n",
    "test_report = classification_report(y_test, y_test_pred)\n",
    "logging.info(f\"Test-Accuracy: {test_accuracy * 100:.2f}%\")\n",
    "logging.info(\"\\nTest Classification Report:\\n\" + test_report)"
   ]
  },
  {
   "cell_type": "markdown",
   "metadata": {},
   "source": [
    "### Klassifikationsbericht und eine Konfusionsmatrix"
   ]
  },
  {
   "cell_type": "code",
   "execution_count": 17,
   "metadata": {},
   "outputs": [
    {
     "name": "stdout",
     "output_type": "stream",
     "text": [
      "                              precision    recall  f1-score   support\n",
      "\n",
      "                      BENIGN       1.00      1.00      1.00    158256\n",
      "                 Botnet Ares       1.00      1.00      1.00        73\n",
      "              DDoS-LOIC-HTTP       1.00      1.00      1.00      9515\n",
      "               DoS GoldenEye       1.00      1.00      1.00       757\n",
      "                    DoS Hulk       1.00      1.00      1.00     15847\n",
      "               DoS Slowloris       1.00      1.00      1.00       386\n",
      "Infiltration - NMAP Portscan       1.00      1.00      1.00      7177\n",
      "              SSH-BruteForce       1.00      1.00      1.00       296\n",
      "    Web Attack - Brute Force       1.00      1.00      1.00         7\n",
      "            Web Attack - SQL       1.00      1.00      1.00         1\n",
      "            Web Attack - XSS       1.00      0.50      0.67         2\n",
      "\n",
      "                    accuracy                           1.00    192317\n",
      "                   macro avg       1.00      0.95      0.97    192317\n",
      "                weighted avg       1.00      1.00      1.00    192317\n",
      "\n",
      "Konfusionsmatrix:\n",
      "[[158254      0      0      0      0      0      2      0      0      0\n",
      "       0]\n",
      " [     0     73      0      0      0      0      0      0      0      0\n",
      "       0]\n",
      " [     0      0   9515      0      0      0      0      0      0      0\n",
      "       0]\n",
      " [     0      0      0    757      0      0      0      0      0      0\n",
      "       0]\n",
      " [     0      0      0      0  15847      0      0      0      0      0\n",
      "       0]\n",
      " [     0      0      0      0      0    386      0      0      0      0\n",
      "       0]\n",
      " [     2      0      0      0      0      0   7175      0      0      0\n",
      "       0]\n",
      " [     1      0      0      0      0      0      0    295      0      0\n",
      "       0]\n",
      " [     0      0      0      0      0      0      0      0      7      0\n",
      "       0]\n",
      " [     0      0      0      0      0      0      0      0      0      1\n",
      "       0]\n",
      " [     1      0      0      0      0      0      0      0      0      0\n",
      "       1]]\n"
     ]
    }
   ],
   "source": [
    "# Klassifikationsbericht\n",
    "print(classification_report(y_test, y_test_pred, target_names=label_encoder.classes_))\n",
    "\n",
    "# Konfusionsmatrix\n",
    "cm = confusion_matrix(y_test, y_test_pred)\n",
    "print(\"Konfusionsmatrix:\")\n",
    "print(cm)"
   ]
  },
  {
   "cell_type": "markdown",
   "metadata": {},
   "source": [
    "Visualisierung der Konfusionsmatrix"
   ]
  },
  {
   "cell_type": "code",
   "execution_count": 18,
   "metadata": {},
   "outputs": [
    {
     "data": {
      "image/png": "[encoded data removed]",
      "text/plain": [
       "<Figure size 1000x800 with 2 Axes>"
      ]
     },
     "metadata": {},
     "output_type": "display_data"
    }
   ],
   "source": [
    "import seaborn as sns\n",
    "\n",
    "plt.figure(figsize=(10, 8))\n",
    "sns.heatmap(cm, annot=True, fmt='d', cmap='Blues',\n",
    "            xticklabels=label_encoder.classes_,\n",
    "            yticklabels=label_encoder.classes_)\n",
    "plt.xlabel('Vorhergesagte Klasse')\n",
    "plt.ylabel('Wahre Klasse')\n",
    "plt.title('Konfusionsmatrix')\n",
    "plt.show()\n"
   ]
  },
  {
   "cell_type": "markdown",
   "metadata": {},
   "source": [
    "### Speichern des Modells und der Vorverarbeitungsschritte"
   ]
  },
  {
   "cell_type": "code",
   "execution_count": 19,
   "metadata": {},
   "outputs": [
    {
     "data": {
      "text/plain": [
       "['xgboost_model.pkl']"
      ]
     },
     "execution_count": 19,
     "metadata": {},
     "output_type": "execute_result"
    }
   ],
   "source": [
    "joblib.dump(label_encoder, 'label_encoder.pkl')\n",
    "joblib.dump(scaler, 'scaler.pkl')\n",
    "joblib.dump(best_model, 'xgboost_model.pkl')"
   ]
  }
 ],
 "metadata": {
  "kernelspec": {
   "display_name": ".venv",
   "language": "python",
   "name": "python3"
  },
  "language_info": {
   "codemirror_mode": {
    "name": "ipython",
    "version": 3
   },
   "file_extension": ".py",
   "mimetype": "text/x-python",
   "name": "python",
   "nbconvert_exporter": "python",
   "pygments_lexer": "ipython3",
   "version": "3.10.12"
  }
 },
 "nbformat": 4,
 "nbformat_minor": 2
}
