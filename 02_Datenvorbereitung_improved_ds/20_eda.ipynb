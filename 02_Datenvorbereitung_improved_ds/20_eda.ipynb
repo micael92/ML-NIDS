{
 "cells": [
  {
   "cell_type": "markdown",
   "metadata": {},
   "source": [
    "# Untersuchung der Datensätze"
   ]
  },
  {
   "cell_type": "code",
   "execution_count": 2,
   "metadata": {},
   "outputs": [],
   "source": [
    "import os\n",
    "import pandas as pd\n",
    "import logging\n",
    "import multiprocessing as mp"
   ]
  },
  {
   "cell_type": "code",
   "execution_count": 3,
   "metadata": {},
   "outputs": [],
   "source": [
    "# Logging Parameter\n",
    "logging.basicConfig(\n",
    "    filename='20_eda.log',\n",
    "    level=logging.INFO,\n",
    "    format='%(asctime)s - %(levelname)s - %(message)s',\n",
    "    datefmt='%Y-%m-%d %H:%M:%S'\n",
    ")\n",
    "\n",
    "# Verzeichnis der CSV-Dateien\n",
    "verzeichnis_ids17 = '../01_Datensaetze/improved_cic-ids-2017'\n",
    "verzeichnis_ids18 = '../01_Datensaetze/improved_cse-cic-ids-2018'\n",
    "\n",
    "nrows = None\n",
    "chunksize = 500000"
   ]
  },
  {
   "cell_type": "code",
   "execution_count": 4,
   "metadata": {},
   "outputs": [],
   "source": [
    "def get_data_info(verzeichnis, datei):\n",
    "    if datei.endswith('.csv'):\n",
    "        pfad_zur_datei = os.path.join(verzeichnis, datei)\n",
    "        try:\n",
    "            df = pd.read_csv(pfad_zur_datei, nrows=nrows)\n",
    "            logging.info(f\"Successfully read {pfad_zur_datei}.\")\n",
    "            return df.info()\n",
    "        except Exception as e:\n",
    "            logging.error(f\"Error reading {pfad_zur_datei}: {e}\")\n",
    "            return []\n",
    "    return []"
   ]
  },
  {
   "cell_type": "code",
   "execution_count": 5,
   "metadata": {},
   "outputs": [
    {
     "name": "stdout",
     "output_type": "stream",
     "text": [
      "<class 'pandas.core.frame.DataFrame'>\n",
      "RangeIndex: 6311371 entries, 0 to 6311370\n",
      "Data columns (total 84 columns):\n",
      " #   Column                      Dtype  \n",
      "---  ------                      -----  \n",
      " 0   Dst Port                    int64  \n",
      " 1   Protocol                    int64  \n",
      " 2   Flow Duration               int64  \n",
      " 3   Total Fwd Packet            int64  \n",
      " 4   Total Bwd packets           int64  \n",
      " 5   Total Length of Fwd Packet  int64  \n",
      " 6   Total Length of Bwd Packet  int64  \n",
      " 7   Fwd Packet Length Max       int64  \n",
      " 8   Fwd Packet Length Min       int64  \n",
      " 9   Fwd Packet Length Mean      float64\n",
      " 10  Fwd Packet Length Std       float64\n",
      " 11  Bwd Packet Length Max       int64  \n",
      " 12  Bwd Packet Length Min       int64  \n",
      " 13  Bwd Packet Length Mean      float64\n",
      " 14  Bwd Packet Length Std       float64\n",
      " 15  Flow Bytes/s                float64\n",
      " 16  Flow Packets/s              float64\n",
      " 17  Flow IAT Mean               float64\n",
      " 18  Flow IAT Std                float64\n",
      " 19  Flow IAT Max                int64  \n",
      " 20  Flow IAT Min                int64  \n",
      " 21  Fwd IAT Total               int64  \n",
      " 22  Fwd IAT Mean                float64\n",
      " 23  Fwd IAT Std                 float64\n",
      " 24  Fwd IAT Max                 int64  \n",
      " 25  Fwd IAT Min                 int64  \n",
      " 26  Bwd IAT Total               int64  \n",
      " 27  Bwd IAT Mean                float64\n",
      " 28  Bwd IAT Std                 float64\n",
      " 29  Bwd IAT Max                 int64  \n",
      " 30  Bwd IAT Min                 int64  \n",
      " 31  Fwd PSH Flags               int64  \n",
      " 32  Bwd PSH Flags               int64  \n",
      " 33  Fwd URG Flags               int64  \n",
      " 34  Bwd URG Flags               int64  \n",
      " 35  Fwd RST Flags               int64  \n",
      " 36  Bwd RST Flags               int64  \n",
      " 37  Fwd Header Length           int64  \n",
      " 38  Bwd Header Length           int64  \n",
      " 39  Fwd Packets/s               float64\n",
      " 40  Bwd Packets/s               float64\n",
      " 41  Packet Length Min           int64  \n",
      " 42  Packet Length Max           int64  \n",
      " 43  Packet Length Mean          float64\n",
      " 44  Packet Length Std           float64\n",
      " 45  Packet Length Variance      float64\n",
      " 46  FIN Flag Count              int64  \n",
      " 47  SYN Flag Count              int64  \n",
      " 48  RST Flag Count              int64  \n",
      " 49  PSH Flag Count              int64  \n",
      " 50  ACK Flag Count              int64  \n",
      " 51  URG Flag Count              int64  \n",
      " 52  CWR Flag Count              int64  \n",
      " 53  ECE Flag Count              int64  \n",
      " 54  Down/Up Ratio               float64\n",
      " 55  Average Packet Size         float64\n",
      " 56  Fwd Segment Size Avg        float64\n",
      " 57  Bwd Segment Size Avg        float64\n",
      " 58  Fwd Bytes/Bulk Avg          int64  \n",
      " 59  Fwd Packet/Bulk Avg         int64  \n",
      " 60  Fwd Bulk Rate Avg           int64  \n",
      " 61  Bwd Bytes/Bulk Avg          int64  \n",
      " 62  Bwd Packet/Bulk Avg         int64  \n",
      " 63  Bwd Bulk Rate Avg           int64  \n",
      " 64  Subflow Fwd Packets         int64  \n",
      " 65  Subflow Fwd Bytes           int64  \n",
      " 66  Subflow Bwd Packets         int64  \n",
      " 67  Subflow Bwd Bytes           int64  \n",
      " 68  FWD Init Win Bytes          int64  \n",
      " 69  Bwd Init Win Bytes          int64  \n",
      " 70  Fwd Act Data Pkts           int64  \n",
      " 71  Fwd Seg Size Min            int64  \n",
      " 72  Active Mean                 float64\n",
      " 73  Active Std                  float64\n",
      " 74  Active Max                  int64  \n",
      " 75  Active Min                  int64  \n",
      " 76  Idle Mean                   float64\n",
      " 77  Idle Std                    float64\n",
      " 78  Idle Max                    int64  \n",
      " 79  Idle Min                    int64  \n",
      " 80  ICMP Code                   int64  \n",
      " 81  ICMP Type                   int64  \n",
      " 82  Total TCP Flow Time         int64  \n",
      " 83  Label                       object \n",
      "dtypes: float64(25), int64(58), object(1)\n",
      "memory usage: 3.9+ GB\n"
     ]
    }
   ],
   "source": [
    "get_data_info(verzeichnis_ids18, 'Friday-02-03-2018.csv')"
   ]
  },
  {
   "cell_type": "markdown",
   "metadata": {},
   "source": [
    "## Fehlende Werte"
   ]
  },
  {
   "cell_type": "code",
   "execution_count": 8,
   "metadata": {},
   "outputs": [],
   "source": [
    "df = pd.read_csv(os.path.join(verzeichnis_ids18, 'Friday-02-03-2018.csv'), nrows=nrows)"
   ]
  },
  {
   "cell_type": "code",
   "execution_count": 17,
   "metadata": {},
   "outputs": [
    {
     "data": {
      "text/plain": [
       "(6311371, 84)"
      ]
     },
     "execution_count": 17,
     "metadata": {},
     "output_type": "execute_result"
    }
   ],
   "source": [
    "df.shape"
   ]
  },
  {
   "cell_type": "code",
   "execution_count": 10,
   "metadata": {},
   "outputs": [
    {
     "name": "stdout",
     "output_type": "stream",
     "text": [
      "Number of duplicates: 1215757\n"
     ]
    }
   ],
   "source": [
    "duplicates = df[df.duplicated()]\n",
    "print(f\"Number of duplicates: {len(duplicates)}\")"
   ]
  },
  {
   "cell_type": "code",
   "execution_count": 18,
   "metadata": {},
   "outputs": [],
   "source": [
    "duplicates.to_csv('duplicates.csv', index=False)"
   ]
  },
  {
   "cell_type": "code",
   "execution_count": 19,
   "metadata": {},
   "outputs": [
    {
     "data": {
      "text/plain": [
       "Label\n",
       "BENIGN                     6168188\n",
       "Botnet Ares                 142921\n",
       "Botnet Ares - Attempted        262\n",
       "Name: count, dtype: int64"
      ]
     },
     "execution_count": 19,
     "metadata": {},
     "output_type": "execute_result"
    }
   ],
   "source": [
    "df.value_counts('Label')"
   ]
  },
  {
   "cell_type": "code",
   "execution_count": 20,
   "metadata": {},
   "outputs": [
    {
     "data": {
      "text/plain": [
       "[Label\n",
       " BENIGN            5764497\n",
       " DDoS-LOIC-HTTP     289328\n",
       " Name: count, dtype: int64,\n",
       " Label\n",
       " BENIGN                       5372471\n",
       " DoS GoldenEye                  22560\n",
       " DoS Slowloris                   8490\n",
       " DoS GoldenEye - Attempted       4301\n",
       " DoS Slowloris - Attempted       2280\n",
       " Name: count, dtype: int64,\n",
       " Label\n",
       " BENIGN                          6511554\n",
       " Infiltration - NMAP Portscan      39634\n",
       " Name: count, dtype: int64,\n",
       " Label\n",
       " BENIGN                                  6070945\n",
       " Web Attack - Brute Force - Attempted         76\n",
       " Web Attack - Brute Force                     69\n",
       " Web Attack - XSS                             40\n",
       " Web Attack - SQL                             16\n",
       " Web Attack - SQL - Attempted                  4\n",
       " Web Attack - XSS - Attempted                  3\n",
       " Name: count, dtype: int64,\n",
       " Label\n",
       " BENIGN    5878399\n",
       " Name: count, dtype: int64,\n",
       " Label\n",
       " BENIGN                        5610799\n",
       " FTP-BruteForce - Attempted     193354\n",
       " SSH-BruteForce                  94197\n",
       " Name: count, dtype: int64,\n",
       " Label\n",
       " BENIGN                                  5976251\n",
       " Web Attack - XSS                             73\n",
       " Web Attack - Brute Force                     62\n",
       " Web Attack - Brute Force - Attempted         61\n",
       " Web Attack - SQL                             23\n",
       " Web Attack - SQL - Attempted                 10\n",
       " Web Attack - XSS - Attempted                  1\n",
       " Name: count, dtype: int64,\n",
       " Label\n",
       " BENIGN                        5481500\n",
       " DoS Hulk                      1803160\n",
       " FTP-BruteForce - Attempted     105520\n",
       " DoS Hulk - Attempted               86\n",
       " Name: count, dtype: int64,\n",
       " Label\n",
       " BENIGN                     6168188\n",
       " Botnet Ares                 142921\n",
       " Botnet Ares - Attempted        262\n",
       " Name: count, dtype: int64,\n",
       " Label\n",
       " BENIGN                          6518882\n",
       " Infiltration - NMAP Portscan      49740\n",
       " Name: count, dtype: int64]"
      ]
     },
     "execution_count": 20,
     "metadata": {},
     "output_type": "execute_result"
    }
   ],
   "source": [
    "labels_counts = []\n",
    "\n",
    "for file in os.listdir(verzeichnis_ids18):\n",
    "    if file.endswith('.csv'):\n",
    "        df = pd.read_csv(os.path.join(verzeichnis_ids18, file), nrows=nrows)\n",
    "        labels_counts.append(df.value_counts('Label'))\n",
    "\n",
    "labels_counts"
   ]
  }
 ],
 "metadata": {
  "kernelspec": {
   "display_name": ".venv",
   "language": "python",
   "name": "python3"
  },
  "language_info": {
   "codemirror_mode": {
    "name": "ipython",
    "version": 3
   },
   "file_extension": ".py",
   "mimetype": "text/x-python",
   "name": "python",
   "nbconvert_exporter": "python",
   "pygments_lexer": "ipython3",
   "version": "3.10.12"
  }
 },
 "nbformat": 4,
 "nbformat_minor": 2
}
