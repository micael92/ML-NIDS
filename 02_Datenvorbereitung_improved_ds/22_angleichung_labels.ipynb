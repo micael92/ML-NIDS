{
 "cells": [
  {
   "cell_type": "markdown",
   "metadata": {},
   "source": [
    "# Angleichung der Label Bezeichnungnen beider Datensätze"
   ]
  },
  {
   "cell_type": "code",
   "execution_count": 49,
   "metadata": {},
   "outputs": [],
   "source": [
    "import os \n",
    "import pandas as pd\n",
    "import logging\n",
    "import multiprocessing as mp"
   ]
  },
  {
   "cell_type": "code",
   "execution_count": 50,
   "metadata": {},
   "outputs": [],
   "source": [
    "# Logging Parameter\n",
    "logging.basicConfig(\n",
    "    filename='22_angleichung_labels.log',\n",
    "    level=logging.INFO,\n",
    "    format='%(asctime)s - %(levelname)s - %(message)s',\n",
    "    datefmt='%Y-%m-%d %H:%M:%S'\n",
    ")\n",
    "\n",
    "# Verzeichnis der CSV-Dateien\n",
    "verzeichnis_ids17 = '../01_Datensaetze/improved_cic-ids-2017'\n",
    "verzeichnis_ids18 = '../01_Datensaetze/improved_cse-cic-ids-2018'\n",
    "\n",
    "nrows = None\n",
    "chunksize = 500000\n",
    "\n",
    "# Mapping von CICIDS2017-Bezeichnungen zu CICIDS2018-Bezeichnungen\n",
    "mapping_2017_to_2018 = {\n",
    "    'Botnet': 'Botnet Ares',\n",
    "    'Botnet - Attempted': 'Botnet Ares - Attempted',\n",
    "    'DDoS': 'DDoS-LOIC-HTTP',\n",
    "    'Infiltration - Portscan': 'Infiltration - NMAP Portscan',\n",
    "    'FTP-Patator - Attempted': 'FTP-BruteForce - Attempted',\n",
    "    'SSH-Patator': 'SSH-BruteForce',\n",
    "    'Web Attack - SQL Injection': 'Web Attack - SQL',\n",
    "    'Web Attack - SQL Injection - Attempted': 'Web Attack - SQL - Attempted'\n",
    "}"
   ]
  },
  {
   "cell_type": "code",
   "execution_count": 33,
   "metadata": {},
   "outputs": [],
   "source": [
    "def get_labels_from_file(verzeichnis, datei):\n",
    "    if datei.endswith('.csv'):\n",
    "        pfad_zur_datei = os.path.join(verzeichnis, datei)\n",
    "        try:\n",
    "            df = pd.read_csv(pfad_zur_datei, nrows=nrows)\n",
    "            found_labels = df['Label'].unique()\n",
    "            logging.info(f\"Successfully read {pfad_zur_datei}. Found labels: {found_labels}\")\n",
    "            return found_labels\n",
    "        except Exception as e:\n",
    "            logging.error(f\"Error reading {pfad_zur_datei}: {e}\")\n",
    "            return []\n",
    "    return []\n",
    "\n",
    "def get_labels_from_dir(verzeichnis):\n",
    "    try:\n",
    "        logging.info(f\"Start processing directory {verzeichnis}\")\n",
    "        with mp.Pool(processes=2) as pool:\n",
    "            results = pool.starmap(get_labels_from_file, [(verzeichnis, datei) for datei in os.listdir(verzeichnis)])\n",
    "\n",
    "        labels = set()\n",
    "        for result in results:\n",
    "            labels.update(result)\n",
    "        \n",
    "        logging.info(f\"Successfully processed directory {verzeichnis}\")\n",
    "        return labels\n",
    "    except Exception as e:\n",
    "        logging.error(f\"Error processing directory {verzeichnis}: {e}\")\n",
    "        return set()"
   ]
  },
  {
   "cell_type": "code",
   "execution_count": 34,
   "metadata": {},
   "outputs": [],
   "source": [
    "labels_ids17 = get_labels_from_dir(verzeichnis_ids17)"
   ]
  },
  {
   "cell_type": "code",
   "execution_count": 35,
   "metadata": {},
   "outputs": [],
   "source": [
    "labels_ids18 = get_labels_from_dir(verzeichnis_ids18)"
   ]
  },
  {
   "cell_type": "code",
   "execution_count": 36,
   "metadata": {},
   "outputs": [
    {
     "data": {
      "text/plain": [
       "{'BENIGN',\n",
       " 'Botnet Ares',\n",
       " 'Botnet Ares - Attempted',\n",
       " 'DDoS-LOIC-HTTP',\n",
       " 'DoS GoldenEye',\n",
       " 'DoS GoldenEye - Attempted',\n",
       " 'DoS Hulk',\n",
       " 'DoS Hulk - Attempted',\n",
       " 'DoS Slowloris',\n",
       " 'DoS Slowloris - Attempted',\n",
       " 'FTP-Patator - Attempted',\n",
       " 'Infiltration - NMAP Portscan',\n",
       " 'SSH-Bruteforce',\n",
       " 'Web Attack - Brute Force',\n",
       " 'Web Attack - Brute Force - Attempted',\n",
       " 'Web Attack - SQL Injection',\n",
       " 'Web Attack - SQL Injection - Attempted',\n",
       " 'Web Attack - XSS',\n",
       " 'Web Attack - XSS - Attempted'}"
      ]
     },
     "execution_count": 36,
     "metadata": {},
     "output_type": "execute_result"
    }
   ],
   "source": [
    "labels_ids17"
   ]
  },
  {
   "cell_type": "code",
   "execution_count": 37,
   "metadata": {},
   "outputs": [
    {
     "data": {
      "text/plain": [
       "{'BENIGN',\n",
       " 'Botnet Ares',\n",
       " 'Botnet Ares - Attempted',\n",
       " 'DDoS-LOIC-HTTP',\n",
       " 'DoS GoldenEye',\n",
       " 'DoS GoldenEye - Attempted',\n",
       " 'DoS Hulk',\n",
       " 'DoS Hulk - Attempted',\n",
       " 'DoS Slowloris',\n",
       " 'DoS Slowloris - Attempted',\n",
       " 'FTP-BruteForce - Attempted',\n",
       " 'Infiltration - NMAP Portscan',\n",
       " 'SSH-BruteForce',\n",
       " 'Web Attack - Brute Force',\n",
       " 'Web Attack - Brute Force - Attempted',\n",
       " 'Web Attack - SQL',\n",
       " 'Web Attack - SQL - Attempted',\n",
       " 'Web Attack - XSS',\n",
       " 'Web Attack - XSS - Attempted'}"
      ]
     },
     "execution_count": 37,
     "metadata": {},
     "output_type": "execute_result"
    }
   ],
   "source": [
    "labels_ids18"
   ]
  },
  {
   "cell_type": "code",
   "execution_count": 38,
   "metadata": {},
   "outputs": [
    {
     "data": {
      "text/plain": [
       "False"
      ]
     },
     "execution_count": 38,
     "metadata": {},
     "output_type": "execute_result"
    }
   ],
   "source": [
    "labels_ids17 == labels_ids18"
   ]
  },
  {
   "cell_type": "markdown",
   "metadata": {},
   "source": [
    "Die Angriffe unterscheiden sich teilweise. Nach genauer Analyse werden die Datensätze aneinander angepasst. Dabei werden Angriffe entfernt, zusammengefasst oder Bezeichnungen angepasst. \n"
   ]
  },
  {
   "cell_type": "markdown",
   "metadata": {},
   "source": [
    "## Anpassung der Bezeichnungen der Labels"
   ]
  },
  {
   "cell_type": "code",
   "execution_count": 51,
   "metadata": {},
   "outputs": [],
   "source": [
    "def relabel_file(file_path):\n",
    "    temp_file = file_path + '.tmp'\n",
    "    try:\n",
    "        # Lade die CSV-Datei in Chunks\n",
    "        chunks = pd.read_csv(file_path, chunksize=chunksize)\n",
    "\n",
    "        # Verarbeite jeden Chunk und speichere in eine temporäre Datei\n",
    "        for i, chunk in enumerate(chunks):\n",
    "            # Prüfe, ob es eine Spalte mit den Angriffsnamen gibt (z.B. 'Label')\n",
    "            if 'Label' in chunk.columns:\n",
    "                # Ersetze die Labels basierend auf dem Mapping\n",
    "                chunk['Label'] = chunk['Label'].map(mapping_2017_to_2018).fillna(chunk['Label'])\n",
    "\n",
    "                # Speichere den Chunk in die temporäre Datei\n",
    "                if i == 0:\n",
    "                    chunk.to_csv(temp_file, mode='w', header=True, index=False)\n",
    "                else:\n",
    "                    chunk.to_csv(temp_file, mode='a', header=False, index=False)\n",
    "            else:\n",
    "                logging.warning(f\"Keine 'Label'-Spalte gefunden in {file_path}\")\n",
    "\n",
    "        # Ersetze die Originaldatei durch die temporäre Datei\n",
    "        os.replace(temp_file, file_path)\n",
    "\n",
    "        logging.info(f\"Datei verarbeitet und gespeichert: {file_path}\")\n",
    "    \n",
    "    except Exception as e:\n",
    "        logging.error(f\"Fehler beim Verarbeiten der Datei {file_path}: {e}\")\n",
    "        if os.path.exists(temp_file):\n",
    "            os.remove(temp_file)  # Entferne die temporäre Datei im Fehlerfall\n",
    "\n",
    "def relabel_directory(directory):\n",
    "    try:\n",
    "        logging.info(f\"Start processing directory {directory}\")\n",
    "        with mp.Pool(processes=5) as pool:\n",
    "            pool.map(relabel_file, [os.path.join(directory, datei) for datei in os.listdir(directory) if datei.endswith('.csv')])\n",
    "\n",
    "        logging.info(f\"Successfully processed directory {directory}\")\n",
    "    except Exception as e:\n",
    "        logging.error(f\"Error processing directory {directory}: {e}\")\n"
   ]
  },
  {
   "cell_type": "code",
   "execution_count": 52,
   "metadata": {},
   "outputs": [],
   "source": [
    "relabel_directory(verzeichnis_ids17)"
   ]
  },
  {
   "cell_type": "code",
   "execution_count": 53,
   "metadata": {},
   "outputs": [],
   "source": [
    "new_labels_ids17 = get_labels_from_dir(verzeichnis_ids17)"
   ]
  },
  {
   "cell_type": "code",
   "execution_count": 54,
   "metadata": {},
   "outputs": [
    {
     "data": {
      "text/plain": [
       "{'BENIGN',\n",
       " 'Botnet Ares',\n",
       " 'Botnet Ares - Attempted',\n",
       " 'DDoS-LOIC-HTTP',\n",
       " 'DoS GoldenEye',\n",
       " 'DoS GoldenEye - Attempted',\n",
       " 'DoS Hulk',\n",
       " 'DoS Hulk - Attempted',\n",
       " 'DoS Slowhttptest',\n",
       " 'DoS Slowhttptest - Attempted',\n",
       " 'DoS Slowloris',\n",
       " 'DoS Slowloris - Attempted',\n",
       " 'FTP-BruteForce - Attempted',\n",
       " 'FTP-Patator',\n",
       " 'Heartbleed',\n",
       " 'Infiltration',\n",
       " 'Infiltration - Attempted',\n",
       " 'Infiltration - NMAP Portscan',\n",
       " 'Portscan',\n",
       " 'SSH-BruteForce',\n",
       " 'SSH-Patator - Attempted',\n",
       " 'Web Attack - Brute Force',\n",
       " 'Web Attack - Brute Force - Attempted',\n",
       " 'Web Attack - SQL',\n",
       " 'Web Attack - SQL - Attempted',\n",
       " 'Web Attack - XSS',\n",
       " 'Web Attack - XSS - Attempted'}"
      ]
     },
     "execution_count": 54,
     "metadata": {},
     "output_type": "execute_result"
    }
   ],
   "source": [
    "new_labels_ids17"
   ]
  },
  {
   "cell_type": "markdown",
   "metadata": {},
   "source": [
    "Die Bezeichnungen sind angepasst."
   ]
  },
  {
   "cell_type": "markdown",
   "metadata": {},
   "source": [
    "## Angriffe entfernen, die nicht in beiden Datensätzen vorhanden sind."
   ]
  },
  {
   "cell_type": "code",
   "execution_count": 55,
   "metadata": {},
   "outputs": [],
   "source": [
    "remove_in_ids17 = ('DoS Slowhttptest', 'DoS Slowhttptest - Attempted', 'FTP-Patator', 'Heartbleed', 'Infiltration', 'Infiltration - Attempted', 'Portscan', 'SSH-Patator - Attempted')\n",
    "remove_in_ids18 = ('DDoS-HOIC', 'DDoS-LOIC-UDP', 'DDoS-LOIC-UDP - Attempted', 'Infiltration - Communication Victim Attacker', 'Infiltration - Dropbox Download', 'Infiltration - Dropbox Download - Attempted')"
   ]
  },
  {
   "cell_type": "code",
   "execution_count": 56,
   "metadata": {},
   "outputs": [],
   "source": [
    "chunksize = 500000  # Definiere deine Chunk-Größe hier\n",
    "\n",
    "# Funktion, um eine CSV-Datei zu verarbeiten und Zeilen mit bestimmten Labels zu entfernen\n",
    "def remove_rows_with_labels(file_path, labels_to_remove):\n",
    "    temp_file = file_path + '.tmp'  # Temporäre Datei, in die wir schreiben\n",
    "    try:\n",
    "        # Lade die CSV-Datei in Chunks\n",
    "        chunks = pd.read_csv(file_path, chunksize=chunksize)\n",
    "\n",
    "        # Verarbeite jeden Chunk und speichere in die temporäre Datei\n",
    "        for i, chunk in enumerate(chunks):\n",
    "            # Entferne die Zeilen mit den angegebenen Labels\n",
    "            chunk = chunk[~chunk['Label'].isin(labels_to_remove)]\n",
    "\n",
    "            # Speichere den Chunk ohne die entfernten Zeilen in die temporäre Datei\n",
    "            if i == 0:\n",
    "                chunk.to_csv(temp_file, mode='w', header=True, index=False)\n",
    "            else:\n",
    "                chunk.to_csv(temp_file, mode='a', header=False, index=False)\n",
    "\n",
    "        # Ersetze die Originaldatei durch die temporäre Datei\n",
    "        os.replace(temp_file, file_path)\n",
    "\n",
    "        logging.info(f\"Zeilen mit Labels '{labels_to_remove}' entfernt und Datei überschrieben: {file_path}\")\n",
    "    \n",
    "    except Exception as e:\n",
    "        logging.error(f\"Fehler beim Verarbeiten der Datei {file_path}: {e}\")\n",
    "        if os.path.exists(temp_file):\n",
    "            os.remove(temp_file)  # Entferne die temporäre Datei im Fehlerfall\n",
    "\n",
    "# Funktion, um alle CSV-Dateien im Verzeichnis zu verarbeiten\n",
    "def remove_labels_from_all_files(directory, labels_to_remove):\n",
    "    # Hole alle CSV-Dateien im Verzeichnis\n",
    "    csv_files = [os.path.join(directory, f) for f in os.listdir(directory) if f.endswith('.csv')]\n",
    "\n",
    "    # Nutze Multiprocessing, um die Dateien parallel zu verarbeiten\n",
    "    with mp.Pool(processes=4) as pool:\n",
    "        pool.starmap(remove_rows_with_labels, [(file, labels_to_remove) for file in csv_files])\n"
   ]
  },
  {
   "cell_type": "code",
   "execution_count": 57,
   "metadata": {},
   "outputs": [],
   "source": [
    "remove_labels_from_all_files(verzeichnis_ids17, remove_in_ids17)"
   ]
  },
  {
   "cell_type": "code",
   "execution_count": 58,
   "metadata": {},
   "outputs": [],
   "source": [
    "new_labels_ids17 = get_labels_from_dir(verzeichnis_ids17)"
   ]
  },
  {
   "cell_type": "code",
   "execution_count": 59,
   "metadata": {},
   "outputs": [
    {
     "data": {
      "text/plain": [
       "{'BENIGN',\n",
       " 'Botnet Ares',\n",
       " 'Botnet Ares - Attempted',\n",
       " 'DDoS-LOIC-HTTP',\n",
       " 'DoS GoldenEye',\n",
       " 'DoS GoldenEye - Attempted',\n",
       " 'DoS Hulk',\n",
       " 'DoS Hulk - Attempted',\n",
       " 'DoS Slowloris',\n",
       " 'DoS Slowloris - Attempted',\n",
       " 'FTP-BruteForce - Attempted',\n",
       " 'Infiltration - NMAP Portscan',\n",
       " 'SSH-BruteForce',\n",
       " 'Web Attack - Brute Force',\n",
       " 'Web Attack - Brute Force - Attempted',\n",
       " 'Web Attack - SQL',\n",
       " 'Web Attack - SQL - Attempted',\n",
       " 'Web Attack - XSS',\n",
       " 'Web Attack - XSS - Attempted'}"
      ]
     },
     "execution_count": 59,
     "metadata": {},
     "output_type": "execute_result"
    }
   ],
   "source": [
    "new_labels_ids17"
   ]
  },
  {
   "cell_type": "code",
   "execution_count": 25,
   "metadata": {},
   "outputs": [],
   "source": [
    "remove_labels_from_all_files(verzeichnis_ids18, remove_in_ids18)"
   ]
  },
  {
   "cell_type": "code",
   "execution_count": 26,
   "metadata": {},
   "outputs": [],
   "source": [
    "new_labels_ids18 = get_labels_from_dir(verzeichnis_ids18)"
   ]
  },
  {
   "cell_type": "code",
   "execution_count": 45,
   "metadata": {},
   "outputs": [
    {
     "data": {
      "text/plain": [
       "{'BENIGN',\n",
       " 'Botnet Ares',\n",
       " 'Botnet Ares - Attempted',\n",
       " 'DDoS-LOIC-HTTP',\n",
       " 'DoS GoldenEye',\n",
       " 'DoS GoldenEye - Attempted',\n",
       " 'DoS Hulk',\n",
       " 'DoS Hulk - Attempted',\n",
       " 'DoS Slowloris',\n",
       " 'DoS Slowloris - Attempted',\n",
       " 'FTP-BruteForce - Attempted',\n",
       " 'Infiltration - NMAP Portscan',\n",
       " 'SSH-BruteForce',\n",
       " 'Web Attack - Brute Force',\n",
       " 'Web Attack - Brute Force - Attempted',\n",
       " 'Web Attack - SQL',\n",
       " 'Web Attack - SQL - Attempted',\n",
       " 'Web Attack - XSS',\n",
       " 'Web Attack - XSS - Attempted'}"
      ]
     },
     "execution_count": 45,
     "metadata": {},
     "output_type": "execute_result"
    }
   ],
   "source": [
    "new_labels_ids18"
   ]
  },
  {
   "cell_type": "code",
   "execution_count": 60,
   "metadata": {},
   "outputs": [
    {
     "data": {
      "text/plain": [
       "True"
      ]
     },
     "execution_count": 60,
     "metadata": {},
     "output_type": "execute_result"
    }
   ],
   "source": [
    "new_labels_ids18 == new_labels_ids17"
   ]
  }
 ],
 "metadata": {
  "kernelspec": {
   "display_name": ".venv",
   "language": "python",
   "name": "python3"
  },
  "language_info": {
   "codemirror_mode": {
    "name": "ipython",
    "version": 3
   },
   "file_extension": ".py",
   "mimetype": "text/x-python",
   "name": "python",
   "nbconvert_exporter": "python",
   "pygments_lexer": "ipython3",
   "version": "3.10.12"
  }
 },
 "nbformat": 4,
 "nbformat_minor": 2
}
