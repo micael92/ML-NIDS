{
 "cells": [
  {
   "cell_type": "code",
   "execution_count": 21,
   "metadata": {},
   "outputs": [],
   "source": [
    "import pandas as pd\n",
    "\n",
    "# Maximale Zeilen und Spalten anzeigen\n",
    "pd.set_option('display.max_rows', None)  # Zeilen\n",
    "pd.set_option('display.max_columns', None)  # Spalten\n",
    "\n",
    "# Quelleverzeichnisse\n",
    "ids17_prep_0 = '../01_Datensaetze/improved_cic-ids-2017/ids17_parquet_prep_0'\n",
    "ids18_prep_0 = '../01_Datensaetze/improved_cse-cic-ids-2018/ids18_parquet_prep_0'\n",
    "hybrid_train_prep_0 = '../01_Datensaetze/improved_hybrid_b17/hybrid_parquet_prep_0/hybrid_b17_train.parquet'\n",
    "hybrid_test_prep_0 = '../01_Datensaetze/improved_hybrid_b17/hybrid_parquet_prep_0/hybrid_b17_test.parquet'\n",
    "\n",
    "# Zielverzeichnisse\n",
    "ids17_prep_1 = '../01_Datensaetze/improved_cic-ids-2017/ids17_parquet_prep_1/ids17.parquet'\n",
    "ids18_prep_1 = '../01_Datensaetze/improved_cse-cic-ids-2018/ids18_parquet_prep_1/ids18.parquet'\n",
    "hybrid_train_prep_1 =  '../01_Datensaetze/improved_hybrid_b17/hybrid_parquet_prep_1/hybrid_b17_train.parquet'\n",
    "hybrid_test_prep_1 = '../01_Datensaetze/improved_hybrid_b17/hybrid_parquet_prep_1/hybrid_b17_test.parquet'"
   ]
  },
  {
   "cell_type": "markdown",
   "metadata": {},
   "source": [
    "### Laden der gespeicherten Feature Liste"
   ]
  },
  {
   "cell_type": "code",
   "execution_count": 22,
   "metadata": {},
   "outputs": [
    {
     "name": "stdout",
     "output_type": "stream",
     "text": [
      "['Fwd IAT Total', 'Dst Port', 'FIN Flag Count', 'Packet Length Variance', 'Down/Up Ratio', 'Bwd Packet Length Min', 'Bwd Packet Length Mean', 'URG Flag Count', 'Bwd Packets/s', 'Total TCP Flow Time', 'Bwd Bulk Rate Avg', 'Total Length of Fwd Packet', 'Bwd IAT Mean', 'Bwd Packet/Bulk Avg', 'Fwd IAT Max', 'Protocol', 'Flow IAT Min', 'Bwd Header Length', 'Active Max', 'Total Fwd Packet', 'Subflow Bwd Packets', 'Fwd Header Length', 'Fwd Seg Size Min', 'Fwd RST Flags', 'Idle Std', 'Fwd Packet Length Min', 'Bwd Init Win Bytes', 'Bwd Packet Length Std', 'RST Flag Count', 'Fwd Act Data Pkts', 'Subflow Fwd Packets', 'ECE Flag Count', 'SYN Flag Count', 'Bwd URG Flags', 'Average Packet Size', 'Bwd IAT Max', 'Bwd PSH Flags', 'Total Length of Bwd Packet', 'Bwd RST Flags', 'Flow Bytes/s', 'Fwd Bulk Rate Avg', 'Fwd IAT Min', 'Active Std', 'Packet Length Max', 'Bwd IAT Total', 'Fwd IAT Mean', 'Flow IAT Mean', 'Bwd IAT Min', 'FWD Init Win Bytes', 'Fwd PSH Flags', 'Active Min', 'Label']\n"
     ]
    }
   ],
   "source": [
    "selected_features = []\n",
    "with open ('22_reduced_features.txt', 'r') as f:\n",
    "    for line in f:\n",
    "        selected_features.append(line.strip())\n",
    "    selected_features = selected_features + ['Label']\n",
    "print(selected_features)"
   ]
  },
  {
   "cell_type": "markdown",
   "metadata": {},
   "source": [
    "### Laden der Datensätze"
   ]
  },
  {
   "cell_type": "code",
   "execution_count": 23,
   "metadata": {},
   "outputs": [],
   "source": [
    "df_ids17 = pd.read_parquet(ids17_prep_0)\n",
    "df_ids18 = pd.read_parquet(ids18_prep_0)\n",
    "df_hybrid_train = pd.read_parquet(hybrid_train_prep_0)\n",
    "df_hybrid_test = pd.read_parquet(hybrid_test_prep_0)"
   ]
  },
  {
   "cell_type": "code",
   "execution_count": 24,
   "metadata": {},
   "outputs": [
    {
     "name": "stdout",
     "output_type": "stream",
     "text": [
      "(1923063, 82)\n",
      "(5417706, 82)\n",
      "(498759, 82)\n",
      "(3874334, 82)\n"
     ]
    }
   ],
   "source": [
    "print(df_ids17.shape)\n",
    "print(df_ids18.shape)\n",
    "print(df_hybrid_train.shape)\n",
    "print(df_hybrid_test.shape)"
   ]
  },
  {
   "cell_type": "markdown",
   "metadata": {},
   "source": [
    "### Labels aller Datensätze prüfen"
   ]
  },
  {
   "cell_type": "code",
   "execution_count": 25,
   "metadata": {},
   "outputs": [],
   "source": [
    "df_ids18['Label'] = df_ids18['Label'].cat.remove_unused_categories()"
   ]
  },
  {
   "cell_type": "code",
   "execution_count": 26,
   "metadata": {},
   "outputs": [
    {
     "name": "stdout",
     "output_type": "stream",
     "text": [
      "Label\n",
      "BENIGN                          1582561\n",
      "DoS Hulk                         158468\n",
      "DDoS-LOIC-HTTP                    95144\n",
      "Infiltration - NMAP Portscan      71767\n",
      "DoS GoldenEye                      7567\n",
      "DoS Slowloris                      3859\n",
      "SSH-BruteForce                     2961\n",
      "Botnet Ares                         736\n",
      "Name: count, dtype: int64\n",
      "Label\n",
      "BENIGN                          2967676\n",
      "DoS Hulk                        1803160\n",
      "DDoS-LOIC-HTTP                   289328\n",
      "Botnet Ares                      142921\n",
      "SSH-BruteForce                    94197\n",
      "Infiltration - NMAP Portscan      89374\n",
      "DoS GoldenEye                     22560\n",
      "DoS Slowloris                      8490\n",
      "Name: count, dtype: int64\n",
      "Label\n",
      "DoS Hulk                        158468\n",
      "BENIGN                          158257\n",
      "DDoS-LOIC-HTTP                   95144\n",
      "Infiltration - NMAP Portscan     71767\n",
      "DoS GoldenEye                     7567\n",
      "DoS Slowloris                     3859\n",
      "SSH-BruteForce                    2961\n",
      "Botnet Ares                        736\n",
      "Name: count, dtype: int64\n",
      "Label\n",
      "DoS Hulk                        1803160\n",
      "BENIGN                          1424304\n",
      "DDoS-LOIC-HTTP                   289328\n",
      "Botnet Ares                      142921\n",
      "SSH-BruteForce                    94197\n",
      "Infiltration - NMAP Portscan      89374\n",
      "DoS GoldenEye                     22560\n",
      "DoS Slowloris                      8490\n",
      "Name: count, dtype: int64\n"
     ]
    }
   ],
   "source": [
    "print(df_ids17.value_counts('Label'))\n",
    "print(df_ids18.value_counts('Label'))\n",
    "print(df_hybrid_train.value_counts('Label'))\n",
    "print(df_hybrid_test.value_counts('Label'))"
   ]
  },
  {
   "cell_type": "markdown",
   "metadata": {},
   "source": [
    "### Reduzieren der Features"
   ]
  },
  {
   "cell_type": "code",
   "execution_count": 27,
   "metadata": {},
   "outputs": [],
   "source": [
    "df_ids17 = df_ids17[selected_features]\n",
    "df_ids18 = df_ids18[selected_features]\n",
    "df_hybrid_train = df_hybrid_train[selected_features]\n",
    "df_hybrid_test = df_hybrid_test[selected_features]"
   ]
  },
  {
   "cell_type": "code",
   "execution_count": 28,
   "metadata": {},
   "outputs": [
    {
     "name": "stdout",
     "output_type": "stream",
     "text": [
      "(1923063, 52)\n",
      "(5417706, 52)\n",
      "(498759, 52)\n",
      "(3874334, 52)\n"
     ]
    }
   ],
   "source": [
    "print(df_ids17.shape)\n",
    "print(df_ids18.shape)\n",
    "print(df_hybrid_train.shape)\n",
    "print(df_hybrid_test.shape)"
   ]
  },
  {
   "cell_type": "markdown",
   "metadata": {},
   "source": [
    "### Speichern der angepassente Datensätze"
   ]
  },
  {
   "cell_type": "code",
   "execution_count": 29,
   "metadata": {},
   "outputs": [],
   "source": [
    "df_ids18.to_parquet(ids18_prep_1, index=False)\n",
    "df_ids17.to_parquet(ids17_prep_1, index=False)\n",
    "df_hybrid_train.to_parquet(hybrid_train_prep_1, index=False)\n",
    "df_hybrid_test.to_parquet(hybrid_test_prep_1, index=False)"
   ]
  }
 ],
 "metadata": {
  "kernelspec": {
   "display_name": ".venv",
   "language": "python",
   "name": "python3"
  },
  "language_info": {
   "codemirror_mode": {
    "name": "ipython",
    "version": 3
   },
   "file_extension": ".py",
   "mimetype": "text/x-python",
   "name": "python",
   "nbconvert_exporter": "python",
   "pygments_lexer": "ipython3",
   "version": "3.10.12"
  }
 },
 "nbformat": 4,
 "nbformat_minor": 2
}
