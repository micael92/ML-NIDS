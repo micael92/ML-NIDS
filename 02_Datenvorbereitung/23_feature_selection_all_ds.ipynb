{
 "cells": [
  {
   "cell_type": "code",
   "execution_count": 1,
   "metadata": {},
   "outputs": [],
   "source": [
    "import pandas as pd\n",
    "\n",
    "# Maximale Zeilen und Spalten anzeigen\n",
    "pd.set_option('display.max_rows', None)  # Zeilen\n",
    "pd.set_option('display.max_columns', None)  # Spalten\n",
    "\n",
    "# Quelleverzeichnisse\n",
    "ids17_prep_0 = '../01_Datensaetze/improved_cic-ids-2017/ids17_parquet_prep_0'\n",
    "ids18_prep_0 = '../01_Datensaetze/improved_cse-cic-ids-2018/ids18_parquet_prep_0'\n",
    "hybrid_train_prep_0 = '../01_Datensaetze/improved_hybrid_b17/hybrid_parquet_prep_0/hybrid_b17_train.parquet'\n",
    "hybrid_test_prep_0 = '../01_Datensaetze/improved_hybrid_b17/hybrid_parquet_prep_0/hybrid_b17_test.parquet'\n",
    "\n",
    "# Zielverzeichnisse\n",
    "ids17_prep_1 = '../01_Datensaetze/improved_cic-ids-2017/ids17_parquet_prep_1/ids17.parquet'\n",
    "ids18_prep_1 = '../01_Datensaetze/improved_cse-cic-ids-2018/ids18_parquet_prep_1/ids18.parquet'\n",
    "hybrid_train_prep_1 =  '../01_Datensaetze/improved_hybrid_b17/hybrid_parquet_prep_1/hybrid_b17_train.parquet'\n",
    "hybrid_test_prep_1 = '../01_Datensaetze/improved_hybrid_b17/hybrid_parquet_prep_1/hybrid_b17_test.parquet'"
   ]
  },
  {
   "cell_type": "markdown",
   "metadata": {},
   "source": [
    "### Laden der gespeicherten Feature Liste"
   ]
  },
  {
   "cell_type": "code",
   "execution_count": 2,
   "metadata": {},
   "outputs": [
    {
     "name": "stdout",
     "output_type": "stream",
     "text": [
      "['Total TCP Flow Time', 'Fwd IAT Total', 'Fwd Header Length', 'Idle Std', 'Bwd Header Length', 'Dst Port', 'ECE Flag Count', 'Fwd IAT Max', 'Fwd Packet Length Max', 'Fwd PSH Flags', 'Fwd Bulk Rate Avg', 'Protocol', 'Bwd Packet Length Min', 'Bwd Init Win Bytes', 'Flow Bytes/s', 'Fwd IAT Mean', 'FWD Init Win Bytes', 'Fwd Packet Length Min', 'Total Length of Fwd Packet', 'Bwd IAT Std', 'Bwd IAT Min', 'Bwd Bulk Rate Avg', 'Bwd Bytes/Bulk Avg', 'Bwd Packet Length Std', 'Bwd URG Flags', 'Flow IAT Mean', 'Fwd IAT Min', 'Subflow Bwd Packets', 'Fwd Seg Size Min', 'Fwd RST Flags', 'Bwd PSH Flags', 'Flow IAT Max', 'FIN Flag Count', 'SYN Flag Count', 'Bwd IAT Total', 'Bwd Segment Size Avg', 'Down/Up Ratio', 'Total Fwd Packet', 'Packet Length Variance', 'Fwd URG Flags', 'Flow IAT Min', 'Active Min', 'Bwd IAT Mean', 'Bwd Packets/s', 'Bwd RST Flags', 'RST Flag Count', 'Active Std', 'Subflow Fwd Packets', 'Total Length of Bwd Packet', 'Fwd Act Data Pkts', 'Label']\n"
     ]
    }
   ],
   "source": [
    "selected_features = []\n",
    "with open ('22_reduced_features.txt', 'r') as f:\n",
    "    for line in f:\n",
    "        selected_features.append(line.strip())\n",
    "    selected_features = selected_features + ['Label']\n",
    "print(selected_features)"
   ]
  },
  {
   "cell_type": "markdown",
   "metadata": {},
   "source": [
    "### Laden der Datensätze"
   ]
  },
  {
   "cell_type": "code",
   "execution_count": 3,
   "metadata": {},
   "outputs": [],
   "source": [
    "df_ids17 = pd.read_parquet(ids17_prep_0)\n",
    "df_ids18 = pd.read_parquet(ids18_prep_0)\n",
    "df_hybrid_train = pd.read_parquet(hybrid_train_prep_0)\n",
    "df_hybrid_test = pd.read_parquet(hybrid_test_prep_0)"
   ]
  },
  {
   "cell_type": "code",
   "execution_count": 4,
   "metadata": {},
   "outputs": [
    {
     "name": "stdout",
     "output_type": "stream",
     "text": [
      "(1923063, 82)\n",
      "(5417706, 82)\n",
      "(498759, 82)\n",
      "(3874334, 82)\n"
     ]
    }
   ],
   "source": [
    "print(df_ids17.shape)\n",
    "print(df_ids18.shape)\n",
    "print(df_hybrid_train.shape)\n",
    "print(df_hybrid_test.shape)"
   ]
  },
  {
   "cell_type": "markdown",
   "metadata": {},
   "source": [
    "### Labels aller Datensätze prüfen"
   ]
  },
  {
   "cell_type": "code",
   "execution_count": 5,
   "metadata": {},
   "outputs": [],
   "source": [
    "df_ids18['Label'] = df_ids18['Label'].cat.remove_unused_categories()"
   ]
  },
  {
   "cell_type": "code",
   "execution_count": 6,
   "metadata": {},
   "outputs": [
    {
     "name": "stdout",
     "output_type": "stream",
     "text": [
      "Label\n",
      "BENIGN                          1582561\n",
      "DoS Hulk                         158468\n",
      "DDoS-LOIC-HTTP                    95144\n",
      "Infiltration - NMAP Portscan      71767\n",
      "DoS GoldenEye                      7567\n",
      "DoS Slowloris                      3859\n",
      "SSH-BruteForce                     2961\n",
      "Botnet Ares                         736\n",
      "Name: count, dtype: int64\n",
      "Label\n",
      "BENIGN                          2967676\n",
      "DoS Hulk                        1803160\n",
      "DDoS-LOIC-HTTP                   289328\n",
      "Botnet Ares                      142921\n",
      "SSH-BruteForce                    94197\n",
      "Infiltration - NMAP Portscan      89374\n",
      "DoS GoldenEye                     22560\n",
      "DoS Slowloris                      8490\n",
      "Name: count, dtype: int64\n",
      "Label\n",
      "DoS Hulk                        158468\n",
      "BENIGN                          158257\n",
      "DDoS-LOIC-HTTP                   95144\n",
      "Infiltration - NMAP Portscan     71767\n",
      "DoS GoldenEye                     7567\n",
      "DoS Slowloris                     3859\n",
      "SSH-BruteForce                    2961\n",
      "Botnet Ares                        736\n",
      "Name: count, dtype: int64\n",
      "Label\n",
      "DoS Hulk                        1803160\n",
      "BENIGN                          1424304\n",
      "DDoS-LOIC-HTTP                   289328\n",
      "Botnet Ares                      142921\n",
      "SSH-BruteForce                    94197\n",
      "Infiltration - NMAP Portscan      89374\n",
      "DoS GoldenEye                     22560\n",
      "DoS Slowloris                      8490\n",
      "Name: count, dtype: int64\n"
     ]
    }
   ],
   "source": [
    "print(df_ids17.value_counts('Label'))\n",
    "print(df_ids18.value_counts('Label'))\n",
    "print(df_hybrid_train.value_counts('Label'))\n",
    "print(df_hybrid_test.value_counts('Label'))"
   ]
  },
  {
   "cell_type": "markdown",
   "metadata": {},
   "source": [
    "### Reduzieren der Features"
   ]
  },
  {
   "cell_type": "code",
   "execution_count": 7,
   "metadata": {},
   "outputs": [],
   "source": [
    "df_ids17 = df_ids17[selected_features]\n",
    "df_ids18 = df_ids18[selected_features]\n",
    "df_hybrid_train = df_hybrid_train[selected_features]\n",
    "df_hybrid_test = df_hybrid_test[selected_features]"
   ]
  },
  {
   "cell_type": "code",
   "execution_count": 8,
   "metadata": {},
   "outputs": [
    {
     "name": "stdout",
     "output_type": "stream",
     "text": [
      "(1923063, 51)\n",
      "(5417706, 51)\n",
      "(498759, 51)\n",
      "(3874334, 51)\n"
     ]
    }
   ],
   "source": [
    "print(df_ids17.shape)\n",
    "print(df_ids18.shape)\n",
    "print(df_hybrid_train.shape)\n",
    "print(df_hybrid_test.shape)"
   ]
  },
  {
   "cell_type": "markdown",
   "metadata": {},
   "source": [
    "### Speichern der angepassente Datensätze"
   ]
  },
  {
   "cell_type": "code",
   "execution_count": 9,
   "metadata": {},
   "outputs": [],
   "source": [
    "df_ids18.to_parquet(ids18_prep_1, index=False)\n",
    "df_ids17.to_parquet(ids17_prep_1, index=False)\n",
    "df_hybrid_train.to_parquet(hybrid_train_prep_1, index=False)\n",
    "df_hybrid_test.to_parquet(hybrid_test_prep_1, index=False)"
   ]
  }
 ],
 "metadata": {
  "kernelspec": {
   "display_name": ".venv",
   "language": "python",
   "name": "python3"
  },
  "language_info": {
   "codemirror_mode": {
    "name": "ipython",
    "version": 3
   },
   "file_extension": ".py",
   "mimetype": "text/x-python",
   "name": "python",
   "nbconvert_exporter": "python",
   "pygments_lexer": "ipython3",
   "version": "3.10.12"
  }
 },
 "nbformat": 4,
 "nbformat_minor": 2
}
