{
 "cells": [
  {
   "cell_type": "markdown",
   "metadata": {},
   "source": [
    "# CNN\n",
    "Training auf IDS17 80%  \n",
    "Validierung auf IDS17 10%   \n",
    "Test auf IDS17 10%  \n",
    "Test auf IDS18 mit reduzierten Benign Daten folgt in cnn_test"
   ]
  },
  {
   "cell_type": "code",
   "execution_count": 1,
   "metadata": {},
   "outputs": [
    {
     "name": "stderr",
     "output_type": "stream",
     "text": [
      "2024-10-30 12:58:23.906565: I tensorflow/core/util/port.cc:153] oneDNN custom operations are on. You may see slightly different numerical results due to floating-point round-off errors from different computation orders. To turn them off, set the environment variable `TF_ENABLE_ONEDNN_OPTS=0`.\n",
      "2024-10-30 12:58:23.925762: E external/local_xla/xla/stream_executor/cuda/cuda_fft.cc:485] Unable to register cuFFT factory: Attempting to register factory for plugin cuFFT when one has already been registered\n",
      "2024-10-30 12:58:23.938896: E external/local_xla/xla/stream_executor/cuda/cuda_dnn.cc:8454] Unable to register cuDNN factory: Attempting to register factory for plugin cuDNN when one has already been registered\n",
      "2024-10-30 12:58:23.942961: E external/local_xla/xla/stream_executor/cuda/cuda_blas.cc:1452] Unable to register cuBLAS factory: Attempting to register factory for plugin cuBLAS when one has already been registered\n",
      "2024-10-30 12:58:23.958796: I tensorflow/core/platform/cpu_feature_guard.cc:210] This TensorFlow binary is optimized to use available CPU instructions in performance-critical operations.\n",
      "To enable the following instructions: AVX2 AVX_VNNI FMA, in other operations, rebuild TensorFlow with the appropriate compiler flags.\n",
      "2024-10-30 12:58:24.655703: W tensorflow/compiler/tf2tensorrt/utils/py_utils.cc:38] TF-TRT Warning: Could not find TensorRT\n"
     ]
    }
   ],
   "source": [
    "import os\n",
    "import logging\n",
    "import pandas as pd\n",
    "import numpy as np\n",
    "import matplotlib.pyplot as plt\n",
    "import seaborn as sns\n",
    "import tensorflow as tf\n",
    "import keras\n",
    "from sklearn.metrics import classification_report, confusion_matrix\n",
    "from sklearn.preprocessing import MinMaxScaler, LabelEncoder, StandardScaler\n",
    "from sklearn.model_selection import train_test_split\n",
    "\n",
    "# from tensorflow.keras.callbacks import ModelCheckpoint\n",
    "# from tensorflow.keras.utils import plot_model\n"
   ]
  },
  {
   "cell_type": "code",
   "execution_count": 2,
   "metadata": {},
   "outputs": [],
   "source": [
    "# Maximale Zeilen und Spalten anzeigen\n",
    "pd.set_option('display.max_rows', None)  # Zeilen\n",
    "pd.set_option('display.max_columns', None)  # Spalten\n",
    "\n",
    "# Logging Parameter\n",
    "logging.basicConfig(\n",
    "    #filename='31_cnn.log',\n",
    "    level=logging.INFO,\n",
    "    format='%(asctime)s - %(levelname)s - %(message)s',\n",
    "    datefmt='%Y-%m-%d %H:%M:%S'\n",
    ")\n",
    "\n",
    "# Verzeichnis der CSV-Dateien\n",
    "parquet_verzeichnis_ids17 = '../01_Datensaetze/improved_cic-ids-2017/ids17_parquet'\n",
    "parquet_verzeichnis_ids18 = '../01_Datensaetze/improved_cse-cic-ids-2018/ids18_parquet'"
   ]
  },
  {
   "cell_type": "markdown",
   "metadata": {},
   "source": [
    "### Laden von IDS17"
   ]
  },
  {
   "cell_type": "code",
   "execution_count": 3,
   "metadata": {},
   "outputs": [
    {
     "name": "stderr",
     "output_type": "stream",
     "text": [
      "2024-10-30 12:58:30 - INFO - Class distribution\n",
      "Label\n",
      "BENIGN                          1582561\n",
      "DoS Hulk                         158468\n",
      "DDoS-LOIC-HTTP                    95144\n",
      "Infiltration - NMAP Portscan      71767\n",
      "DoS GoldenEye                      7567\n",
      "DoS Slowloris                      3859\n",
      "SSH-BruteForce                     2961\n",
      "Botnet Ares                         736\n",
      "Web Attack - Brute Force             73\n",
      "Web Attack - XSS                     18\n",
      "Web Attack - SQL                     13\n",
      "Name: count, dtype: int64\n"
     ]
    }
   ],
   "source": [
    "# IDS17 Datensatz einlesen für Training 80%, Validierung 10% und Test 10%\n",
    "df = pd.read_parquet(os.path.join(parquet_verzeichnis_ids17 + '_prep_0'))\n",
    "logging.info(\"Class distribution\\n{}\".format(df.Label.value_counts()))"
   ]
  },
  {
   "cell_type": "code",
   "execution_count": null,
   "metadata": {},
   "outputs": [],
   "source": [
    "print(ids17.shape)\n",
    "print(ids17.columns)"
   ]
  },
  {
   "cell_type": "markdown",
   "metadata": {},
   "source": [
    "### Trennen von Features und Labels"
   ]
  },
  {
   "cell_type": "code",
   "execution_count": null,
   "metadata": {},
   "outputs": [
    {
     "name": "stdout",
     "output_type": "stream",
     "text": [
      "Form von X: (1923167, 83)\n",
      "Form von y: (1923167,)\n"
     ]
    }
   ],
   "source": [
    "X = df.iloc[:, :-1]  # Alle Spalten außer der letzten\n",
    "print(\"Form von X:\", X.shape)\n",
    "y = df.iloc[:, -1]   # Die letzte Spalte\n",
    "print(\"Form von y:\", y.shape)\n"
   ]
  },
  {
   "cell_type": "markdown",
   "metadata": {},
   "source": [
    "### Label Encoding für y"
   ]
  },
  {
   "cell_type": "code",
   "execution_count": null,
   "metadata": {},
   "outputs": [],
   "source": [
    "label_encoder = LabelEncoder()\n",
    "y_encoded = label_encoder.fit_transform(y)\n",
    "\n",
    "print(\"Einzigartige Labels:\", label_encoder.classes_)\n",
    "print(\"Kodierte Labels:\", np.unique(y_encoded))"
   ]
  },
  {
   "cell_type": "markdown",
   "metadata": {},
   "source": [
    "### Skallierung von X"
   ]
  },
  {
   "cell_type": "code",
   "execution_count": null,
   "metadata": {},
   "outputs": [],
   "source": [
    "scaler = StandardScaler()\n",
    "X_scaled = scaler.fit_transform(X)\n",
    "\n",
    "print(\"Form von X:\", X.shape)\n",
    "print(\"Form von X_scaled:\", X_scaled.shape)"
   ]
  },
  {
   "cell_type": "markdown",
   "metadata": {},
   "source": [
    "### Umformen der Daten für das CNN"
   ]
  },
  {
   "cell_type": "code",
   "execution_count": 17,
   "metadata": {},
   "outputs": [
    {
     "name": "stdout",
     "output_type": "stream",
     "text": [
      "Form von X_reshaped: (1923167, 83, 1)\n"
     ]
    }
   ],
   "source": [
    "# Anzahl der Features\n",
    "num_features = X_scaled.shape[1]  # Sollte 83 sein\n",
    "\n",
    "# Umformen zu (Anzahl_Beispiele, num_features, 1)\n",
    "X_reshaped = X_scaled.reshape(-1, num_features, 1)\n",
    "print(\"Form von X_reshaped:\", X_reshaped.shape)  # Erwartet: (1923167, 83, 1)"
   ]
  },
  {
   "cell_type": "markdown",
   "metadata": {},
   "source": [
    "### Aufteilen der Daten in Trainings-, Validierungs- und Testdatensätze"
   ]
  },
  {
   "cell_type": "code",
   "execution_count": 18,
   "metadata": {},
   "outputs": [
    {
     "name": "stdout",
     "output_type": "stream",
     "text": [
      "Form von X_train: (1538533, 83, 1)\n",
      "Form von X_val: (192317, 83, 1)\n",
      "Form von X_test: (192317, 83, 1)\n"
     ]
    }
   ],
   "source": [
    "# Aufteilen in Trainings- und temporären Datensatz\n",
    "X_train, X_temp, y_train, y_temp = train_test_split(\n",
    "    X_reshaped, y_encoded, test_size=0.20, random_state=42, stratify=y_encoded)\n",
    "\n",
    "# Aufteilen des temporären Datensatzes in Validierung und Test\n",
    "X_val, X_test, y_val, y_test = train_test_split(\n",
    "    X_temp, y_temp, test_size=0.50, random_state=42, stratify=y_temp)\n",
    "\n",
    "print(\"Form von X_train:\", X_train.shape)\n",
    "print(\"Form von X_val:\", X_val.shape)\n",
    "print(\"Form von X_test:\", X_test.shape)"
   ]
  },
  {
   "cell_type": "markdown",
   "metadata": {},
   "source": [
    "### Überprüfen der Klassenverteilung"
   ]
  },
  {
   "cell_type": "code",
   "execution_count": 19,
   "metadata": {},
   "outputs": [
    {
     "name": "stdout",
     "output_type": "stream",
     "text": [
      "Klassenverteilung in Trainingsdatensatz:\n",
      "  Klasse 0: 1266048 Beispiele (82.29%)\n",
      "  Klasse 1: 589 Beispiele (0.04%)\n",
      "  Klasse 2: 76115 Beispiele (4.95%)\n",
      "  Klasse 3: 6054 Beispiele (0.39%)\n",
      "  Klasse 4: 126774 Beispiele (8.24%)\n",
      "  Klasse 5: 3087 Beispiele (0.20%)\n",
      "  Klasse 6: 57414 Beispiele (3.73%)\n",
      "  Klasse 7: 2369 Beispiele (0.15%)\n",
      "  Klasse 8: 58 Beispiele (0.00%)\n",
      "  Klasse 9: 11 Beispiele (0.00%)\n",
      "  Klasse 10: 14 Beispiele (0.00%)\n",
      "\n",
      "Klassenverteilung in Validierungsdatensatz:\n",
      "  Klasse 0: 158257 Beispiele (82.29%)\n",
      "  Klasse 1: 74 Beispiele (0.04%)\n",
      "  Klasse 2: 9514 Beispiele (4.95%)\n",
      "  Klasse 3: 756 Beispiele (0.39%)\n",
      "  Klasse 4: 15847 Beispiele (8.24%)\n",
      "  Klasse 5: 386 Beispiele (0.20%)\n",
      "  Klasse 6: 7176 Beispiele (3.73%)\n",
      "  Klasse 7: 296 Beispiele (0.15%)\n",
      "  Klasse 8: 8 Beispiele (0.00%)\n",
      "  Klasse 9: 1 Beispiele (0.00%)\n",
      "  Klasse 10: 2 Beispiele (0.00%)\n",
      "\n",
      "Klassenverteilung in Testdatensatz:\n",
      "  Klasse 0: 158256 Beispiele (82.29%)\n",
      "  Klasse 1: 73 Beispiele (0.04%)\n",
      "  Klasse 2: 9515 Beispiele (4.95%)\n",
      "  Klasse 3: 757 Beispiele (0.39%)\n",
      "  Klasse 4: 15847 Beispiele (8.24%)\n",
      "  Klasse 5: 386 Beispiele (0.20%)\n",
      "  Klasse 6: 7177 Beispiele (3.73%)\n",
      "  Klasse 7: 296 Beispiele (0.15%)\n",
      "  Klasse 8: 7 Beispiele (0.00%)\n",
      "  Klasse 9: 1 Beispiele (0.00%)\n",
      "  Klasse 10: 2 Beispiele (0.00%)\n",
      "\n"
     ]
    }
   ],
   "source": [
    "def print_class_distribution(y, dataset_name):\n",
    "    unique, counts = np.unique(y, return_counts=True)\n",
    "    total = len(y)\n",
    "    print(f\"Klassenverteilung in {dataset_name}:\")\n",
    "    for cls, count in zip(unique, counts):\n",
    "        print(f\"  Klasse {cls}: {count} Beispiele ({(count/total)*100:.2f}%)\")\n",
    "    print()\n",
    "\n",
    "print_class_distribution(y_train, \"Trainingsdatensatz\")\n",
    "print_class_distribution(y_val, \"Validierungsdatensatz\")\n",
    "print_class_distribution(y_test, \"Testdatensatz\")"
   ]
  },
  {
   "cell_type": "markdown",
   "metadata": {},
   "source": [
    " ### Modell erstellen und trainieren"
   ]
  },
  {
   "cell_type": "code",
   "execution_count": 20,
   "metadata": {},
   "outputs": [
    {
     "name": "stderr",
     "output_type": "stream",
     "text": [
      "WARNING: All log messages before absl::InitializeLog() is called are written to STDERR\n",
      "I0000 00:00:1730274427.391955  755142 cuda_executor.cc:1001] could not open file to read NUMA node: /sys/bus/pci/devices/0000:01:00.0/numa_node\n",
      "Your kernel may have been built without NUMA support.\n",
      "I0000 00:00:1730274427.423353  755142 cuda_executor.cc:1001] could not open file to read NUMA node: /sys/bus/pci/devices/0000:01:00.0/numa_node\n",
      "Your kernel may have been built without NUMA support.\n",
      "I0000 00:00:1730274427.423414  755142 cuda_executor.cc:1001] could not open file to read NUMA node: /sys/bus/pci/devices/0000:01:00.0/numa_node\n",
      "Your kernel may have been built without NUMA support.\n",
      "I0000 00:00:1730274427.425919  755142 cuda_executor.cc:1001] could not open file to read NUMA node: /sys/bus/pci/devices/0000:01:00.0/numa_node\n",
      "Your kernel may have been built without NUMA support.\n",
      "I0000 00:00:1730274427.425956  755142 cuda_executor.cc:1001] could not open file to read NUMA node: /sys/bus/pci/devices/0000:01:00.0/numa_node\n",
      "Your kernel may have been built without NUMA support.\n",
      "I0000 00:00:1730274427.425969  755142 cuda_executor.cc:1001] could not open file to read NUMA node: /sys/bus/pci/devices/0000:01:00.0/numa_node\n",
      "Your kernel may have been built without NUMA support.\n",
      "I0000 00:00:1730274427.625739  755142 cuda_executor.cc:1001] could not open file to read NUMA node: /sys/bus/pci/devices/0000:01:00.0/numa_node\n",
      "Your kernel may have been built without NUMA support.\n",
      "I0000 00:00:1730274427.625826  755142 cuda_executor.cc:1001] could not open file to read NUMA node: /sys/bus/pci/devices/0000:01:00.0/numa_node\n",
      "Your kernel may have been built without NUMA support.\n",
      "2024-10-30 08:47:07.625842: I tensorflow/core/common_runtime/gpu/gpu_device.cc:2112] Could not identify NUMA node of platform GPU id 0, defaulting to 0.  Your kernel may not have been built with NUMA support.\n",
      "I0000 00:00:1730274427.625873  755142 cuda_executor.cc:1001] could not open file to read NUMA node: /sys/bus/pci/devices/0000:01:00.0/numa_node\n",
      "Your kernel may have been built without NUMA support.\n",
      "2024-10-30 08:47:07.625893: I tensorflow/core/common_runtime/gpu/gpu_device.cc:2021] Created device /job:localhost/replica:0/task:0/device:GPU:0 with 5563 MB memory:  -> device: 0, name: NVIDIA GeForce RTX 4060, pci bus id: 0000:01:00.0, compute capability: 8.9\n"
     ]
    },
    {
     "data": {
      "text/html": [
       "<pre style=\"white-space:pre;overflow-x:auto;line-height:normal;font-family:Menlo,'DejaVu Sans Mono',consolas,'Courier New',monospace\"><span style=\"font-weight: bold\">Model: \"cnn\"</span>\n",
       "</pre>\n"
      ],
      "text/plain": [
       "\u001b[1mModel: \"cnn\"\u001b[0m\n"
      ]
     },
     "metadata": {},
     "output_type": "display_data"
    },
    {
     "data": {
      "text/html": [
       "<pre style=\"white-space:pre;overflow-x:auto;line-height:normal;font-family:Menlo,'DejaVu Sans Mono',consolas,'Courier New',monospace\">┏━━━━━━━━━━━━━━━━━━━━━━━━━━━━━━━━━┳━━━━━━━━━━━━━━━━━━━━━━━━┳━━━━━━━━━━━━━━━┓\n",
       "┃<span style=\"font-weight: bold\"> Layer (type)                    </span>┃<span style=\"font-weight: bold\"> Output Shape           </span>┃<span style=\"font-weight: bold\">       Param # </span>┃\n",
       "┡━━━━━━━━━━━━━━━━━━━━━━━━━━━━━━━━━╇━━━━━━━━━━━━━━━━━━━━━━━━╇━━━━━━━━━━━━━━━┩\n",
       "│ input_layer (<span style=\"color: #0087ff; text-decoration-color: #0087ff\">InputLayer</span>)        │ (<span style=\"color: #00d7ff; text-decoration-color: #00d7ff\">None</span>, <span style=\"color: #00af00; text-decoration-color: #00af00\">83</span>, <span style=\"color: #00af00; text-decoration-color: #00af00\">1</span>)          │             <span style=\"color: #00af00; text-decoration-color: #00af00\">0</span> │\n",
       "├─────────────────────────────────┼────────────────────────┼───────────────┤\n",
       "│ conv1d (<span style=\"color: #0087ff; text-decoration-color: #0087ff\">Conv1D</span>)                 │ (<span style=\"color: #00d7ff; text-decoration-color: #00d7ff\">None</span>, <span style=\"color: #00af00; text-decoration-color: #00af00\">83</span>, <span style=\"color: #00af00; text-decoration-color: #00af00\">120</span>)        │           <span style=\"color: #00af00; text-decoration-color: #00af00\">360</span> │\n",
       "├─────────────────────────────────┼────────────────────────┼───────────────┤\n",
       "│ conv1d_1 (<span style=\"color: #0087ff; text-decoration-color: #0087ff\">Conv1D</span>)               │ (<span style=\"color: #00d7ff; text-decoration-color: #00d7ff\">None</span>, <span style=\"color: #00af00; text-decoration-color: #00af00\">83</span>, <span style=\"color: #00af00; text-decoration-color: #00af00\">60</span>)         │        <span style=\"color: #00af00; text-decoration-color: #00af00\">21,660</span> │\n",
       "├─────────────────────────────────┼────────────────────────┼───────────────┤\n",
       "│ conv1d_2 (<span style=\"color: #0087ff; text-decoration-color: #0087ff\">Conv1D</span>)               │ (<span style=\"color: #00d7ff; text-decoration-color: #00d7ff\">None</span>, <span style=\"color: #00af00; text-decoration-color: #00af00\">83</span>, <span style=\"color: #00af00; text-decoration-color: #00af00\">30</span>)         │         <span style=\"color: #00af00; text-decoration-color: #00af00\">7,230</span> │\n",
       "├─────────────────────────────────┼────────────────────────┼───────────────┤\n",
       "│ flatten (<span style=\"color: #0087ff; text-decoration-color: #0087ff\">Flatten</span>)               │ (<span style=\"color: #00d7ff; text-decoration-color: #00d7ff\">None</span>, <span style=\"color: #00af00; text-decoration-color: #00af00\">2490</span>)           │             <span style=\"color: #00af00; text-decoration-color: #00af00\">0</span> │\n",
       "├─────────────────────────────────┼────────────────────────┼───────────────┤\n",
       "│ dense (<span style=\"color: #0087ff; text-decoration-color: #0087ff\">Dense</span>)                   │ (<span style=\"color: #00d7ff; text-decoration-color: #00d7ff\">None</span>, <span style=\"color: #00af00; text-decoration-color: #00af00\">11</span>)             │        <span style=\"color: #00af00; text-decoration-color: #00af00\">27,401</span> │\n",
       "└─────────────────────────────────┴────────────────────────┴───────────────┘\n",
       "</pre>\n"
      ],
      "text/plain": [
       "┏━━━━━━━━━━━━━━━━━━━━━━━━━━━━━━━━━┳━━━━━━━━━━━━━━━━━━━━━━━━┳━━━━━━━━━━━━━━━┓\n",
       "┃\u001b[1m \u001b[0m\u001b[1mLayer (type)                   \u001b[0m\u001b[1m \u001b[0m┃\u001b[1m \u001b[0m\u001b[1mOutput Shape          \u001b[0m\u001b[1m \u001b[0m┃\u001b[1m \u001b[0m\u001b[1m      Param #\u001b[0m\u001b[1m \u001b[0m┃\n",
       "┡━━━━━━━━━━━━━━━━━━━━━━━━━━━━━━━━━╇━━━━━━━━━━━━━━━━━━━━━━━━╇━━━━━━━━━━━━━━━┩\n",
       "│ input_layer (\u001b[38;5;33mInputLayer\u001b[0m)        │ (\u001b[38;5;45mNone\u001b[0m, \u001b[38;5;34m83\u001b[0m, \u001b[38;5;34m1\u001b[0m)          │             \u001b[38;5;34m0\u001b[0m │\n",
       "├─────────────────────────────────┼────────────────────────┼───────────────┤\n",
       "│ conv1d (\u001b[38;5;33mConv1D\u001b[0m)                 │ (\u001b[38;5;45mNone\u001b[0m, \u001b[38;5;34m83\u001b[0m, \u001b[38;5;34m120\u001b[0m)        │           \u001b[38;5;34m360\u001b[0m │\n",
       "├─────────────────────────────────┼────────────────────────┼───────────────┤\n",
       "│ conv1d_1 (\u001b[38;5;33mConv1D\u001b[0m)               │ (\u001b[38;5;45mNone\u001b[0m, \u001b[38;5;34m83\u001b[0m, \u001b[38;5;34m60\u001b[0m)         │        \u001b[38;5;34m21,660\u001b[0m │\n",
       "├─────────────────────────────────┼────────────────────────┼───────────────┤\n",
       "│ conv1d_2 (\u001b[38;5;33mConv1D\u001b[0m)               │ (\u001b[38;5;45mNone\u001b[0m, \u001b[38;5;34m83\u001b[0m, \u001b[38;5;34m30\u001b[0m)         │         \u001b[38;5;34m7,230\u001b[0m │\n",
       "├─────────────────────────────────┼────────────────────────┼───────────────┤\n",
       "│ flatten (\u001b[38;5;33mFlatten\u001b[0m)               │ (\u001b[38;5;45mNone\u001b[0m, \u001b[38;5;34m2490\u001b[0m)           │             \u001b[38;5;34m0\u001b[0m │\n",
       "├─────────────────────────────────┼────────────────────────┼───────────────┤\n",
       "│ dense (\u001b[38;5;33mDense\u001b[0m)                   │ (\u001b[38;5;45mNone\u001b[0m, \u001b[38;5;34m11\u001b[0m)             │        \u001b[38;5;34m27,401\u001b[0m │\n",
       "└─────────────────────────────────┴────────────────────────┴───────────────┘\n"
      ]
     },
     "metadata": {},
     "output_type": "display_data"
    },
    {
     "data": {
      "text/html": [
       "<pre style=\"white-space:pre;overflow-x:auto;line-height:normal;font-family:Menlo,'DejaVu Sans Mono',consolas,'Courier New',monospace\"><span style=\"font-weight: bold\"> Total params: </span><span style=\"color: #00af00; text-decoration-color: #00af00\">56,651</span> (221.29 KB)\n",
       "</pre>\n"
      ],
      "text/plain": [
       "\u001b[1m Total params: \u001b[0m\u001b[38;5;34m56,651\u001b[0m (221.29 KB)\n"
      ]
     },
     "metadata": {},
     "output_type": "display_data"
    },
    {
     "data": {
      "text/html": [
       "<pre style=\"white-space:pre;overflow-x:auto;line-height:normal;font-family:Menlo,'DejaVu Sans Mono',consolas,'Courier New',monospace\"><span style=\"font-weight: bold\"> Trainable params: </span><span style=\"color: #00af00; text-decoration-color: #00af00\">56,651</span> (221.29 KB)\n",
       "</pre>\n"
      ],
      "text/plain": [
       "\u001b[1m Trainable params: \u001b[0m\u001b[38;5;34m56,651\u001b[0m (221.29 KB)\n"
      ]
     },
     "metadata": {},
     "output_type": "display_data"
    },
    {
     "data": {
      "text/html": [
       "<pre style=\"white-space:pre;overflow-x:auto;line-height:normal;font-family:Menlo,'DejaVu Sans Mono',consolas,'Courier New',monospace\"><span style=\"font-weight: bold\"> Non-trainable params: </span><span style=\"color: #00af00; text-decoration-color: #00af00\">0</span> (0.00 B)\n",
       "</pre>\n"
      ],
      "text/plain": [
       "\u001b[1m Non-trainable params: \u001b[0m\u001b[38;5;34m0\u001b[0m (0.00 B)\n"
      ]
     },
     "metadata": {},
     "output_type": "display_data"
    }
   ],
   "source": [
    "def create_cnn_model(num_features, num_classes):\n",
    "    inputs = keras.layers.Input(shape=(num_features, 1))\n",
    "    x = keras.layers.Conv1D(120, kernel_size=2, activation='relu', padding=\"same\")(inputs)\n",
    "    x = keras.layers.Conv1D(60, kernel_size=3, activation='relu', padding=\"same\")(x)\n",
    "    x = keras.layers.Conv1D(30, kernel_size=4, activation='relu', padding=\"same\")(x)\n",
    "    x = keras.layers.Flatten()(x)\n",
    "    outputs = keras.layers.Dense(num_classes, activation='softmax')(x)\n",
    "    cnn_model = keras.Model(inputs=inputs, outputs=outputs, name='cnn')\n",
    "\n",
    "    # Kompilieren des Modells\n",
    "    cnn_model.compile(loss='sparse_categorical_crossentropy',\n",
    "                      metrics=['sparse_categorical_accuracy'],\n",
    "                      optimizer='adam')\n",
    "\n",
    "    return cnn_model\n",
    "\n",
    "# Anzahl der Klassen (Labels)\n",
    "num_classes = len(label_encoder.classes_)\n",
    "\n",
    "# Modell erstellen\n",
    "cnn_model = create_cnn_model(num_features, num_classes)\n",
    "cnn_model.summary()\n"
   ]
  },
  {
   "cell_type": "markdown",
   "metadata": {},
   "source": [
    "### Trainieren des Modells"
   ]
  },
  {
   "cell_type": "code",
   "execution_count": 21,
   "metadata": {},
   "outputs": [
    {
     "name": "stdout",
     "output_type": "stream",
     "text": [
      "Epoch 1/2\n"
     ]
    },
    {
     "name": "stderr",
     "output_type": "stream",
     "text": [
      "WARNING: All log messages before absl::InitializeLog() is called are written to STDERR\n",
      "I0000 00:00:1730274758.446843  758212 service.cc:146] XLA service 0x7f152c015af0 initialized for platform CUDA (this does not guarantee that XLA will be used). Devices:\n",
      "I0000 00:00:1730274758.446889  758212 service.cc:154]   StreamExecutor device (0): NVIDIA GeForce RTX 4060, Compute Capability 8.9\n",
      "2024-10-30 08:52:38.460619: I tensorflow/compiler/mlir/tensorflow/utils/dump_mlir_util.cc:268] disabling MLIR crash reproducer, set env var `MLIR_CRASH_REPRODUCER_DIRECTORY` to enable.\n",
      "2024-10-30 08:52:38.531846: I external/local_xla/xla/stream_executor/cuda/cuda_dnn.cc:531] Loaded cuDNN version 8907\n"
     ]
    },
    {
     "name": "stdout",
     "output_type": "stream",
     "text": [
      "\u001b[1m  125/48080\u001b[0m \u001b[37m━━━━━━━━━━━━━━━━━━━━\u001b[0m \u001b[1m58s\u001b[0m 1ms/step - loss: 0.7590 - sparse_categorical_accuracy: 0.8685      "
     ]
    },
    {
     "name": "stderr",
     "output_type": "stream",
     "text": [
      "I0000 00:00:1730274759.837264  758212 device_compiler.h:188] Compiled cluster using XLA!  This line is logged at most once for the lifetime of the process.\n"
     ]
    },
    {
     "name": "stdout",
     "output_type": "stream",
     "text": [
      "\u001b[1m48080/48080\u001b[0m \u001b[32m━━━━━━━━━━━━━━━━━━━━\u001b[0m\u001b[37m\u001b[0m \u001b[1m69s\u001b[0m 1ms/step - loss: 0.0137 - sparse_categorical_accuracy: 0.9976 - val_loss: 0.0014 - val_sparse_categorical_accuracy: 0.9997\n",
      "Epoch 2/2\n",
      "\u001b[1m48080/48080\u001b[0m \u001b[32m━━━━━━━━━━━━━━━━━━━━\u001b[0m\u001b[37m\u001b[0m \u001b[1m65s\u001b[0m 1ms/step - loss: 0.0013 - sparse_categorical_accuracy: 0.9997 - val_loss: 6.4006e-04 - val_sparse_categorical_accuracy: 0.9998\n"
     ]
    },
    {
     "data": {
      "text/plain": [
       "<keras.src.callbacks.history.History at 0x7f19bfbe9600>"
      ]
     },
     "execution_count": 21,
     "metadata": {},
     "output_type": "execute_result"
    }
   ],
   "source": [
    "cnn_model.fit(\n",
    "    X_train, y_train,\n",
    "    epochs=2,\n",
    "    batch_size=32,\n",
    "    validation_data=(X_val, y_val)\n",
    ")"
   ]
  },
  {
   "cell_type": "markdown",
   "metadata": {},
   "source": [
    "### Evaluierung des Modells auf dem Testdatensatz"
   ]
  },
  {
   "cell_type": "code",
   "execution_count": 22,
   "metadata": {},
   "outputs": [
    {
     "name": "stdout",
     "output_type": "stream",
     "text": [
      "\u001b[1m6010/6010\u001b[0m \u001b[32m━━━━━━━━━━━━━━━━━━━━\u001b[0m\u001b[37m\u001b[0m \u001b[1m6s\u001b[0m 1ms/step - loss: 6.7076e-04 - sparse_categorical_accuracy: 0.9998\n",
      "Testverlust: 0.0008\n",
      "Testgenauigkeit: 0.9998\n"
     ]
    }
   ],
   "source": [
    "test_loss, test_accuracy = cnn_model.evaluate(X_test, y_test)\n",
    "print(f\"Testverlust: {test_loss:.4f}\")\n",
    "print(f\"Testgenauigkeit: {test_accuracy:.4f}\")"
   ]
  },
  {
   "cell_type": "markdown",
   "metadata": {},
   "source": [
    "### Klassifikationsbericht und eine Konfusionsmatrix"
   ]
  },
  {
   "cell_type": "code",
   "execution_count": null,
   "metadata": {},
   "outputs": [],
   "source": [
    "# Vorhersagen auf dem Testdatensatz\n",
    "y_pred_prob = cnn_model.predict(X_test)\n",
    "y_pred_classes = np.argmax(y_pred_prob, axis=1)\n",
    "\n",
    "# Klassifikationsbericht\n",
    "print(classification_report(y_test, y_pred_classes, target_names=label_encoder.classes_))\n",
    "\n",
    "# Konfusionsmatrix\n",
    "cm = confusion_matrix(y_test, y_pred_classes)\n",
    "print(\"Konfusionsmatrix:\")\n",
    "print(cm)"
   ]
  },
  {
   "cell_type": "markdown",
   "metadata": {},
   "source": [
    "Visualisierung der Konfusionsmatrix"
   ]
  },
  {
   "cell_type": "code",
   "execution_count": 24,
   "metadata": {},
   "outputs": [
    {
     "data": {
      "image/png": "[encoded data removed]",
      "text/plain": [
       "<Figure size 1000x800 with 2 Axes>"
      ]
     },
     "metadata": {},
     "output_type": "display_data"
    }
   ],
   "source": [
    "import seaborn as sns\n",
    "\n",
    "plt.figure(figsize=(10, 8))\n",
    "sns.heatmap(cm, annot=True, fmt='d', cmap='Blues',\n",
    "            xticklabels=label_encoder.classes_,\n",
    "            yticklabels=label_encoder.classes_)\n",
    "plt.xlabel('Vorhergesagte Klasse')\n",
    "plt.ylabel('Wahre Klasse')\n",
    "plt.title('Konfusionsmatrix')\n",
    "plt.show()\n"
   ]
  },
  {
   "cell_type": "markdown",
   "metadata": {},
   "source": [
    "### Speichern des Modells und der Vorverarbeitungsschritte"
   ]
  },
  {
   "cell_type": "code",
   "execution_count": 25,
   "metadata": {},
   "outputs": [
    {
     "data": {
      "text/plain": [
       "['scaler.pkl']"
      ]
     },
     "execution_count": 25,
     "metadata": {},
     "output_type": "execute_result"
    }
   ],
   "source": [
    "# Speichern des Modells\n",
    "cnn_model.save('ids17_cnn_model.h5')\n",
    "\n",
    "# Speichern des Label Encoders und Scalers\n",
    "import joblib\n",
    "\n",
    "joblib.dump(label_encoder, 'label_encoder.pkl')\n",
    "joblib.dump(scaler, 'scaler.pkl')"
   ]
  },
  {
   "cell_type": "markdown",
   "metadata": {},
   "source": [
    "# Sonstiges"
   ]
  },
  {
   "cell_type": "markdown",
   "metadata": {},
   "source": [
    "### Wichtige Überlegungen\n",
    "- Hyperparameter-Tuning: Experimentieren Sie mit der Anzahl der Epochen, der Batch-Größe, der Lernrate und anderen Hyperparametern, um die Modellleistung zu verbessern.\n",
    "- Klassengewichtung: Wenn Ihr Datensatz unausgewogen ist, können Sie Klassengewichte verwenden, um das Modell zu sensibilisieren.\n",
    "- Cross-Validation: Für eine robustere Bewertung könnten Sie Kreuzvalidierungstechniken anwenden.\n",
    "- Feature-Engineering: Überlegen Sie, ob zusätzliche Feature-Auswahl oder -Extraktion die Leistung verbessern könnte."
   ]
  },
  {
   "cell_type": "code",
   "execution_count": null,
   "metadata": {},
   "outputs": [],
   "source": [
    "from sklearn.utils import class_weight\n",
    "\n",
    "class_weights = class_weight.compute_class_weight(\n",
    "    class_weight='balanced',\n",
    "    classes=np.unique(y_train),\n",
    "    y=y_train\n",
    ")\n",
    "class_weights = dict(enumerate(class_weights))\n",
    "\n",
    "# Beim Training des Modells\n",
    "cnn_model.fit(\n",
    "    X_train, y_train,\n",
    "    epochs=10,\n",
    "    batch_size=32,\n",
    "    validation_data=(X_val, y_val),\n",
    "    class_weight=class_weights\n",
    ")\n"
   ]
  }
 ],
 "metadata": {
  "kernelspec": {
   "display_name": ".venv",
   "language": "python",
   "name": "python3"
  },
  "language_info": {
   "codemirror_mode": {
    "name": "ipython",
    "version": 3
   },
   "file_extension": ".py",
   "mimetype": "text/x-python",
   "name": "python",
   "nbconvert_exporter": "python",
   "pygments_lexer": "ipython3",
   "version": "3.10.12"
  }
 },
 "nbformat": 4,
 "nbformat_minor": 2
}
