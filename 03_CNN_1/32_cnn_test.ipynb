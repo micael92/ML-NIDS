{
 "cells": [
  {
   "cell_type": "markdown",
   "metadata": {},
   "source": [
    "# CNN\n",
    "Laden des auf IDS17 trainierten Modells  \n",
    "Test auf IDS18 mit reduzierten Benign Daten"
   ]
  },
  {
   "cell_type": "code",
   "execution_count": null,
   "metadata": {},
   "outputs": [
    {
     "name": "stderr",
     "output_type": "stream",
     "text": [
      "2024-10-30 10:23:50.127706: I tensorflow/core/util/port.cc:153] oneDNN custom operations are on. You may see slightly different numerical results due to floating-point round-off errors from different computation orders. To turn them off, set the environment variable `TF_ENABLE_ONEDNN_OPTS=0`.\n",
      "2024-10-30 10:23:50.135142: E external/local_xla/xla/stream_executor/cuda/cuda_fft.cc:485] Unable to register cuFFT factory: Attempting to register factory for plugin cuFFT when one has already been registered\n",
      "2024-10-30 10:23:50.143369: E external/local_xla/xla/stream_executor/cuda/cuda_dnn.cc:8454] Unable to register cuDNN factory: Attempting to register factory for plugin cuDNN when one has already been registered\n",
      "2024-10-30 10:23:50.145778: E external/local_xla/xla/stream_executor/cuda/cuda_blas.cc:1452] Unable to register cuBLAS factory: Attempting to register factory for plugin cuBLAS when one has already been registered\n",
      "2024-10-30 10:23:50.152705: I tensorflow/core/platform/cpu_feature_guard.cc:210] This TensorFlow binary is optimized to use available CPU instructions in performance-critical operations.\n",
      "To enable the following instructions: AVX2 AVX_VNNI FMA, in other operations, rebuild TensorFlow with the appropriate compiler flags.\n",
      "2024-10-30 10:23:50.620676: W tensorflow/compiler/tf2tensorrt/utils/py_utils.cc:38] TF-TRT Warning: Could not find TensorRT\n"
     ]
    }
   ],
   "source": [
    "import os\n",
    "import logging\n",
    "import pandas as pd\n",
    "import numpy as np\n",
    "import matplotlib.pyplot as plt\n",
    "import seaborn as sns\n",
    "import tensorflow as tf\n",
    "import keras\n",
    "import joblib\n",
    "from sklearn.metrics import classification_report, confusion_matrix"
   ]
  },
  {
   "cell_type": "code",
   "execution_count": 2,
   "metadata": {},
   "outputs": [],
   "source": [
    "# Maximale Zeilen und Spalten anzeigen\n",
    "pd.set_option('display.max_rows', None)  # Zeilen\n",
    "pd.set_option('display.max_columns', None)  # Spalten\n",
    "\n",
    "# Logging Parameter\n",
    "logging.basicConfig(\n",
    "    #filename='32_cnn_test.log',\n",
    "    level=logging.INFO,\n",
    "    format='%(asctime)s - %(levelname)s - %(message)s',\n",
    "    datefmt='%Y-%m-%d %H:%M:%S'\n",
    ")\n",
    "\n",
    "# Verzeichnis der CSV-Dateien\n",
    "parquet_verzeichnis_ids17 = '../01_Datensaetze/improved_cic-ids-2017/ids17_parquet'\n",
    "parquet_verzeichnis_ids18 = '../01_Datensaetze/improved_cse-cic-ids-2018/ids18_parquet'"
   ]
  },
  {
   "cell_type": "markdown",
   "metadata": {},
   "source": [
    "### Laden von IDS18"
   ]
  },
  {
   "cell_type": "code",
   "execution_count": 8,
   "metadata": {},
   "outputs": [
    {
     "name": "stderr",
     "output_type": "stream",
     "text": [
      "2024-10-30 10:32:57 - INFO - Class distribution\n",
      "Label\n",
      "BENIGN                                          5935340\n",
      "DoS Hulk                                        1803160\n",
      "DDoS-LOIC-HTTP                                   289328\n",
      "Botnet Ares                                      142921\n",
      "SSH-BruteForce                                    94197\n",
      "Infiltration - NMAP Portscan                      89374\n",
      "DoS GoldenEye                                     22560\n",
      "DoS Slowloris                                      8490\n",
      "Web Attack - Brute Force                            131\n",
      "Web Attack - XSS                                    113\n",
      "Web Attack - SQL                                     39\n",
      "Infiltration - Communication Victim Attacker          0\n",
      "Infiltration - Dropbox Download                       0\n",
      "Infiltration - Dropbox Download - Attempted           0\n",
      "FTP-BruteForce - Attempted                            0\n",
      "Botnet Ares - Attempted                               0\n",
      "DDoS-HOIC                                             0\n",
      "Web Attack - Brute Force - Attempted                  0\n",
      "Web Attack - SQL - Attempted                          0\n",
      "Web Attack - XSS - Attempted                          0\n",
      "DoS Hulk - Attempted                                  0\n",
      "DDoS-LOIC-UDP - Attempted                             0\n",
      "DoS GoldenEye - Attempted                             0\n",
      "DDoS-LOIC-UDP                                         0\n",
      "DoS Slowloris - Attempted                             0\n",
      "Name: count, dtype: int64\n"
     ]
    }
   ],
   "source": [
    "# IDS18 Datensatz einlesen\n",
    "df = pd.read_parquet(os.path.join(parquet_verzeichnis_ids18 + '_prep_0'))\n",
    "logging.info(\"Class distribution\\n{}\".format(df.Label.value_counts()))"
   ]
  },
  {
   "cell_type": "code",
   "execution_count": 4,
   "metadata": {},
   "outputs": [
    {
     "data": {
      "text/plain": [
       "Index(['Dst Port', 'Protocol', 'Flow Duration', 'Total Fwd Packet',\n",
       "       'Total Bwd packets', 'Total Length of Fwd Packet',\n",
       "       'Total Length of Bwd Packet', 'Fwd Packet Length Max',\n",
       "       'Fwd Packet Length Min', 'Fwd Packet Length Mean',\n",
       "       'Fwd Packet Length Std', 'Bwd Packet Length Max',\n",
       "       'Bwd Packet Length Min', 'Bwd Packet Length Mean',\n",
       "       'Bwd Packet Length Std', 'Flow Bytes/s', 'Flow Packets/s',\n",
       "       'Flow IAT Mean', 'Flow IAT Std', 'Flow IAT Max', 'Flow IAT Min',\n",
       "       'Fwd IAT Total', 'Fwd IAT Mean', 'Fwd IAT Std', 'Fwd IAT Max',\n",
       "       'Fwd IAT Min', 'Bwd IAT Total', 'Bwd IAT Mean', 'Bwd IAT Std',\n",
       "       'Bwd IAT Max', 'Bwd IAT Min', 'Fwd PSH Flags', 'Bwd PSH Flags',\n",
       "       'Fwd URG Flags', 'Bwd URG Flags', 'Fwd RST Flags', 'Bwd RST Flags',\n",
       "       'Fwd Header Length', 'Bwd Header Length', 'Fwd Packets/s',\n",
       "       'Bwd Packets/s', 'Packet Length Min', 'Packet Length Max',\n",
       "       'Packet Length Mean', 'Packet Length Std', 'Packet Length Variance',\n",
       "       'FIN Flag Count', 'SYN Flag Count', 'RST Flag Count', 'PSH Flag Count',\n",
       "       'ACK Flag Count', 'URG Flag Count', 'CWR Flag Count', 'ECE Flag Count',\n",
       "       'Down/Up Ratio', 'Average Packet Size', 'Fwd Segment Size Avg',\n",
       "       'Bwd Segment Size Avg', 'Fwd Bytes/Bulk Avg', 'Fwd Packet/Bulk Avg',\n",
       "       'Fwd Bulk Rate Avg', 'Bwd Bytes/Bulk Avg', 'Bwd Packet/Bulk Avg',\n",
       "       'Bwd Bulk Rate Avg', 'Subflow Fwd Packets', 'Subflow Fwd Bytes',\n",
       "       'Subflow Bwd Packets', 'Subflow Bwd Bytes', 'FWD Init Win Bytes',\n",
       "       'Bwd Init Win Bytes', 'Fwd Act Data Pkts', 'Fwd Seg Size Min',\n",
       "       'Active Mean', 'Active Std', 'Active Max', 'Active Min', 'Idle Mean',\n",
       "       'Idle Std', 'Idle Max', 'Idle Min', 'ICMP Code', 'ICMP Type',\n",
       "       'Total TCP Flow Time', 'Label'],\n",
       "      dtype='object')"
      ]
     },
     "execution_count": 4,
     "metadata": {},
     "output_type": "execute_result"
    }
   ],
   "source": [
    "df.columns"
   ]
  },
  {
   "cell_type": "code",
   "execution_count": 5,
   "metadata": {},
   "outputs": [
    {
     "data": {
      "text/plain": [
       "(8385653, 84)"
      ]
     },
     "execution_count": 5,
     "metadata": {},
     "output_type": "execute_result"
    }
   ],
   "source": [
    "df.shape"
   ]
  },
  {
   "cell_type": "markdown",
   "metadata": {},
   "source": [
    "### Trennen von Features und Labels"
   ]
  },
  {
   "cell_type": "code",
   "execution_count": 9,
   "metadata": {},
   "outputs": [
    {
     "name": "stdout",
     "output_type": "stream",
     "text": [
      "Form von X: (8385653, 83)\n",
      "Form von y: (8385653,)\n"
     ]
    }
   ],
   "source": [
    "# Letzte Spalte 'Label' ist die Zielvariable\n",
    "\n",
    "X = df.iloc[:, :-1]  # Alle Spalten außer der letzten\n",
    "print(\"Form von X:\", X.shape)\n",
    "y = df.iloc[:, -1]   # Die letzte Spalte\n",
    "print(\"Form von y:\", y.shape)\n"
   ]
  },
  {
   "cell_type": "code",
   "execution_count": 10,
   "metadata": {},
   "outputs": [
    {
     "data": {
      "text/html": [
       "<div>\n",
       "<style scoped>\n",
       "    .dataframe tbody tr th:only-of-type {\n",
       "        vertical-align: middle;\n",
       "    }\n",
       "\n",
       "    .dataframe tbody tr th {\n",
       "        vertical-align: top;\n",
       "    }\n",
       "\n",
       "    .dataframe thead th {\n",
       "        text-align: right;\n",
       "    }\n",
       "</style>\n",
       "<table border=\"1\" class=\"dataframe\">\n",
       "  <thead>\n",
       "    <tr style=\"text-align: right;\">\n",
       "      <th></th>\n",
       "      <th>Dst Port</th>\n",
       "      <th>Protocol</th>\n",
       "      <th>Flow Duration</th>\n",
       "      <th>Total Fwd Packet</th>\n",
       "      <th>Total Bwd packets</th>\n",
       "      <th>Total Length of Fwd Packet</th>\n",
       "      <th>Total Length of Bwd Packet</th>\n",
       "      <th>Fwd Packet Length Max</th>\n",
       "      <th>Fwd Packet Length Min</th>\n",
       "      <th>Fwd Packet Length Mean</th>\n",
       "      <th>Fwd Packet Length Std</th>\n",
       "      <th>Bwd Packet Length Max</th>\n",
       "      <th>Bwd Packet Length Min</th>\n",
       "      <th>Bwd Packet Length Mean</th>\n",
       "      <th>Bwd Packet Length Std</th>\n",
       "      <th>Flow Bytes/s</th>\n",
       "      <th>Flow Packets/s</th>\n",
       "      <th>Flow IAT Mean</th>\n",
       "      <th>Flow IAT Std</th>\n",
       "      <th>Flow IAT Max</th>\n",
       "      <th>Flow IAT Min</th>\n",
       "      <th>Fwd IAT Total</th>\n",
       "      <th>Fwd IAT Mean</th>\n",
       "      <th>Fwd IAT Std</th>\n",
       "      <th>Fwd IAT Max</th>\n",
       "      <th>Fwd IAT Min</th>\n",
       "      <th>Bwd IAT Total</th>\n",
       "      <th>Bwd IAT Mean</th>\n",
       "      <th>Bwd IAT Std</th>\n",
       "      <th>Bwd IAT Max</th>\n",
       "      <th>Bwd IAT Min</th>\n",
       "      <th>Fwd PSH Flags</th>\n",
       "      <th>Bwd PSH Flags</th>\n",
       "      <th>Fwd URG Flags</th>\n",
       "      <th>Bwd URG Flags</th>\n",
       "      <th>Fwd RST Flags</th>\n",
       "      <th>Bwd RST Flags</th>\n",
       "      <th>Fwd Header Length</th>\n",
       "      <th>Bwd Header Length</th>\n",
       "      <th>Fwd Packets/s</th>\n",
       "      <th>Bwd Packets/s</th>\n",
       "      <th>Packet Length Min</th>\n",
       "      <th>Packet Length Max</th>\n",
       "      <th>Packet Length Mean</th>\n",
       "      <th>Packet Length Std</th>\n",
       "      <th>Packet Length Variance</th>\n",
       "      <th>FIN Flag Count</th>\n",
       "      <th>SYN Flag Count</th>\n",
       "      <th>RST Flag Count</th>\n",
       "      <th>PSH Flag Count</th>\n",
       "      <th>ACK Flag Count</th>\n",
       "      <th>URG Flag Count</th>\n",
       "      <th>CWR Flag Count</th>\n",
       "      <th>ECE Flag Count</th>\n",
       "      <th>Down/Up Ratio</th>\n",
       "      <th>Average Packet Size</th>\n",
       "      <th>Fwd Segment Size Avg</th>\n",
       "      <th>Bwd Segment Size Avg</th>\n",
       "      <th>Fwd Bytes/Bulk Avg</th>\n",
       "      <th>Fwd Packet/Bulk Avg</th>\n",
       "      <th>Fwd Bulk Rate Avg</th>\n",
       "      <th>Bwd Bytes/Bulk Avg</th>\n",
       "      <th>Bwd Packet/Bulk Avg</th>\n",
       "      <th>Bwd Bulk Rate Avg</th>\n",
       "      <th>Subflow Fwd Packets</th>\n",
       "      <th>Subflow Fwd Bytes</th>\n",
       "      <th>Subflow Bwd Packets</th>\n",
       "      <th>Subflow Bwd Bytes</th>\n",
       "      <th>FWD Init Win Bytes</th>\n",
       "      <th>Bwd Init Win Bytes</th>\n",
       "      <th>Fwd Act Data Pkts</th>\n",
       "      <th>Fwd Seg Size Min</th>\n",
       "      <th>Active Mean</th>\n",
       "      <th>Active Std</th>\n",
       "      <th>Active Max</th>\n",
       "      <th>Active Min</th>\n",
       "      <th>Idle Mean</th>\n",
       "      <th>Idle Std</th>\n",
       "      <th>Idle Max</th>\n",
       "      <th>Idle Min</th>\n",
       "      <th>ICMP Code</th>\n",
       "      <th>ICMP Type</th>\n",
       "      <th>Total TCP Flow Time</th>\n",
       "    </tr>\n",
       "  </thead>\n",
       "  <tbody>\n",
       "    <tr>\n",
       "      <th>0</th>\n",
       "      <td>3389</td>\n",
       "      <td>6</td>\n",
       "      <td>1876839</td>\n",
       "      <td>8</td>\n",
       "      <td>7</td>\n",
       "      <td>1144.0</td>\n",
       "      <td>1581.0</td>\n",
       "      <td>677.0</td>\n",
       "      <td>0.0</td>\n",
       "      <td>143.0</td>\n",
       "      <td>227.969925</td>\n",
       "      <td>1173.0</td>\n",
       "      <td>0.0</td>\n",
       "      <td>225.857147</td>\n",
       "      <td>430.098602</td>\n",
       "      <td>1451.909302</td>\n",
       "      <td>7.992161</td>\n",
       "      <td>134059.921875</td>\n",
       "      <td>245567.21875</td>\n",
       "      <td>953133.0</td>\n",
       "      <td>4.0</td>\n",
       "      <td>1876839.0</td>\n",
       "      <td>268119.84375</td>\n",
       "      <td>395317.375</td>\n",
       "      <td>1156259.0</td>\n",
       "      <td>4.0</td>\n",
       "      <td>1729590.0</td>\n",
       "      <td>288265.0</td>\n",
       "      <td>326312.25</td>\n",
       "      <td>953133.0</td>\n",
       "      <td>139432.0</td>\n",
       "      <td>5</td>\n",
       "      <td>5</td>\n",
       "      <td>0</td>\n",
       "      <td>0</td>\n",
       "      <td>1</td>\n",
       "      <td>0</td>\n",
       "      <td>172</td>\n",
       "      <td>152</td>\n",
       "      <td>4.262486</td>\n",
       "      <td>3.729675</td>\n",
       "      <td>0.0</td>\n",
       "      <td>1173.0</td>\n",
       "      <td>181.666672</td>\n",
       "      <td>327.253876</td>\n",
       "      <td>107095.095238</td>\n",
       "      <td>0</td>\n",
       "      <td>2</td>\n",
       "      <td>1</td>\n",
       "      <td>10</td>\n",
       "      <td>14</td>\n",
       "      <td>0</td>\n",
       "      <td>1.0</td>\n",
       "      <td>1.0</td>\n",
       "      <td>0.875</td>\n",
       "      <td>181.666667</td>\n",
       "      <td>143.0</td>\n",
       "      <td>225.857143</td>\n",
       "      <td>0.0</td>\n",
       "      <td>0.0</td>\n",
       "      <td>0.0</td>\n",
       "      <td>0.0</td>\n",
       "      <td>0.0</td>\n",
       "      <td>0.0</td>\n",
       "      <td>0.0</td>\n",
       "      <td>76.0</td>\n",
       "      <td>0.0</td>\n",
       "      <td>105.0</td>\n",
       "      <td>8192.0</td>\n",
       "      <td>62856.0</td>\n",
       "      <td>5.0</td>\n",
       "      <td>20.0</td>\n",
       "      <td>0.0</td>\n",
       "      <td>0.0</td>\n",
       "      <td>0.0</td>\n",
       "      <td>0.0</td>\n",
       "      <td>0.0</td>\n",
       "      <td>0.0</td>\n",
       "      <td>0.0</td>\n",
       "      <td>0.0</td>\n",
       "      <td>-1.0</td>\n",
       "      <td>-1.0</td>\n",
       "      <td>1876839.0</td>\n",
       "    </tr>\n",
       "    <tr>\n",
       "      <th>1</th>\n",
       "      <td>53</td>\n",
       "      <td>17</td>\n",
       "      <td>250</td>\n",
       "      <td>1</td>\n",
       "      <td>1</td>\n",
       "      <td>43.0</td>\n",
       "      <td>59.0</td>\n",
       "      <td>43.0</td>\n",
       "      <td>43.0</td>\n",
       "      <td>43.0</td>\n",
       "      <td>0.000000</td>\n",
       "      <td>59.0</td>\n",
       "      <td>59.0</td>\n",
       "      <td>59.000000</td>\n",
       "      <td>0.000000</td>\n",
       "      <td>408000.000000</td>\n",
       "      <td>8000.000000</td>\n",
       "      <td>250.000000</td>\n",
       "      <td>0.00000</td>\n",
       "      <td>250.0</td>\n",
       "      <td>250.0</td>\n",
       "      <td>0.0</td>\n",
       "      <td>0.00000</td>\n",
       "      <td>0.000</td>\n",
       "      <td>0.0</td>\n",
       "      <td>0.0</td>\n",
       "      <td>0.0</td>\n",
       "      <td>0.0</td>\n",
       "      <td>0.00</td>\n",
       "      <td>0.0</td>\n",
       "      <td>0.0</td>\n",
       "      <td>0</td>\n",
       "      <td>0</td>\n",
       "      <td>0</td>\n",
       "      <td>0</td>\n",
       "      <td>0</td>\n",
       "      <td>0</td>\n",
       "      <td>8</td>\n",
       "      <td>8</td>\n",
       "      <td>4000.000000</td>\n",
       "      <td>4000.000000</td>\n",
       "      <td>43.0</td>\n",
       "      <td>59.0</td>\n",
       "      <td>51.000000</td>\n",
       "      <td>11.313708</td>\n",
       "      <td>128.000000</td>\n",
       "      <td>0</td>\n",
       "      <td>0</td>\n",
       "      <td>0</td>\n",
       "      <td>0</td>\n",
       "      <td>0</td>\n",
       "      <td>0</td>\n",
       "      <td>0.0</td>\n",
       "      <td>0.0</td>\n",
       "      <td>1.000</td>\n",
       "      <td>51.000000</td>\n",
       "      <td>43.0</td>\n",
       "      <td>59.000000</td>\n",
       "      <td>0.0</td>\n",
       "      <td>0.0</td>\n",
       "      <td>0.0</td>\n",
       "      <td>0.0</td>\n",
       "      <td>0.0</td>\n",
       "      <td>0.0</td>\n",
       "      <td>0.0</td>\n",
       "      <td>21.0</td>\n",
       "      <td>0.0</td>\n",
       "      <td>29.0</td>\n",
       "      <td>0.0</td>\n",
       "      <td>0.0</td>\n",
       "      <td>0.0</td>\n",
       "      <td>8.0</td>\n",
       "      <td>0.0</td>\n",
       "      <td>0.0</td>\n",
       "      <td>0.0</td>\n",
       "      <td>0.0</td>\n",
       "      <td>0.0</td>\n",
       "      <td>0.0</td>\n",
       "      <td>0.0</td>\n",
       "      <td>0.0</td>\n",
       "      <td>-1.0</td>\n",
       "      <td>-1.0</td>\n",
       "      <td>0.0</td>\n",
       "    </tr>\n",
       "  </tbody>\n",
       "</table>\n",
       "</div>"
      ],
      "text/plain": [
       "   Dst Port Protocol  Flow Duration  Total Fwd Packet  Total Bwd packets  \\\n",
       "0      3389        6        1876839                 8                  7   \n",
       "1        53       17            250                 1                  1   \n",
       "\n",
       "   Total Length of Fwd Packet  Total Length of Bwd Packet  \\\n",
       "0                      1144.0                      1581.0   \n",
       "1                        43.0                        59.0   \n",
       "\n",
       "   Fwd Packet Length Max  Fwd Packet Length Min  Fwd Packet Length Mean  \\\n",
       "0                  677.0                    0.0                   143.0   \n",
       "1                   43.0                   43.0                    43.0   \n",
       "\n",
       "   Fwd Packet Length Std  Bwd Packet Length Max  Bwd Packet Length Min  \\\n",
       "0             227.969925                 1173.0                    0.0   \n",
       "1               0.000000                   59.0                   59.0   \n",
       "\n",
       "   Bwd Packet Length Mean  Bwd Packet Length Std   Flow Bytes/s  \\\n",
       "0              225.857147             430.098602    1451.909302   \n",
       "1               59.000000               0.000000  408000.000000   \n",
       "\n",
       "   Flow Packets/s  Flow IAT Mean  Flow IAT Std  Flow IAT Max  Flow IAT Min  \\\n",
       "0        7.992161  134059.921875  245567.21875      953133.0           4.0   \n",
       "1     8000.000000     250.000000       0.00000         250.0         250.0   \n",
       "\n",
       "   Fwd IAT Total  Fwd IAT Mean  Fwd IAT Std  Fwd IAT Max  Fwd IAT Min  \\\n",
       "0      1876839.0  268119.84375   395317.375    1156259.0          4.0   \n",
       "1            0.0       0.00000        0.000          0.0          0.0   \n",
       "\n",
       "   Bwd IAT Total  Bwd IAT Mean  Bwd IAT Std  Bwd IAT Max  Bwd IAT Min  \\\n",
       "0      1729590.0      288265.0    326312.25     953133.0     139432.0   \n",
       "1            0.0           0.0         0.00          0.0          0.0   \n",
       "\n",
       "   Fwd PSH Flags  Bwd PSH Flags  Fwd URG Flags  Bwd URG Flags  Fwd RST Flags  \\\n",
       "0              5              5              0              0              1   \n",
       "1              0              0              0              0              0   \n",
       "\n",
       "   Bwd RST Flags  Fwd Header Length  Bwd Header Length  Fwd Packets/s  \\\n",
       "0              0                172                152       4.262486   \n",
       "1              0                  8                  8    4000.000000   \n",
       "\n",
       "   Bwd Packets/s  Packet Length Min  Packet Length Max  Packet Length Mean  \\\n",
       "0       3.729675                0.0             1173.0          181.666672   \n",
       "1    4000.000000               43.0               59.0           51.000000   \n",
       "\n",
       "   Packet Length Std  Packet Length Variance  FIN Flag Count  SYN Flag Count  \\\n",
       "0         327.253876           107095.095238               0               2   \n",
       "1          11.313708              128.000000               0               0   \n",
       "\n",
       "   RST Flag Count  PSH Flag Count  ACK Flag Count  URG Flag Count  \\\n",
       "0               1              10              14               0   \n",
       "1               0               0               0               0   \n",
       "\n",
       "   CWR Flag Count  ECE Flag Count  Down/Up Ratio  Average Packet Size  \\\n",
       "0             1.0             1.0          0.875           181.666667   \n",
       "1             0.0             0.0          1.000            51.000000   \n",
       "\n",
       "   Fwd Segment Size Avg  Bwd Segment Size Avg  Fwd Bytes/Bulk Avg  \\\n",
       "0                 143.0            225.857143                 0.0   \n",
       "1                  43.0             59.000000                 0.0   \n",
       "\n",
       "   Fwd Packet/Bulk Avg  Fwd Bulk Rate Avg  Bwd Bytes/Bulk Avg  \\\n",
       "0                  0.0                0.0                 0.0   \n",
       "1                  0.0                0.0                 0.0   \n",
       "\n",
       "   Bwd Packet/Bulk Avg  Bwd Bulk Rate Avg  Subflow Fwd Packets  \\\n",
       "0                  0.0                0.0                  0.0   \n",
       "1                  0.0                0.0                  0.0   \n",
       "\n",
       "   Subflow Fwd Bytes  Subflow Bwd Packets  Subflow Bwd Bytes  \\\n",
       "0               76.0                  0.0              105.0   \n",
       "1               21.0                  0.0               29.0   \n",
       "\n",
       "   FWD Init Win Bytes  Bwd Init Win Bytes  Fwd Act Data Pkts  \\\n",
       "0              8192.0             62856.0                5.0   \n",
       "1                 0.0                 0.0                0.0   \n",
       "\n",
       "   Fwd Seg Size Min  Active Mean  Active Std  Active Max  Active Min  \\\n",
       "0              20.0          0.0         0.0         0.0         0.0   \n",
       "1               8.0          0.0         0.0         0.0         0.0   \n",
       "\n",
       "   Idle Mean  Idle Std  Idle Max  Idle Min  ICMP Code  ICMP Type  \\\n",
       "0        0.0       0.0       0.0       0.0       -1.0       -1.0   \n",
       "1        0.0       0.0       0.0       0.0       -1.0       -1.0   \n",
       "\n",
       "   Total TCP Flow Time  \n",
       "0            1876839.0  \n",
       "1                  0.0  "
      ]
     },
     "execution_count": 10,
     "metadata": {},
     "output_type": "execute_result"
    }
   ],
   "source": [
    "X.head(2)"
   ]
  },
  {
   "cell_type": "code",
   "execution_count": 11,
   "metadata": {},
   "outputs": [
    {
     "data": {
      "text/plain": [
       "0    BENIGN\n",
       "1    BENIGN\n",
       "Name: Label, dtype: category\n",
       "Categories (25, object): ['BENIGN', 'DoS Hulk', 'FTP-BruteForce - Attempted', 'SSH-BruteForce', ..., 'DoS GoldenEye', 'DoS GoldenEye - Attempted', 'DoS Slowloris', 'DoS Slowloris - Attempted']"
      ]
     },
     "execution_count": 11,
     "metadata": {},
     "output_type": "execute_result"
    }
   ],
   "source": [
    "y.head(2)"
   ]
  },
  {
   "cell_type": "markdown",
   "metadata": {},
   "source": [
    "### Label Encoding für y"
   ]
  },
  {
   "cell_type": "code",
   "execution_count": null,
   "metadata": {},
   "outputs": [],
   "source": [
    "label_encoder = joblib.load('label_encoder.pkl')\n",
    "y_encoded = label_encoder.fit_transform(y)"
   ]
  },
  {
   "cell_type": "code",
   "execution_count": 13,
   "metadata": {},
   "outputs": [
    {
     "name": "stdout",
     "output_type": "stream",
     "text": [
      "Einzigartige Labels: ['BENIGN' 'Botnet Ares' 'DDoS-LOIC-HTTP' 'DoS GoldenEye' 'DoS Hulk'\n",
      " 'DoS Slowloris' 'Infiltration - NMAP Portscan' 'SSH-BruteForce'\n",
      " 'Web Attack - Brute Force' 'Web Attack - SQL' 'Web Attack - XSS']\n",
      "Kodierte Labels: [ 0  1  2  3  4  5  6  7  8  9 10]\n"
     ]
    }
   ],
   "source": [
    "print(\"Einzigartige Labels:\", label_encoder.classes_)\n",
    "print(\"Kodierte Labels:\", np.unique(y_encoded))"
   ]
  },
  {
   "cell_type": "markdown",
   "metadata": {},
   "source": [
    "### Skallierung von X"
   ]
  },
  {
   "cell_type": "code",
   "execution_count": null,
   "metadata": {},
   "outputs": [],
   "source": [
    "scaler = joblib.load('scaler.pkl')\n",
    "X_scaled = scaler.fit_transform(X)\n",
    "print(\"Form von X:\", X.shape)\n",
    "print(\"Form von X_scaled:\", X_scaled.shape)"
   ]
  },
  {
   "cell_type": "markdown",
   "metadata": {},
   "source": [
    "### Umformen der Daten für das CNN"
   ]
  },
  {
   "cell_type": "code",
   "execution_count": 16,
   "metadata": {},
   "outputs": [
    {
     "name": "stdout",
     "output_type": "stream",
     "text": [
      "Form von X_reshaped: (8385653, 83, 1)\n"
     ]
    }
   ],
   "source": [
    "# Anzahl der Features\n",
    "num_features = X_scaled.shape[1]  # Sollte 83 sein\n",
    "\n",
    "# Umformen zu (Anzahl_Beispiele, num_features, 1)\n",
    "X_reshaped = X_scaled.reshape(-1, num_features, 1)\n",
    "print(\"Form von X_reshaped:\", X_reshaped.shape)  # Erwartet: (1923167, 83, 1)"
   ]
  },
  {
   "cell_type": "code",
   "execution_count": null,
   "metadata": {},
   "outputs": [],
   "source": [
    "X_test, y_test = X_reshaped, y_encoded\n",
    "X_test.shape, y_test.shape"
   ]
  },
  {
   "cell_type": "markdown",
   "metadata": {},
   "source": [
    "### Überprüfen der Klassenverteilung"
   ]
  },
  {
   "cell_type": "code",
   "execution_count": 19,
   "metadata": {},
   "outputs": [
    {
     "name": "stdout",
     "output_type": "stream",
     "text": [
      "Klassenverteilung in Testdatensatz:\n",
      "  Klasse 0: 5935340 Beispiele (70.78%)\n",
      "  Klasse 1: 142921 Beispiele (1.70%)\n",
      "  Klasse 2: 289328 Beispiele (3.45%)\n",
      "  Klasse 3: 22560 Beispiele (0.27%)\n",
      "  Klasse 4: 1803160 Beispiele (21.50%)\n",
      "  Klasse 5: 8490 Beispiele (0.10%)\n",
      "  Klasse 6: 89374 Beispiele (1.07%)\n",
      "  Klasse 7: 94197 Beispiele (1.12%)\n",
      "  Klasse 8: 131 Beispiele (0.00%)\n",
      "  Klasse 9: 39 Beispiele (0.00%)\n",
      "  Klasse 10: 113 Beispiele (0.00%)\n",
      "\n"
     ]
    }
   ],
   "source": [
    "def print_class_distribution(y, dataset_name):\n",
    "    unique, counts = np.unique(y, return_counts=True)\n",
    "    total = len(y)\n",
    "    print(f\"Klassenverteilung in {dataset_name}:\")\n",
    "    for cls, count in zip(unique, counts):\n",
    "        print(f\"  Klasse {cls}: {count} Beispiele ({(count/total)*100:.2f}%)\")\n",
    "    print()\n",
    "\n",
    "print_class_distribution(y_test, \"Testdatensatz\")"
   ]
  },
  {
   "cell_type": "markdown",
   "metadata": {},
   "source": [
    "### Laden des Modells"
   ]
  },
  {
   "cell_type": "code",
   "execution_count": 20,
   "metadata": {},
   "outputs": [
    {
     "name": "stderr",
     "output_type": "stream",
     "text": [
      "WARNING: All log messages before absl::InitializeLog() is called are written to STDERR\n",
      "I0000 00:00:1730280951.952619  776658 cuda_executor.cc:1001] could not open file to read NUMA node: /sys/bus/pci/devices/0000:01:00.0/numa_node\n",
      "Your kernel may have been built without NUMA support.\n",
      "I0000 00:00:1730280952.060268  776658 cuda_executor.cc:1001] could not open file to read NUMA node: /sys/bus/pci/devices/0000:01:00.0/numa_node\n",
      "Your kernel may have been built without NUMA support.\n",
      "I0000 00:00:1730280952.060610  776658 cuda_executor.cc:1001] could not open file to read NUMA node: /sys/bus/pci/devices/0000:01:00.0/numa_node\n",
      "Your kernel may have been built without NUMA support.\n",
      "I0000 00:00:1730280952.076061  776658 cuda_executor.cc:1001] could not open file to read NUMA node: /sys/bus/pci/devices/0000:01:00.0/numa_node\n",
      "Your kernel may have been built without NUMA support.\n",
      "I0000 00:00:1730280952.076310  776658 cuda_executor.cc:1001] could not open file to read NUMA node: /sys/bus/pci/devices/0000:01:00.0/numa_node\n",
      "Your kernel may have been built without NUMA support.\n",
      "I0000 00:00:1730280952.076330  776658 cuda_executor.cc:1001] could not open file to read NUMA node: /sys/bus/pci/devices/0000:01:00.0/numa_node\n",
      "Your kernel may have been built without NUMA support.\n",
      "I0000 00:00:1730280952.274814  776658 cuda_executor.cc:1001] could not open file to read NUMA node: /sys/bus/pci/devices/0000:01:00.0/numa_node\n",
      "Your kernel may have been built without NUMA support.\n",
      "I0000 00:00:1730280952.275135  776658 cuda_executor.cc:1001] could not open file to read NUMA node: /sys/bus/pci/devices/0000:01:00.0/numa_node\n",
      "Your kernel may have been built without NUMA support.\n",
      "2024-10-30 10:35:52.276152: I tensorflow/core/common_runtime/gpu/gpu_device.cc:2112] Could not identify NUMA node of platform GPU id 0, defaulting to 0.  Your kernel may not have been built with NUMA support.\n",
      "I0000 00:00:1730280952.276229  776658 cuda_executor.cc:1001] could not open file to read NUMA node: /sys/bus/pci/devices/0000:01:00.0/numa_node\n",
      "Your kernel may have been built without NUMA support.\n",
      "2024-10-30 10:35:52.276540: I tensorflow/core/common_runtime/gpu/gpu_device.cc:2021] Created device /job:localhost/replica:0/task:0/device:GPU:0 with 5563 MB memory:  -> device: 0, name: NVIDIA GeForce RTX 4060, pci bus id: 0000:01:00.0, compute capability: 8.9\n",
      "2024-10-30 10:35:53 - WARNING - Compiled the loaded model, but the compiled metrics have yet to be built. `model.compile_metrics` will be empty until you train or evaluate the model.\n"
     ]
    }
   ],
   "source": [
    "# from tensorflow import keras\n",
    "# import joblib\n",
    "\n",
    "# Laden des Modells\n",
    "cnn_model = keras.models.load_model('ids17_cnn_model.h5')\n",
    "\n",
    "# Laden des Label Encoders und Scalers\n",
    "# label_encoder = joblib.load('label_encoder.pkl')\n",
    "# scaler = joblib.load('scaler.pkl')"
   ]
  },
  {
   "cell_type": "markdown",
   "metadata": {},
   "source": [
    "### Evaluierung des Modells auf dem Testdatensatz"
   ]
  },
  {
   "cell_type": "code",
   "execution_count": 21,
   "metadata": {},
   "outputs": [
    {
     "name": "stderr",
     "output_type": "stream",
     "text": [
      "WARNING: All log messages before absl::InitializeLog() is called are written to STDERR\n",
      "I0000 00:00:1730280963.133281  779002 service.cc:146] XLA service 0x7f5148004a30 initialized for platform CUDA (this does not guarantee that XLA will be used). Devices:\n",
      "I0000 00:00:1730280963.133484  779002 service.cc:154]   StreamExecutor device (0): NVIDIA GeForce RTX 4060, Compute Capability 8.9\n",
      "2024-10-30 10:36:03.164047: I tensorflow/compiler/mlir/tensorflow/utils/dump_mlir_util.cc:268] disabling MLIR crash reproducer, set env var `MLIR_CRASH_REPRODUCER_DIRECTORY` to enable.\n",
      "2024-10-30 10:36:03.213528: I external/local_xla/xla/stream_executor/cuda/cuda_dnn.cc:531] Loaded cuDNN version 8907\n"
     ]
    },
    {
     "name": "stdout",
     "output_type": "stream",
     "text": [
      "\u001b[1m   186/262052\u001b[0m \u001b[37m━━━━━━━━━━━━━━━━━━━━\u001b[0m \u001b[1m3:33\u001b[0m 816us/step - loss: 0.0705 - sparse_categorical_accuracy: 0.9896      "
     ]
    },
    {
     "name": "stderr",
     "output_type": "stream",
     "text": [
      "I0000 00:00:1730280963.720695  779002 device_compiler.h:188] Compiled cluster using XLA!  This line is logged at most once for the lifetime of the process.\n"
     ]
    },
    {
     "name": "stdout",
     "output_type": "stream",
     "text": [
      "\u001b[1m262052/262052\u001b[0m \u001b[32m━━━━━━━━━━━━━━━━━━━━\u001b[0m\u001b[37m\u001b[0m \u001b[1m269s\u001b[0m 1ms/step - loss: 4.2425 - sparse_categorical_accuracy: 0.7650\n",
      "Testverlust: 4.2553\n",
      "Testgenauigkeit: 0.7642\n"
     ]
    }
   ],
   "source": [
    "test_loss, test_accuracy = cnn_model.evaluate(X_test, y_test)\n",
    "print(f\"Testverlust: {test_loss:.4f}\")\n",
    "print(f\"Testgenauigkeit: {test_accuracy:.4f}\")"
   ]
  },
  {
   "cell_type": "markdown",
   "metadata": {},
   "source": [
    "### Klassifikationsbericht und eine Konfusionsmatrix"
   ]
  },
  {
   "cell_type": "code",
   "execution_count": 22,
   "metadata": {},
   "outputs": [
    {
     "name": "stdout",
     "output_type": "stream",
     "text": [
      "\u001b[1m262052/262052\u001b[0m \u001b[32m━━━━━━━━━━━━━━━━━━━━\u001b[0m\u001b[37m\u001b[0m \u001b[1m180s\u001b[0m 687us/step\n"
     ]
    },
    {
     "name": "stderr",
     "output_type": "stream",
     "text": [
      "/home/michi/BA/.venv/lib/python3.10/site-packages/sklearn/metrics/_classification.py:1531: UndefinedMetricWarning: Precision is ill-defined and being set to 0.0 in labels with no predicted samples. Use `zero_division` parameter to control this behavior.\n",
      "  _warn_prf(average, modifier, f\"{metric.capitalize()} is\", len(result))\n",
      "/home/michi/BA/.venv/lib/python3.10/site-packages/sklearn/metrics/_classification.py:1531: UndefinedMetricWarning: Precision is ill-defined and being set to 0.0 in labels with no predicted samples. Use `zero_division` parameter to control this behavior.\n",
      "  _warn_prf(average, modifier, f\"{metric.capitalize()} is\", len(result))\n",
      "/home/michi/BA/.venv/lib/python3.10/site-packages/sklearn/metrics/_classification.py:1531: UndefinedMetricWarning: Precision is ill-defined and being set to 0.0 in labels with no predicted samples. Use `zero_division` parameter to control this behavior.\n",
      "  _warn_prf(average, modifier, f\"{metric.capitalize()} is\", len(result))\n"
     ]
    },
    {
     "name": "stdout",
     "output_type": "stream",
     "text": [
      "                              precision    recall  f1-score   support\n",
      "\n",
      "                      BENIGN       0.75      0.99      0.86   5935340\n",
      "                 Botnet Ares       1.00      1.00      1.00    142921\n",
      "              DDoS-LOIC-HTTP       1.00      0.97      0.98    289328\n",
      "               DoS GoldenEye       0.96      0.84      0.90     22560\n",
      "                    DoS Hulk       0.00      0.00      0.00   1803160\n",
      "               DoS Slowloris       0.96      0.41      0.57      8490\n",
      "Infiltration - NMAP Portscan       0.70      0.85      0.77     89374\n",
      "              SSH-BruteForce       0.00      0.00      0.00     94197\n",
      "    Web Attack - Brute Force       0.00      0.00      0.00       131\n",
      "            Web Attack - SQL       0.00      0.00      0.00        39\n",
      "            Web Attack - XSS       0.45      0.94      0.61       113\n",
      "\n",
      "                    accuracy                           0.76   8385653\n",
      "                   macro avg       0.53      0.54      0.52   8385653\n",
      "                weighted avg       0.60      0.76      0.67   8385653\n",
      "\n",
      "Konfusionsmatrix:\n",
      "[[5888435      42     923     527   13351     136   31925       0       0\n",
      "        0       1]\n",
      " [    709  142212       0       0       0       0       0       0       0\n",
      "        0       0]\n",
      " [   9964       0  279364       0       0       0       0       0       0\n",
      "        0       0]\n",
      " [   3606       0       0   18954       0       0       0       0       0\n",
      "        0       0]\n",
      " [1802977       0       0       0       1       0     182       0       0\n",
      "        0       0]\n",
      " [   4958       0       0       0       0    3446      86       0       0\n",
      "        0       0]\n",
      " [  12780       0     196     197       0       0   76201       0       0\n",
      "        0       0]\n",
      " [  94197       0       0       0       0       0       0       0       0\n",
      "        0       0]\n",
      " [      5       0       0       0       0       0       0       0       0\n",
      "        0     126]\n",
      " [     39       0       0       0       0       0       0       0       0\n",
      "        0       0]\n",
      " [      7       0       0       0       0       0       0       0       0\n",
      "        0     106]]\n"
     ]
    }
   ],
   "source": [
    "# Vorhersagen auf dem Testdatensatz\n",
    "y_pred_prob = cnn_model.predict(X_test)\n",
    "y_pred_classes = np.argmax(y_pred_prob, axis=1)\n",
    "\n",
    "# Klassifikationsbericht\n",
    "print(classification_report(y_test, y_pred_classes, target_names=label_encoder.classes_))\n",
    "\n",
    "# Konfusionsmatrix\n",
    "cm = confusion_matrix(y_test, y_pred_classes)\n",
    "print(\"Konfusionsmatrix:\")\n",
    "print(cm)"
   ]
  },
  {
   "cell_type": "markdown",
   "metadata": {},
   "source": [
    "Visualisierung der Konfusionsmatrix"
   ]
  },
  {
   "cell_type": "code",
   "execution_count": 23,
   "metadata": {},
   "outputs": [
    {
     "data": {
      "image/png": "[encoded data removed]",
      "text/plain": [
       "<Figure size 1000x800 with 2 Axes>"
      ]
     },
     "metadata": {},
     "output_type": "display_data"
    }
   ],
   "source": [
    "plt.figure(figsize=(10, 8))\n",
    "sns.heatmap(cm, annot=True, fmt='d', cmap='Blues',\n",
    "            xticklabels=label_encoder.classes_,\n",
    "            yticklabels=label_encoder.classes_)\n",
    "plt.xlabel('Vorhergesagte Klasse')\n",
    "plt.ylabel('Wahre Klasse')\n",
    "plt.title('Konfusionsmatrix')\n",
    "plt.show()\n"
   ]
  },
  {
   "cell_type": "markdown",
   "metadata": {},
   "source": [
    "### Wichtige Überlegungen\n",
    "- Hyperparameter-Tuning: Experimentieren Sie mit der Anzahl der Epochen, der Batch-Größe, der Lernrate und anderen Hyperparametern, um die Modellleistung zu verbessern.\n",
    "- Klassengewichtung: Wenn Ihr Datensatz unausgewogen ist, können Sie Klassengewichte verwenden, um das Modell zu sensibilisieren.\n",
    "- Cross-Validation: Für eine robustere Bewertung könnten Sie Kreuzvalidierungstechniken anwenden.\n",
    "- Feature-Engineering: Überlegen Sie, ob zusätzliche Feature-Auswahl oder -Extraktion die Leistung verbessern könnte."
   ]
  },
  {
   "cell_type": "code",
   "execution_count": null,
   "metadata": {},
   "outputs": [],
   "source": [
    "from sklearn.utils import class_weight\n",
    "\n",
    "class_weights = class_weight.compute_class_weight(\n",
    "    class_weight='balanced',\n",
    "    classes=np.unique(y_train),\n",
    "    y=y_train\n",
    ")\n",
    "class_weights = dict(enumerate(class_weights))\n",
    "\n",
    "# Beim Training des Modells\n",
    "cnn_model.fit(\n",
    "    X_train, y_train,\n",
    "    epochs=10,\n",
    "    batch_size=32,\n",
    "    validation_data=(X_val, y_val),\n",
    "    class_weight=class_weights\n",
    ")\n"
   ]
  }
 ],
 "metadata": {
  "kernelspec": {
   "display_name": ".venv",
   "language": "python",
   "name": "python3"
  },
  "language_info": {
   "codemirror_mode": {
    "name": "ipython",
    "version": 3
   },
   "file_extension": ".py",
   "mimetype": "text/x-python",
   "name": "python",
   "nbconvert_exporter": "python",
   "pygments_lexer": "ipython3",
   "version": "3.10.12"
  }
 },
 "nbformat": 4,
 "nbformat_minor": 2
}
