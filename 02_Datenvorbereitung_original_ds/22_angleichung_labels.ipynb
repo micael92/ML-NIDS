{
 "cells": [
  {
   "cell_type": "markdown",
   "metadata": {},
   "source": [
    "# Angleichung der Label Bezeichnungnen beider Datensätze"
   ]
  },
  {
   "cell_type": "code",
   "execution_count": 1,
   "metadata": {},
   "outputs": [],
   "source": [
    "import os \n",
    "import pandas as pd\n",
    "import logging\n",
    "import multiprocessing as mp"
   ]
  },
  {
   "cell_type": "code",
   "execution_count": 2,
   "metadata": {},
   "outputs": [],
   "source": [
    "# Logging Parameter\n",
    "logging.basicConfig(\n",
    "    filename='22_angleichung_labels.log',\n",
    "    level=logging.INFO,\n",
    "    format='%(asctime)s - %(levelname)s - %(message)s',\n",
    "    datefmt='%Y-%m-%d %H:%M:%S'\n",
    ")\n",
    "\n",
    "# Verzeichnis der original CSV-Dateien\n",
    "verzeichnis_ids17 = '../01_Datensaetze/cic-ids-2017/CSV'\n",
    "verzeichnis_ids18 = '../01_Datensaetze/cse-cic-ids2018/CSV'\n",
    "\n",
    "# Mapping von CICIDS2018-Label-Bezeichnungen zu CICIDS2017-Label-Bezeichnungen\n",
    "mapping_2018_to_2017 = {\n",
    "    \"Benign\": \"BENIGN\",\n",
    "    \"DoS attacks-Hulk\": \"DoS Hulk\",\n",
    "    \"DoS attacks-GoldenEye\": \"DoS GoldenEye\",\n",
    "    \"FTP-BruteForce\": \"FTP-Patator\",\n",
    "    \"SSH-Bruteforce\": \"SSH-Patator\",\n",
    "    \"DoS attacks-Slowloris\": \"DoS slowloris\",\n",
    "    \"DoS attacks-SlowHTTPTest\": \"DoS Slowhttptest\",\n",
    "    \"DDoS attacks-LOIC-HTTP\": \"DDoS\",\n",
    "    \"DDOS attack-HOIC\": \"DDoS\",\n",
    "    \"DDOS attack-LOIC-UDP\": \"DDoS\",\n",
    "    \"Infilteration\": \"Infiltration\",\n",
    "    \"Bot\": \"Bot\",\n",
    "    \"Brute Force -Web\": \"Web Attack-Brute Force\",\n",
    "    \"Brute Force -XSS\": \"Web Attack-XSS\",\n",
    "    \"SQL Injection\": \"Web Attack-Sql Injection\"\n",
    "}"
   ]
  },
  {
   "cell_type": "code",
   "execution_count": 22,
   "metadata": {},
   "outputs": [],
   "source": [
    "# ids17\n",
    "ids17_labels = []\n",
    "for datei in os.listdir(verzeichnis_ids17):\n",
    "    if datei.endswith('.csv'):\n",
    "        pfad_zur_datei = os.path.join(verzeichnis_ids17, datei)\n",
    "        df = pd.read_csv(pfad_zur_datei, nrows=None)\n",
    "        ids17_labels.extend(df['Label'].unique())\n",
    "        #print(f\"Datei: {datei}\\n\", df.value_counts('Label'), \"\\n-----------------\")"
   ]
  },
  {
   "cell_type": "code",
   "execution_count": 24,
   "metadata": {},
   "outputs": [
    {
     "data": {
      "text/plain": [
       "{'BENIGN',\n",
       " 'Bot',\n",
       " 'DDoS',\n",
       " 'DoS GoldenEye',\n",
       " 'DoS Hulk',\n",
       " 'DoS Slowhttptest',\n",
       " 'DoS slowloris',\n",
       " 'FTP-Patator',\n",
       " 'Heartbleed',\n",
       " 'Infiltration',\n",
       " 'PortScan',\n",
       " 'SSH-Patator',\n",
       " 'Web Attack � Brute Force',\n",
       " 'Web Attack � Sql Injection',\n",
       " 'Web Attack � XSS'}"
      ]
     },
     "execution_count": 24,
     "metadata": {},
     "output_type": "execute_result"
    }
   ],
   "source": [
    "ids17_labels = set(ids17_labels)\n",
    "ids17_labels"
   ]
  },
  {
   "cell_type": "code",
   "execution_count": 13,
   "metadata": {},
   "outputs": [
    {
     "name": "stderr",
     "output_type": "stream",
     "text": [
      "/tmp/ipykernel_324158/3551583726.py:6: DtypeWarning: Columns (0,1,2,3,4,5,6,7,8,9,10,11,12,13,14,15,16,17,18,19,20,21,22,23,24,25,26,27,28,29,30,31,32,33,34,35,36,37,38,39,40,41,42,43,44,45,46,47,48,49,50,51,52,53,54,55,56,57,58,59,60,61,62,63,64,65,66,67,68,69,70,71,72,73,74,75,76) have mixed types. Specify dtype option on import or set low_memory=False.\n",
      "  df = pd.read_csv(pfad_zur_datei, nrows=None)\n",
      "/tmp/ipykernel_324158/3551583726.py:6: DtypeWarning: Columns (0,1,2,3,4,5,6,7,8,9,10,11,12,13,14,15,16,17,18,19,20,21,22,23,24,25,26,27,28,29,30,31,32,33,34,35,36,37,38,39,40,41,42,43,44,45,46,47,48,49,50,51,52,53,54,55,56,57,58,59,60,61,62,63,64,65,66,67,68,69,70,71,72,73,74,75,76) have mixed types. Specify dtype option on import or set low_memory=False.\n",
      "  df = pd.read_csv(pfad_zur_datei, nrows=None)\n",
      "/tmp/ipykernel_324158/3551583726.py:6: DtypeWarning: Columns (0,1,2,3,4,5,6,7,8,9,10,11,12,13,14,15,16,17,18,19,20,21,22,23,24,25,26,27,28,29,30,31,32,33,34,35,36,37,38,39,40,41,42,43,44,45,46,47,48,49,50,51,52,53,54,55,56,57,58,59,60,61,62,63,64,65,66,67,68,69,70,71,72,73,74,75,76) have mixed types. Specify dtype option on import or set low_memory=False.\n",
      "  df = pd.read_csv(pfad_zur_datei, nrows=None)\n"
     ]
    }
   ],
   "source": [
    "# ids18\n",
    "ids18_labels = []\n",
    "for datei in os.listdir(verzeichnis_ids18):\n",
    "    if datei.endswith('.csv'):\n",
    "        pfad_zur_datei = os.path.join(verzeichnis_ids18, datei)\n",
    "        df = pd.read_csv(pfad_zur_datei, nrows=None)\n",
    "        ids18_labels.extend(df['Label'].unique())\n",
    "        #print(f\"Datei: {datei}\\n\", df.value_counts('Label'), \"\\n-----------------\")"
   ]
  },
  {
   "cell_type": "code",
   "execution_count": 26,
   "metadata": {},
   "outputs": [
    {
     "data": {
      "text/plain": [
       "{'Benign',\n",
       " 'Bot',\n",
       " 'Brute Force -Web',\n",
       " 'Brute Force -XSS',\n",
       " 'DDOS attack-HOIC',\n",
       " 'DDOS attack-LOIC-UDP',\n",
       " 'DDoS attacks-LOIC-HTTP',\n",
       " 'DoS attacks-GoldenEye',\n",
       " 'DoS attacks-Hulk',\n",
       " 'DoS attacks-SlowHTTPTest',\n",
       " 'DoS attacks-Slowloris',\n",
       " 'FTP-BruteForce',\n",
       " 'Infilteration',\n",
       " 'Label',\n",
       " 'SQL Injection',\n",
       " 'SSH-Bruteforce'}"
      ]
     },
     "execution_count": 26,
     "metadata": {},
     "output_type": "execute_result"
    }
   ],
   "source": [
    "ids18_labels = set(ids18_labels)\n",
    "ids18_labels"
   ]
  }
 ],
 "metadata": {
  "kernelspec": {
   "display_name": ".venv",
   "language": "python",
   "name": "python3"
  },
  "language_info": {
   "codemirror_mode": {
    "name": "ipython",
    "version": 3
   },
   "file_extension": ".py",
   "mimetype": "text/x-python",
   "name": "python",
   "nbconvert_exporter": "python",
   "pygments_lexer": "ipython3",
   "version": "3.10.12"
  }
 },
 "nbformat": 4,
 "nbformat_minor": 2
}
